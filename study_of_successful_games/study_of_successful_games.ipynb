{
 "cells": [
  {
   "cell_type": "markdown",
   "metadata": {},
   "source": [
    "# Изучение закономерностей, определяющих успешность игр"
   ]
  },
  {
   "cell_type": "markdown",
   "metadata": {},
   "source": [
    "В нашем распоряжении исторические данные из открытых источников о продажах игр, оценки пользователей и экспертов, жанры и платформы.\n",
    "\n",
    "Попробуем выявить определяющие успешность игры закономерности, чтобы сделать ставку на потенциально популярный продукт."
   ]
  },
  {
   "cell_type": "markdown",
   "metadata": {},
   "source": [
    "## Изучение данных из файла"
   ]
  },
  {
   "cell_type": "markdown",
   "metadata": {},
   "source": [
    "Составим первое впечатление о таблицах. Испортируем все библиотеки, которые в дальнейшем будем использовать, прочтем файлы."
   ]
  },
  {
   "cell_type": "code",
   "execution_count": 1,
   "metadata": {},
   "outputs": [
    {
     "data": {
      "text/html": [
       "<div>\n",
       "<style scoped>\n",
       "    .dataframe tbody tr th:only-of-type {\n",
       "        vertical-align: middle;\n",
       "    }\n",
       "\n",
       "    .dataframe tbody tr th {\n",
       "        vertical-align: top;\n",
       "    }\n",
       "\n",
       "    .dataframe thead th {\n",
       "        text-align: right;\n",
       "    }\n",
       "</style>\n",
       "<table border=\"1\" class=\"dataframe\">\n",
       "  <thead>\n",
       "    <tr style=\"text-align: right;\">\n",
       "      <th></th>\n",
       "      <th>Name</th>\n",
       "      <th>Platform</th>\n",
       "      <th>Year_of_Release</th>\n",
       "      <th>Genre</th>\n",
       "      <th>NA_sales</th>\n",
       "      <th>EU_sales</th>\n",
       "      <th>JP_sales</th>\n",
       "      <th>Other_sales</th>\n",
       "      <th>Critic_Score</th>\n",
       "      <th>User_Score</th>\n",
       "      <th>Rating</th>\n",
       "    </tr>\n",
       "  </thead>\n",
       "  <tbody>\n",
       "    <tr>\n",
       "      <th>0</th>\n",
       "      <td>Wii Sports</td>\n",
       "      <td>Wii</td>\n",
       "      <td>2006.0</td>\n",
       "      <td>Sports</td>\n",
       "      <td>41.36</td>\n",
       "      <td>28.96</td>\n",
       "      <td>3.77</td>\n",
       "      <td>8.45</td>\n",
       "      <td>76.0</td>\n",
       "      <td>8</td>\n",
       "      <td>E</td>\n",
       "    </tr>\n",
       "    <tr>\n",
       "      <th>1</th>\n",
       "      <td>Super Mario Bros.</td>\n",
       "      <td>NES</td>\n",
       "      <td>1985.0</td>\n",
       "      <td>Platform</td>\n",
       "      <td>29.08</td>\n",
       "      <td>3.58</td>\n",
       "      <td>6.81</td>\n",
       "      <td>0.77</td>\n",
       "      <td>NaN</td>\n",
       "      <td>NaN</td>\n",
       "      <td>NaN</td>\n",
       "    </tr>\n",
       "    <tr>\n",
       "      <th>2</th>\n",
       "      <td>Mario Kart Wii</td>\n",
       "      <td>Wii</td>\n",
       "      <td>2008.0</td>\n",
       "      <td>Racing</td>\n",
       "      <td>15.68</td>\n",
       "      <td>12.76</td>\n",
       "      <td>3.79</td>\n",
       "      <td>3.29</td>\n",
       "      <td>82.0</td>\n",
       "      <td>8.3</td>\n",
       "      <td>E</td>\n",
       "    </tr>\n",
       "    <tr>\n",
       "      <th>3</th>\n",
       "      <td>Wii Sports Resort</td>\n",
       "      <td>Wii</td>\n",
       "      <td>2009.0</td>\n",
       "      <td>Sports</td>\n",
       "      <td>15.61</td>\n",
       "      <td>10.93</td>\n",
       "      <td>3.28</td>\n",
       "      <td>2.95</td>\n",
       "      <td>80.0</td>\n",
       "      <td>8</td>\n",
       "      <td>E</td>\n",
       "    </tr>\n",
       "    <tr>\n",
       "      <th>4</th>\n",
       "      <td>Pokemon Red/Pokemon Blue</td>\n",
       "      <td>GB</td>\n",
       "      <td>1996.0</td>\n",
       "      <td>Role-Playing</td>\n",
       "      <td>11.27</td>\n",
       "      <td>8.89</td>\n",
       "      <td>10.22</td>\n",
       "      <td>1.00</td>\n",
       "      <td>NaN</td>\n",
       "      <td>NaN</td>\n",
       "      <td>NaN</td>\n",
       "    </tr>\n",
       "  </tbody>\n",
       "</table>\n",
       "</div>"
      ],
      "text/plain": [
       "                       Name Platform  Year_of_Release         Genre  NA_sales  \\\n",
       "0                Wii Sports      Wii           2006.0        Sports     41.36   \n",
       "1         Super Mario Bros.      NES           1985.0      Platform     29.08   \n",
       "2            Mario Kart Wii      Wii           2008.0        Racing     15.68   \n",
       "3         Wii Sports Resort      Wii           2009.0        Sports     15.61   \n",
       "4  Pokemon Red/Pokemon Blue       GB           1996.0  Role-Playing     11.27   \n",
       "\n",
       "   EU_sales  JP_sales  Other_sales  Critic_Score User_Score Rating  \n",
       "0     28.96      3.77         8.45          76.0          8      E  \n",
       "1      3.58      6.81         0.77           NaN        NaN    NaN  \n",
       "2     12.76      3.79         3.29          82.0        8.3      E  \n",
       "3     10.93      3.28         2.95          80.0          8      E  \n",
       "4      8.89     10.22         1.00           NaN        NaN    NaN  "
      ]
     },
     "metadata": {},
     "output_type": "display_data"
    },
    {
     "name": "stdout",
     "output_type": "stream",
     "text": [
      "<class 'pandas.core.frame.DataFrame'>\n",
      "RangeIndex: 16715 entries, 0 to 16714\n",
      "Data columns (total 11 columns):\n",
      " #   Column           Non-Null Count  Dtype  \n",
      "---  ------           --------------  -----  \n",
      " 0   Name             16713 non-null  object \n",
      " 1   Platform         16715 non-null  object \n",
      " 2   Year_of_Release  16446 non-null  float64\n",
      " 3   Genre            16713 non-null  object \n",
      " 4   NA_sales         16715 non-null  float64\n",
      " 5   EU_sales         16715 non-null  float64\n",
      " 6   JP_sales         16715 non-null  float64\n",
      " 7   Other_sales      16715 non-null  float64\n",
      " 8   Critic_Score     8137 non-null   float64\n",
      " 9   User_Score       10014 non-null  object \n",
      " 10  Rating           9949 non-null   object \n",
      "dtypes: float64(6), object(5)\n",
      "memory usage: 1.4+ MB\n"
     ]
    }
   ],
   "source": [
    "import pandas as pd\n",
    "from IPython.display import display\n",
    "import warnings\n",
    "warnings.filterwarnings('ignore')\n",
    "import matplotlib.pyplot as plt\n",
    "from scipy import stats as st\n",
    "import numpy as np\n",
    "\n",
    "data = pd.read_csv('/datasets/games.csv')\n",
    "# выведем первые 5 строк и информацию о таблице\n",
    "display(data.head())\n",
    "data.info()"
   ]
  },
  {
   "cell_type": "markdown",
   "metadata": {},
   "source": [
    "В таблице 11 столбцов и 16715 строк.\n",
    "\n",
    "Согласно документации к данным:\n",
    "- Name — название игры\n",
    "- Platform — платформа\n",
    "- Year_of_Release — год выпуска\n",
    "- Genre — жанр игры\n",
    "- NA_sales — продажи в Северной Америке (миллионы проданных копий)\n",
    "- EU_sales — продажи в Европе (миллионы проданных копий)\n",
    "- JP_sales — продажи в Японии (миллионы проданных копий)\n",
    "- Other_sales — продажи в других странах (миллионы проданных копий)\n",
    "- Critic_Score — оценка критиков (максимум 100)\n",
    "- User_Score — оценка пользователей (максимум 10)\n",
    "- Rating — рейтинг от организации ESRB (англ. Entertainment Software Rating Board). Эта ассоциация определяет рейтинг компьютерных игр и присваивает им подходящую возрастную категорию."
   ]
  },
  {
   "cell_type": "markdown",
   "metadata": {},
   "source": [
    "### Вывод\n",
    "\n",
    "Для дальнейшей анализа данные необходимо обработать:\n",
    "- заполнить пропущенные значения (при необходимости)\n",
    "- удалить дубликаты (если они имеются)\n",
    "- привести названия столбцов к нижнему регистру\n",
    "- преобразовать типы\n"
   ]
  },
  {
   "cell_type": "markdown",
   "metadata": {},
   "source": [
    "## Подготовка данных"
   ]
  },
  {
   "cell_type": "code",
   "execution_count": 2,
   "metadata": {},
   "outputs": [],
   "source": [
    "# приведем названия столбцов к нижнему регистру\n",
    "data.columns = [column.lower() for column in data.columns]"
   ]
  },
  {
   "cell_type": "markdown",
   "metadata": {},
   "source": [
    "Заменим типы данных в столбцах:\n",
    "- year_of_release на формат даты\n",
    "- user_score на float, т.к. столбцес содержит числовые данные"
   ]
  },
  {
   "cell_type": "code",
   "execution_count": 3,
   "metadata": {},
   "outputs": [],
   "source": [
    "data['year_of_release'] = pd.to_datetime(data['year_of_release'], format='%Y')"
   ]
  },
  {
   "cell_type": "markdown",
   "metadata": {},
   "source": [
    "Перевести столбец user_score в формат float сразу не удается, т.к. некоторые строки содержат значение 'tbd', что значит 'будет определено' - заменим значение в данных строках на nan, а затем поменяем формат столбца."
   ]
  },
  {
   "cell_type": "code",
   "execution_count": 4,
   "metadata": {},
   "outputs": [],
   "source": [
    "data.loc[data['user_score'] == 'tbd', 'user_score'] = float('nan')\n",
    "\n",
    "data['user_score'] = pd.to_numeric(data['user_score'])\n"
   ]
  },
  {
   "cell_type": "code",
   "execution_count": 5,
   "metadata": {},
   "outputs": [
    {
     "name": "stdout",
     "output_type": "stream",
     "text": [
      "name: количество пропусков - 2, процент пропусков -  0.0% \n",
      "platform: количество пропусков - 0, процент пропусков -  0.0% \n",
      "year_of_release: количество пропусков - 269, процент пропусков -  1.6% \n",
      "genre: количество пропусков - 2, процент пропусков -  0.0% \n",
      "na_sales: количество пропусков - 0, процент пропусков -  0.0% \n",
      "eu_sales: количество пропусков - 0, процент пропусков -  0.0% \n",
      "jp_sales: количество пропусков - 0, процент пропусков -  0.0% \n",
      "other_sales: количество пропусков - 0, процент пропусков -  0.0% \n",
      "critic_score: количество пропусков - 8578, процент пропусков -  51.3% \n",
      "user_score: количество пропусков - 9125, процент пропусков -  54.6% \n",
      "rating: количество пропусков - 6766, процент пропусков -  40.5% \n"
     ]
    }
   ],
   "source": [
    "# напишем функцию для определения числа пропусков\n",
    "def passage(columns):\n",
    "    kol = len(data.loc[data[columns].isna(), columns])\n",
    "    percent = kol/ len(data)\n",
    "    print(f'{columns}: количество пропусков - {kol}, процент пропусков - {percent: 0.1%} ')\n",
    "    \n",
    "for column in data.columns:\n",
    "    passage(column)"
   ]
  },
  {
   "cell_type": "markdown",
   "metadata": {},
   "source": [
    "В столбцах name и genre пропущено по 2 строки со значениями - посмотрим на них."
   ]
  },
  {
   "cell_type": "code",
   "execution_count": 6,
   "metadata": {},
   "outputs": [
    {
     "data": {
      "text/html": [
       "<div>\n",
       "<style scoped>\n",
       "    .dataframe tbody tr th:only-of-type {\n",
       "        vertical-align: middle;\n",
       "    }\n",
       "\n",
       "    .dataframe tbody tr th {\n",
       "        vertical-align: top;\n",
       "    }\n",
       "\n",
       "    .dataframe thead th {\n",
       "        text-align: right;\n",
       "    }\n",
       "</style>\n",
       "<table border=\"1\" class=\"dataframe\">\n",
       "  <thead>\n",
       "    <tr style=\"text-align: right;\">\n",
       "      <th></th>\n",
       "      <th>name</th>\n",
       "      <th>platform</th>\n",
       "      <th>year_of_release</th>\n",
       "      <th>genre</th>\n",
       "      <th>na_sales</th>\n",
       "      <th>eu_sales</th>\n",
       "      <th>jp_sales</th>\n",
       "      <th>other_sales</th>\n",
       "      <th>critic_score</th>\n",
       "      <th>user_score</th>\n",
       "      <th>rating</th>\n",
       "    </tr>\n",
       "  </thead>\n",
       "  <tbody>\n",
       "    <tr>\n",
       "      <th>659</th>\n",
       "      <td>NaN</td>\n",
       "      <td>GEN</td>\n",
       "      <td>1993-01-01</td>\n",
       "      <td>NaN</td>\n",
       "      <td>1.78</td>\n",
       "      <td>0.53</td>\n",
       "      <td>0.00</td>\n",
       "      <td>0.08</td>\n",
       "      <td>NaN</td>\n",
       "      <td>NaN</td>\n",
       "      <td>NaN</td>\n",
       "    </tr>\n",
       "    <tr>\n",
       "      <th>14244</th>\n",
       "      <td>NaN</td>\n",
       "      <td>GEN</td>\n",
       "      <td>1993-01-01</td>\n",
       "      <td>NaN</td>\n",
       "      <td>0.00</td>\n",
       "      <td>0.00</td>\n",
       "      <td>0.03</td>\n",
       "      <td>0.00</td>\n",
       "      <td>NaN</td>\n",
       "      <td>NaN</td>\n",
       "      <td>NaN</td>\n",
       "    </tr>\n",
       "  </tbody>\n",
       "</table>\n",
       "</div>"
      ],
      "text/plain": [
       "      name platform year_of_release genre  na_sales  eu_sales  jp_sales  \\\n",
       "659    NaN      GEN      1993-01-01   NaN      1.78      0.53      0.00   \n",
       "14244  NaN      GEN      1993-01-01   NaN      0.00      0.00      0.03   \n",
       "\n",
       "       other_sales  critic_score  user_score rating  \n",
       "659           0.08           NaN         NaN    NaN  \n",
       "14244         0.00           NaN         NaN    NaN  "
      ]
     },
     "execution_count": 6,
     "metadata": {},
     "output_type": "execute_result"
    }
   ],
   "source": [
    "data[data['name'].isna()]"
   ]
  },
  {
   "cell_type": "markdown",
   "metadata": {},
   "source": [
    "Как мы видим - эти пропущенные строки совпадают для обоих столбцов, также в них пропущены значения и по 3 крайним правым стобцам. Удалим эти строки.\n",
    "\n",
    "% пропусков в столбце year_of_release небольшой - удалим эти строки тоже."
   ]
  },
  {
   "cell_type": "code",
   "execution_count": 7,
   "metadata": {},
   "outputs": [],
   "source": [
    "data = data[~data['name'].isna()]\n",
    "\n",
    "data = data[~data['year_of_release'].isna()]"
   ]
  },
  {
   "cell_type": "markdown",
   "metadata": {},
   "source": [
    "Заполнение пропусков в столбцах с рейтингами (3 крайних правых) нежелательно, т.к. это может повлечь за собой искажение результатов дальнейшего анализа ввиду того, что процент пропусков очень большой."
   ]
  },
  {
   "cell_type": "code",
   "execution_count": 8,
   "metadata": {},
   "outputs": [
    {
     "data": {
      "text/plain": [
       "0"
      ]
     },
     "execution_count": 8,
     "metadata": {},
     "output_type": "execute_result"
    }
   ],
   "source": [
    "# проверим, есть ли в данных явные дубликаты\n",
    "data.duplicated().sum()"
   ]
  },
  {
   "cell_type": "code",
   "execution_count": 9,
   "metadata": {},
   "outputs": [],
   "source": [
    "# добавим столбец total_sales с суммарными продажами по всем регионам\n",
    "data['total_sales'] = data['na_sales'] + data['eu_sales'] + data['jp_sales'] + data['other_sales']"
   ]
  },
  {
   "cell_type": "markdown",
   "metadata": {},
   "source": [
    "### Вывод\n",
    "\n",
    "При подготовке данных мы:\n",
    "- заменили типы данных у 2 столбцов : year_of_release на формат даты, user_score на float \n",
    "- привели названия столбцов к нижнему регистру\n",
    "- удалили строки с пропущенными значениями в стобцах name, genre, year_of_release\n",
    "- оставили пропуски в столбцах critic_score, score_score, rating (чтобы не исказались данные при дальнейшем анализе)\n",
    "- добавили дополнительный столбце с суммарными продажами total_sales \n",
    "\n",
    "Таким обраом наши данные готовы для анализа."
   ]
  },
  {
   "cell_type": "markdown",
   "metadata": {},
   "source": [
    "## Исследовательский анализ данных"
   ]
  },
  {
   "cell_type": "markdown",
   "metadata": {},
   "source": [
    "Для начала посмотрим, сколько игр выпускалось за каждый год, чтобы понять важны ли нам все данные или можем ограничиться их частью."
   ]
  },
  {
   "cell_type": "code",
   "execution_count": 10,
   "metadata": {},
   "outputs": [
    {
     "data": {
      "image/png": "[encoded data removed]",
      "text/plain": [
       "<Figure size 1080x360 with 1 Axes>"
      ]
     },
     "metadata": {
      "needs_background": "light"
     },
     "output_type": "display_data"
    }
   ],
   "source": [
    "data['year_of_release'] = pd.DatetimeIndex(data['year_of_release']).year\n",
    "\n",
    "data.groupby('year_of_release')['name'].count().plot(kind='bar', figsize=(15, 5))\n",
    "plt.title(\"Распределние кол-ва игр по годам выпуска\")\n",
    "plt.xlabel(\"Год релиза\")\n",
    "plt.ylabel('Кол-во игр')\n",
    "plt.show()"
   ]
  },
  {
   "cell_type": "markdown",
   "metadata": {},
   "source": [
    "По распределению выше видим, что рост выпуска игр на рынок начался с 1994 года, при этом только с 2000х годов пошел резки скачок по выпуску.\n",
    "\n",
    "Посмотрим, как менялись продажи по платформам."
   ]
  },
  {
   "cell_type": "code",
   "execution_count": 11,
   "metadata": {
    "scrolled": true
   },
   "outputs": [],
   "source": [
    "platforms = data.groupby('platform')['total_sales'].sum().reset_index().sort_values(by='total_sales',ascending=False).reset_index(drop=True).head(10)\n",
    "\n",
    "# создадим список из 10 платфор с самыми большими суммарными продажами\n",
    "top_platform = []\n",
    "for platform in platforms['platform']:\n",
    "    top_platform.append(platform)"
   ]
  },
  {
   "cell_type": "code",
   "execution_count": 12,
   "metadata": {},
   "outputs": [
    {
     "data": {
      "image/png": "[encoded data removed]",
      "text/plain": [
       "<Figure size 1440x360 with 1 Axes>"
      ]
     },
     "metadata": {
      "needs_background": "light"
     },
     "output_type": "display_data"
    }
   ],
   "source": [
    "# отобразим данные на графике\n",
    "pivot_top_platform = data.query(\"platform in @top_platform\").pivot_table(index='year_of_release', columns='platform', values='total_sales', aggfunc='sum')\n",
    "pivot_top_platform.plot(figsize=(20, 5), style='--', grid=True)\n",
    "plt.xlim(1994, 2017)\n",
    "plt.xlabel('Год')\n",
    "plt.ylabel('Кол-во проданных игр, млн')\n",
    "plt.show()"
   ]
  },
  {
   "cell_type": "markdown",
   "metadata": {},
   "source": [
    "Из графика видно, что платформы появляются и исчезают. Рассчитаем средний срок существования платформ."
   ]
  },
  {
   "cell_type": "code",
   "execution_count": 13,
   "metadata": {},
   "outputs": [
    {
     "name": "stdout",
     "output_type": "stream",
     "text": [
      "Средний срок существования платформ 9.7 лет\n"
     ]
    }
   ],
   "source": [
    "total, count = 0, 0\n",
    "for platform in top_platform:\n",
    "    total +=(~pivot_top_platform.reset_index()[platform].isna()).sum()\n",
    "    count +=1\n",
    "\n",
    "print(\"Средний срок существования платформ\", total/count, \"лет\")\n"
   ]
  },
  {
   "cell_type": "markdown",
   "metadata": {},
   "source": [
    "Ввиду того, что средний срок существования платформ приблизительно равен 10 лет - в дальнейшем анилизе будем учитывать данные только с 2007 года."
   ]
  },
  {
   "cell_type": "code",
   "execution_count": 14,
   "metadata": {},
   "outputs": [
    {
     "data": {
      "text/html": [
       "<div>\n",
       "<style scoped>\n",
       "    .dataframe tbody tr th:only-of-type {\n",
       "        vertical-align: middle;\n",
       "    }\n",
       "\n",
       "    .dataframe tbody tr th {\n",
       "        vertical-align: top;\n",
       "    }\n",
       "\n",
       "    .dataframe thead th {\n",
       "        text-align: right;\n",
       "    }\n",
       "</style>\n",
       "<table border=\"1\" class=\"dataframe\">\n",
       "  <thead>\n",
       "    <tr style=\"text-align: right;\">\n",
       "      <th></th>\n",
       "      <th>platform</th>\n",
       "      <th>total_sales</th>\n",
       "    </tr>\n",
       "  </thead>\n",
       "  <tbody>\n",
       "    <tr>\n",
       "      <th>0</th>\n",
       "      <td>PS3</td>\n",
       "      <td>910.38</td>\n",
       "    </tr>\n",
       "    <tr>\n",
       "      <th>1</th>\n",
       "      <td>X360</td>\n",
       "      <td>901.37</td>\n",
       "    </tr>\n",
       "    <tr>\n",
       "      <th>2</th>\n",
       "      <td>Wii</td>\n",
       "      <td>754.03</td>\n",
       "    </tr>\n",
       "    <tr>\n",
       "      <th>3</th>\n",
       "      <td>DS</td>\n",
       "      <td>535.54</td>\n",
       "    </tr>\n",
       "    <tr>\n",
       "      <th>4</th>\n",
       "      <td>PS4</td>\n",
       "      <td>314.14</td>\n",
       "    </tr>\n",
       "    <tr>\n",
       "      <th>5</th>\n",
       "      <td>3DS</td>\n",
       "      <td>257.81</td>\n",
       "    </tr>\n",
       "    <tr>\n",
       "      <th>6</th>\n",
       "      <td>PSP</td>\n",
       "      <td>183.31</td>\n",
       "    </tr>\n",
       "    <tr>\n",
       "      <th>7</th>\n",
       "      <td>PS2</td>\n",
       "      <td>162.38</td>\n",
       "    </tr>\n",
       "    <tr>\n",
       "      <th>8</th>\n",
       "      <td>PC</td>\n",
       "      <td>160.57</td>\n",
       "    </tr>\n",
       "    <tr>\n",
       "      <th>9</th>\n",
       "      <td>XOne</td>\n",
       "      <td>159.32</td>\n",
       "    </tr>\n",
       "  </tbody>\n",
       "</table>\n",
       "</div>"
      ],
      "text/plain": [
       "  platform  total_sales\n",
       "0      PS3       910.38\n",
       "1     X360       901.37\n",
       "2      Wii       754.03\n",
       "3       DS       535.54\n",
       "4      PS4       314.14\n",
       "5      3DS       257.81\n",
       "6      PSP       183.31\n",
       "7      PS2       162.38\n",
       "8       PC       160.57\n",
       "9     XOne       159.32"
      ]
     },
     "execution_count": 14,
     "metadata": {},
     "output_type": "execute_result"
    }
   ],
   "source": [
    "# найдем топ самых прибыльных за последние 10 лет платформ\n",
    "platforms = data.query('year_of_release >= 2007').pivot_table(index='platform', values='total_sales', aggfunc='sum').reset_index().sort_values(by='total_sales', ascending=False).reset_index(drop=True).head(10)\n",
    "\n",
    "top_platform = []\n",
    "for platform in platforms['platform']:\n",
    "    top_platform.append(platform)\n",
    "\n",
    "platforms"
   ]
  },
  {
   "cell_type": "code",
   "execution_count": 15,
   "metadata": {},
   "outputs": [
    {
     "data": {
      "image/png": "[encoded data removed]",
      "text/plain": [
       "<Figure size 1440x360 with 1 Axes>"
      ]
     },
     "metadata": {
      "needs_background": "light"
     },
     "output_type": "display_data"
    }
   ],
   "source": [
    "pivot_top_platform = data.query(\"platform in @top_platform and year_of_release >= 2007\").pivot_table(index='year_of_release', columns='platform', values='total_sales', aggfunc='sum')\n",
    "pivot_top_platform.plot(figsize=(20, 5), style='--', grid=True)\n",
    "plt.xlim(2007, 2017)\n",
    "plt.xlabel('Год')\n",
    "plt.ylabel('Кол-во проданных игр, млн')\n",
    "plt.show()"
   ]
  },
  {
   "cell_type": "markdown",
   "metadata": {},
   "source": [
    "Как видно из графика выше - самые прибыльные за последние 10 лет платформы(PS3, X360, Wii) теряют свою актуальность продаж падают), зато появились новые платформы (PS4, XOne, 3DS), у которых суммарная выручка меньше, но зато продажи растут.\n",
    "\n",
    "По 3 наиболее актуальным на данный момент платформам построим бокс-плоты."
   ]
  },
  {
   "cell_type": "code",
   "execution_count": 16,
   "metadata": {},
   "outputs": [
    {
     "data": {
      "image/png": "[encoded data removed]",
      "text/plain": [
       "<Figure size 432x288 with 1 Axes>"
      ]
     },
     "metadata": {
      "needs_background": "light"
     },
     "output_type": "display_data"
    }
   ],
   "source": [
    "data.query(\"platform in ['PS4', 'XOne', '3DS']\").boxplot(column='total_sales', by='platform')\n",
    "plt.ylim(0, 1.75)\n",
    "plt.xlabel('Платформа')\n",
    "plt.ylabel('Кол-во проданных игр, млн')\n",
    "plt.title('Распределение выручки от продажи игр на перспективных платформах',\n",
    "         fontdict={'fontweight':'bold'}, pad=15, size=14)\n",
    "plt.show()"
   ]
  },
  {
   "cell_type": "markdown",
   "metadata": {},
   "source": [
    "Из 3 перспективных платформ у XOne самая большая медиана по продажам, немного ей уступает PS4.\n",
    "\n",
    "Посмотрим для каждой из этих платформ, влияют ли на продажи отзовы пользователей и критиков (есть ли между ними корреляция)."
   ]
  },
  {
   "cell_type": "code",
   "execution_count": 17,
   "metadata": {
    "scrolled": false
   },
   "outputs": [
    {
     "data": {
      "image/png": "[encoded data removed]",
      "text/plain": [
       "<Figure size 432x288 with 1 Axes>"
      ]
     },
     "metadata": {
      "needs_background": "light"
     },
     "output_type": "display_data"
    },
    {
     "data": {
      "image/png": "[encoded data removed]",
      "text/plain": [
       "<Figure size 432x288 with 1 Axes>"
      ]
     },
     "metadata": {
      "needs_background": "light"
     },
     "output_type": "display_data"
    },
    {
     "data": {
      "image/png": "[encoded data removed]",
      "text/plain": [
       "<Figure size 432x288 with 1 Axes>"
      ]
     },
     "metadata": {
      "needs_background": "light"
     },
     "output_type": "display_data"
    }
   ],
   "source": [
    "# построим диаграммы рассеяния для каждой платформы \n",
    "top_platform = ['PS4', 'XOne', '3DS']\n",
    "\n",
    "for platform in top_platform:\n",
    "    data.query('platform == @platform')[['critic_score', 'user_score', 'total_sales']].plot(kind='scatter', x='critic_score', y='total_sales')\n",
    "    plt.xlabel('Рейтинг критиков')\n",
    "    plt.ylabel('Кол-во проданных игр, млн')\n",
    "    plt.title(f'Взаимосвязь продаж и рейтинга критиков для платформы {platform}',\n",
    "         fontdict={'fontweight':'bold'}, pad=15, size=14)\n",
    "    plt.show()\n"
   ]
  },
  {
   "cell_type": "code",
   "execution_count": 18,
   "metadata": {},
   "outputs": [
    {
     "data": {
      "image/png": "[encoded data removed]",
      "text/plain": [
       "<Figure size 432x288 with 1 Axes>"
      ]
     },
     "metadata": {
      "needs_background": "light"
     },
     "output_type": "display_data"
    },
    {
     "data": {
      "image/png": "[encoded data removed]",
      "text/plain": [
       "<Figure size 432x288 with 1 Axes>"
      ]
     },
     "metadata": {
      "needs_background": "light"
     },
     "output_type": "display_data"
    },
    {
     "data": {
      "image/png": "[encoded data removed]",
      "text/plain": [
       "<Figure size 432x288 with 1 Axes>"
      ]
     },
     "metadata": {
      "needs_background": "light"
     },
     "output_type": "display_data"
    }
   ],
   "source": [
    "for platform in top_platform:\n",
    "    data.query('platform == @platform')[['critic_score', 'user_score', 'total_sales']].plot(kind='scatter', x='user_score', y='total_sales')\n",
    "    plt.xlabel('Рейтинг критиков')\n",
    "    plt.ylabel('Кол-во проданных игр, млн')\n",
    "    plt.title(f'Взаимосвязь продаж и рейтинга пользователей для платформы {platform}',\n",
    "         fontdict={'fontweight':'bold'}, pad=15, size=14)\n",
    "    plt.show()"
   ]
  },
  {
   "cell_type": "code",
   "execution_count": 19,
   "metadata": {
    "scrolled": true
   },
   "outputs": [
    {
     "name": "stdout",
     "output_type": "stream",
     "text": [
      "Корреляция между продажами и рейтингом критиков и пользвателей для игр на платформе PS4\n"
     ]
    },
    {
     "data": {
      "text/html": [
       "<style  type=\"text/css\" >\n",
       "#T_fcfd2_row0_col0,#T_fcfd2_row1_col1,#T_fcfd2_row2_col2{\n",
       "            background-color:  #b40426;\n",
       "            color:  #f1f1f1;\n",
       "        }#T_fcfd2_row0_col1{\n",
       "            background-color:  #edd1c2;\n",
       "            color:  #000000;\n",
       "        }#T_fcfd2_row0_col2{\n",
       "            background-color:  #c7d7f0;\n",
       "            color:  #000000;\n",
       "        }#T_fcfd2_row1_col0{\n",
       "            background-color:  #8fb1fe;\n",
       "            color:  #000000;\n",
       "        }#T_fcfd2_row1_col2,#T_fcfd2_row2_col0,#T_fcfd2_row2_col1{\n",
       "            background-color:  #3b4cc0;\n",
       "            color:  #f1f1f1;\n",
       "        }</style><table id=\"T_fcfd2_\" ><thead>    <tr>        <th class=\"blank level0\" ></th>        <th class=\"col_heading level0 col0\" >critic_score</th>        <th class=\"col_heading level0 col1\" >user_score</th>        <th class=\"col_heading level0 col2\" >total_sales</th>    </tr></thead><tbody>\n",
       "                <tr>\n",
       "                        <th id=\"T_fcfd2_level0_row0\" class=\"row_heading level0 row0\" >critic_score</th>\n",
       "                        <td id=\"T_fcfd2_row0_col0\" class=\"data row0 col0\" >1.00</td>\n",
       "                        <td id=\"T_fcfd2_row0_col1\" class=\"data row0 col1\" >0.56</td>\n",
       "                        <td id=\"T_fcfd2_row0_col2\" class=\"data row0 col2\" >0.41</td>\n",
       "            </tr>\n",
       "            <tr>\n",
       "                        <th id=\"T_fcfd2_level0_row1\" class=\"row_heading level0 row1\" >user_score</th>\n",
       "                        <td id=\"T_fcfd2_row1_col0\" class=\"data row1 col0\" >0.56</td>\n",
       "                        <td id=\"T_fcfd2_row1_col1\" class=\"data row1 col1\" >1.00</td>\n",
       "                        <td id=\"T_fcfd2_row1_col2\" class=\"data row1 col2\" >-0.03</td>\n",
       "            </tr>\n",
       "            <tr>\n",
       "                        <th id=\"T_fcfd2_level0_row2\" class=\"row_heading level0 row2\" >total_sales</th>\n",
       "                        <td id=\"T_fcfd2_row2_col0\" class=\"data row2 col0\" >0.41</td>\n",
       "                        <td id=\"T_fcfd2_row2_col1\" class=\"data row2 col1\" >-0.03</td>\n",
       "                        <td id=\"T_fcfd2_row2_col2\" class=\"data row2 col2\" >1.00</td>\n",
       "            </tr>\n",
       "    </tbody></table>"
      ],
      "text/plain": [
       "<pandas.io.formats.style.Styler at 0x7f51b864c4f0>"
      ]
     },
     "execution_count": 19,
     "metadata": {},
     "output_type": "execute_result"
    }
   ],
   "source": [
    "# подкрепим полученные выше графики матрицами корреляции\n",
    "data_corr = data.query('platform == \"PS4\"')[['critic_score', 'user_score', 'total_sales']].corr()\n",
    "print('Корреляция между продажами и рейтингом критиков и пользвателей для игр на платформе PS4')\n",
    "data_corr.style.background_gradient(cmap='coolwarm').set_precision(2)"
   ]
  },
  {
   "cell_type": "code",
   "execution_count": 20,
   "metadata": {},
   "outputs": [
    {
     "name": "stdout",
     "output_type": "stream",
     "text": [
      "Корреляция между продажами и рейтингом критиков и пользвателей для игр на платформе XOne\n"
     ]
    },
    {
     "data": {
      "text/html": [
       "<style  type=\"text/css\" >\n",
       "#T_97a5b_row0_col0,#T_97a5b_row1_col1,#T_97a5b_row2_col2{\n",
       "            background-color:  #b40426;\n",
       "            color:  #f1f1f1;\n",
       "        }#T_97a5b_row0_col1{\n",
       "            background-color:  #dedcdb;\n",
       "            color:  #000000;\n",
       "        }#T_97a5b_row0_col2{\n",
       "            background-color:  #d1dae9;\n",
       "            color:  #000000;\n",
       "        }#T_97a5b_row1_col0{\n",
       "            background-color:  #5875e1;\n",
       "            color:  #000000;\n",
       "        }#T_97a5b_row1_col2,#T_97a5b_row2_col0,#T_97a5b_row2_col1{\n",
       "            background-color:  #3b4cc0;\n",
       "            color:  #f1f1f1;\n",
       "        }</style><table id=\"T_97a5b_\" ><thead>    <tr>        <th class=\"blank level0\" ></th>        <th class=\"col_heading level0 col0\" >critic_score</th>        <th class=\"col_heading level0 col1\" >user_score</th>        <th class=\"col_heading level0 col2\" >total_sales</th>    </tr></thead><tbody>\n",
       "                <tr>\n",
       "                        <th id=\"T_97a5b_level0_row0\" class=\"row_heading level0 row0\" >critic_score</th>\n",
       "                        <td id=\"T_97a5b_row0_col0\" class=\"data row0 col0\" >1.00</td>\n",
       "                        <td id=\"T_97a5b_row0_col1\" class=\"data row0 col1\" >0.47</td>\n",
       "                        <td id=\"T_97a5b_row0_col2\" class=\"data row0 col2\" >0.42</td>\n",
       "            </tr>\n",
       "            <tr>\n",
       "                        <th id=\"T_97a5b_level0_row1\" class=\"row_heading level0 row1\" >user_score</th>\n",
       "                        <td id=\"T_97a5b_row1_col0\" class=\"data row1 col0\" >0.47</td>\n",
       "                        <td id=\"T_97a5b_row1_col1\" class=\"data row1 col1\" >1.00</td>\n",
       "                        <td id=\"T_97a5b_row1_col2\" class=\"data row1 col2\" >-0.07</td>\n",
       "            </tr>\n",
       "            <tr>\n",
       "                        <th id=\"T_97a5b_level0_row2\" class=\"row_heading level0 row2\" >total_sales</th>\n",
       "                        <td id=\"T_97a5b_row2_col0\" class=\"data row2 col0\" >0.42</td>\n",
       "                        <td id=\"T_97a5b_row2_col1\" class=\"data row2 col1\" >-0.07</td>\n",
       "                        <td id=\"T_97a5b_row2_col2\" class=\"data row2 col2\" >1.00</td>\n",
       "            </tr>\n",
       "    </tbody></table>"
      ],
      "text/plain": [
       "<pandas.io.formats.style.Styler at 0x7f51b8661220>"
      ]
     },
     "execution_count": 20,
     "metadata": {},
     "output_type": "execute_result"
    }
   ],
   "source": [
    "data_corr = data.query('platform == \"XOne\"')[['critic_score', 'user_score', 'total_sales']].corr()\n",
    "print('Корреляция между продажами и рейтингом критиков и пользвателей для игр на платформе XOne')\n",
    "data_corr.style.background_gradient(cmap='coolwarm').set_precision(2)"
   ]
  },
  {
   "cell_type": "code",
   "execution_count": 21,
   "metadata": {},
   "outputs": [
    {
     "name": "stdout",
     "output_type": "stream",
     "text": [
      "Корреляция между продажами и рейтингом критиков и пользвателей для игр на платформе 3DS\n"
     ]
    },
    {
     "data": {
      "text/html": [
       "<style  type=\"text/css\" >\n",
       "#T_d3905_row0_col0,#T_d3905_row1_col1,#T_d3905_row2_col2{\n",
       "            background-color:  #b40426;\n",
       "            color:  #f1f1f1;\n",
       "        }#T_d3905_row0_col1{\n",
       "            background-color:  #f7b599;\n",
       "            color:  #000000;\n",
       "        }#T_d3905_row0_col2{\n",
       "            background-color:  #6e90f2;\n",
       "            color:  #000000;\n",
       "        }#T_d3905_row1_col0{\n",
       "            background-color:  #f2c9b4;\n",
       "            color:  #000000;\n",
       "        }#T_d3905_row1_col2,#T_d3905_row2_col0,#T_d3905_row2_col1{\n",
       "            background-color:  #3b4cc0;\n",
       "            color:  #f1f1f1;\n",
       "        }</style><table id=\"T_d3905_\" ><thead>    <tr>        <th class=\"blank level0\" ></th>        <th class=\"col_heading level0 col0\" >critic_score</th>        <th class=\"col_heading level0 col1\" >user_score</th>        <th class=\"col_heading level0 col2\" >total_sales</th>    </tr></thead><tbody>\n",
       "                <tr>\n",
       "                        <th id=\"T_d3905_level0_row0\" class=\"row_heading level0 row0\" >critic_score</th>\n",
       "                        <td id=\"T_d3905_row0_col0\" class=\"data row0 col0\" >1.00</td>\n",
       "                        <td id=\"T_d3905_row0_col1\" class=\"data row0 col1\" >0.75</td>\n",
       "                        <td id=\"T_d3905_row0_col2\" class=\"data row0 col2\" >0.35</td>\n",
       "            </tr>\n",
       "            <tr>\n",
       "                        <th id=\"T_d3905_level0_row1\" class=\"row_heading level0 row1\" >user_score</th>\n",
       "                        <td id=\"T_d3905_row1_col0\" class=\"data row1 col0\" >0.75</td>\n",
       "                        <td id=\"T_d3905_row1_col1\" class=\"data row1 col1\" >1.00</td>\n",
       "                        <td id=\"T_d3905_row1_col2\" class=\"data row1 col2\" >0.22</td>\n",
       "            </tr>\n",
       "            <tr>\n",
       "                        <th id=\"T_d3905_level0_row2\" class=\"row_heading level0 row2\" >total_sales</th>\n",
       "                        <td id=\"T_d3905_row2_col0\" class=\"data row2 col0\" >0.35</td>\n",
       "                        <td id=\"T_d3905_row2_col1\" class=\"data row2 col1\" >0.22</td>\n",
       "                        <td id=\"T_d3905_row2_col2\" class=\"data row2 col2\" >1.00</td>\n",
       "            </tr>\n",
       "    </tbody></table>"
      ],
      "text/plain": [
       "<pandas.io.formats.style.Styler at 0x7f51ba2fd250>"
      ]
     },
     "execution_count": 21,
     "metadata": {},
     "output_type": "execute_result"
    }
   ],
   "source": [
    "data_corr = data.query('platform == \"3DS\"')[['critic_score', 'user_score', 'total_sales']].corr()\n",
    "print('Корреляция между продажами и рейтингом критиков и пользвателей для игр на платформе 3DS')\n",
    "data_corr.style.background_gradient(cmap='coolwarm').set_precision(2)"
   ]
  },
  {
   "cell_type": "markdown",
   "metadata": {},
   "source": [
    "По полученным выше данным можно сделать вывод:\n",
    "- продажи на платформе 3DS имеют очень слабо выраженную положительную корреляцию с рейтингами критиков и пользвателей, зато рейтинги имеют между собой высокую корреляцию\n",
    "- продажи на платформе PS4 имеют слабую положительную корреляцию с рейтингом критиков, и не имеют корреляции с рейтингом пользователей\n",
    "- продажи на платформе XOne также имеют слабую положительную корреляцию с рейтингом критиков, и не имеют корреляции с рейтингом пользователей"
   ]
  },
  {
   "cell_type": "code",
   "execution_count": 22,
   "metadata": {},
   "outputs": [
    {
     "data": {
      "image/png": "[encoded data removed]",
      "text/plain": [
       "<Figure size 1080x360 with 1 Axes>"
      ]
     },
     "metadata": {
      "needs_background": "light"
     },
     "output_type": "display_data"
    }
   ],
   "source": [
    "# посмотрим на распределение по жанрам\n",
    "\n",
    "data.groupby('genre')['total_sales'].sum().plot(kind='bar', figsize=(15, 5), grid=True)\n",
    "plt.title(\"Распределение продаж игр в зависимости от жара\")\n",
    "plt.xlabel(\"Жанр\")\n",
    "plt.ylabel('Кол-во проданных игр, млн')\n",
    "plt.show()"
   ]
  },
  {
   "cell_type": "code",
   "execution_count": 23,
   "metadata": {},
   "outputs": [
    {
     "data": {
      "image/png": "[encoded data removed]",
      "text/plain": [
       "<Figure size 1080x360 with 1 Axes>"
      ]
     },
     "metadata": {
      "needs_background": "light"
     },
     "output_type": "display_data"
    }
   ],
   "source": [
    "# Посмотрим, изменилось и распределение за последние 5 лет\n",
    "data.query('year_of_release >= 2012').groupby('genre')['total_sales'].sum().sort_values(ascending=False).plot(kind='bar', figsize=(15, 5), grid=True)\n",
    "plt.title(\"Распределние продаж игр в зависимости от жара (за последние 5 лет)\")\n",
    "plt.xlabel(\"Жанр\")\n",
    "plt.ylabel('Кол-во проданных игр, млн')\n",
    "plt.show()"
   ]
  },
  {
   "cell_type": "markdown",
   "metadata": {},
   "source": [
    "Самым прибыльным жанром является Action(Экшн), на 2-ом месте - спортивные игры, но в последние 5 лет они уступили это место Shooter(стрелялки) и релевым, передвинувшись на 4-ое.\n",
    "\n",
    "Самые НЕ прибыльные жанры - стратегии, пазлы и приключения."
   ]
  },
  {
   "cell_type": "markdown",
   "metadata": {},
   "source": [
    "### Вывод"
   ]
  },
  {
   "cell_type": "markdown",
   "metadata": {},
   "source": [
    "Проведя исследовательский анализ данных мы пришли к следующим выводам:\n",
    "- с 1980 по 1993 год игр на рынке выпускалось очень мало и только с 1994 пошел рост, при этом начиная с 2000-х рост ускорился;\n",
    "- выбраз из всего массива данных 10 самых прибыльных платорм за все время - мы увидели, что цикл жизни платформы ~равен 10 лет. Из-за этого пункта в дальнейшем анализе мы учитывали данные начиная с 2017 года (минус 10 ет от 2017 г.);\n",
    "- выбрали самые прибыльные за последние 10 лет 10 платформ и увидели, что перспективных из них только 3 - PS4, XOne, 3DS. Несметря на то, что суммарная выручка по этим платформам несколько ниже, чем по другим платформам в топе, их выручка растет, тогда как у других платформ она падает;\n",
    "- для 3 перспективных платформ построили боксплоты и увидели, что для XOne и PS4 медианная выручка выше, чем для платформы 3DS;\n",
    "- также для этих 3 платорм мы посчитали корреляцию между отзывами и продажами, и построили диаграммы рассеяния, получив следующие выводы: продажи на платформе 3DS имеют очень слабо выраженную положительную корреляцию с рейтингами критиков и пользвателей, зато рейтинги имеют между собой высокую корреляцию, продажи на платформах PS4 и XOne имеют слабую положительную корреляцию с рейтингом критиков, и не имеют корреляции с рейтингом пользователей;\n",
    "- мы посмотрели на общее распределение игр по жанрам: самым прибыльным жанром является Action(Экшн), на 2-ом месте - спортивные игры, но в последние 5 лет они уступили это место Shooter(стрелялки) и релевым, передвинувшись на 4-ое. Самые НЕ прибыльные жанры - стратегии, пазлы и приключения."
   ]
  },
  {
   "cell_type": "markdown",
   "metadata": {},
   "source": [
    "## Составление портрета пользователя для каждого региона"
   ]
  },
  {
   "cell_type": "markdown",
   "metadata": {},
   "source": [
    "По очереди рассмотрим каждый регион и выявим для него самые популярные платформы и жанры (за последние 10 лет), а также проанализируем, влияет ли рейтинг ESRB на продажи в этом регионе."
   ]
  },
  {
   "cell_type": "code",
   "execution_count": 24,
   "metadata": {
    "scrolled": true
   },
   "outputs": [
    {
     "data": {
      "text/plain": [
       "'Топ 5 популярных платформ в Северной Америке'"
      ]
     },
     "metadata": {},
     "output_type": "display_data"
    },
    {
     "data": {
      "text/html": [
       "<div>\n",
       "<style scoped>\n",
       "    .dataframe tbody tr th:only-of-type {\n",
       "        vertical-align: middle;\n",
       "    }\n",
       "\n",
       "    .dataframe tbody tr th {\n",
       "        vertical-align: top;\n",
       "    }\n",
       "\n",
       "    .dataframe thead th {\n",
       "        text-align: right;\n",
       "    }\n",
       "</style>\n",
       "<table border=\"1\" class=\"dataframe\">\n",
       "  <thead>\n",
       "    <tr style=\"text-align: right;\">\n",
       "      <th></th>\n",
       "      <th>platform</th>\n",
       "      <th>na_sales</th>\n",
       "    </tr>\n",
       "  </thead>\n",
       "  <tbody>\n",
       "    <tr>\n",
       "      <th>0</th>\n",
       "      <td>X360</td>\n",
       "      <td>553.68</td>\n",
       "    </tr>\n",
       "    <tr>\n",
       "      <th>1</th>\n",
       "      <td>Wii</td>\n",
       "      <td>416.01</td>\n",
       "    </tr>\n",
       "    <tr>\n",
       "      <th>2</th>\n",
       "      <td>PS3</td>\n",
       "      <td>381.29</td>\n",
       "    </tr>\n",
       "    <tr>\n",
       "      <th>3</th>\n",
       "      <td>DS</td>\n",
       "      <td>273.98</td>\n",
       "    </tr>\n",
       "    <tr>\n",
       "      <th>4</th>\n",
       "      <td>PS4</td>\n",
       "      <td>108.74</td>\n",
       "    </tr>\n",
       "  </tbody>\n",
       "</table>\n",
       "</div>"
      ],
      "text/plain": [
       "  platform  na_sales\n",
       "0     X360    553.68\n",
       "1      Wii    416.01\n",
       "2      PS3    381.29\n",
       "3       DS    273.98\n",
       "4      PS4    108.74"
      ]
     },
     "metadata": {},
     "output_type": "display_data"
    },
    {
     "name": "stdout",
     "output_type": "stream",
     "text": [
      "\n"
     ]
    },
    {
     "data": {
      "text/plain": [
       "'Топ 5 наиболее продаваемых жаров в Северной Америке'"
      ]
     },
     "metadata": {},
     "output_type": "display_data"
    },
    {
     "data": {
      "text/html": [
       "<div>\n",
       "<style scoped>\n",
       "    .dataframe tbody tr th:only-of-type {\n",
       "        vertical-align: middle;\n",
       "    }\n",
       "\n",
       "    .dataframe tbody tr th {\n",
       "        vertical-align: top;\n",
       "    }\n",
       "\n",
       "    .dataframe thead th {\n",
       "        text-align: right;\n",
       "    }\n",
       "</style>\n",
       "<table border=\"1\" class=\"dataframe\">\n",
       "  <thead>\n",
       "    <tr style=\"text-align: right;\">\n",
       "      <th></th>\n",
       "      <th>genre</th>\n",
       "      <th>na_sales</th>\n",
       "    </tr>\n",
       "  </thead>\n",
       "  <tbody>\n",
       "    <tr>\n",
       "      <th>0</th>\n",
       "      <td>Action</td>\n",
       "      <td>492.17</td>\n",
       "    </tr>\n",
       "    <tr>\n",
       "      <th>1</th>\n",
       "      <td>Shooter</td>\n",
       "      <td>350.11</td>\n",
       "    </tr>\n",
       "    <tr>\n",
       "      <th>2</th>\n",
       "      <td>Sports</td>\n",
       "      <td>323.86</td>\n",
       "    </tr>\n",
       "    <tr>\n",
       "      <th>3</th>\n",
       "      <td>Misc</td>\n",
       "      <td>259.16</td>\n",
       "    </tr>\n",
       "    <tr>\n",
       "      <th>4</th>\n",
       "      <td>Role-Playing</td>\n",
       "      <td>175.41</td>\n",
       "    </tr>\n",
       "  </tbody>\n",
       "</table>\n",
       "</div>"
      ],
      "text/plain": [
       "          genre  na_sales\n",
       "0        Action    492.17\n",
       "1       Shooter    350.11\n",
       "2        Sports    323.86\n",
       "3          Misc    259.16\n",
       "4  Role-Playing    175.41"
      ]
     },
     "metadata": {},
     "output_type": "display_data"
    },
    {
     "name": "stdout",
     "output_type": "stream",
     "text": [
      "\n"
     ]
    },
    {
     "data": {
      "image/png": "[encoded data removed]",
      "text/plain": [
       "<Figure size 432x288 with 1 Axes>"
      ]
     },
     "metadata": {
      "needs_background": "light"
     },
     "output_type": "display_data"
    }
   ],
   "source": [
    "display(\"Топ 5 популярных платформ в Северной Америке\" ,data.query('year_of_release >= 2007').pivot_table(index='platform', values='na_sales', aggfunc='sum').reset_index().sort_values(by='na_sales', ascending=False).reset_index(drop=True).head())\n",
    "print()\n",
    "display(\"Топ 5 наиболее продаваемых жаров в Северной Америке\" ,data.query('year_of_release >= 2007').pivot_table(index='genre', values='na_sales', aggfunc='sum').reset_index().sort_values(by='na_sales', ascending=False).reset_index(drop=True).head())\n",
    "print()\n",
    "data.query('year_of_release >= 2007').boxplot(column='na_sales', by='rating')\n",
    "plt.ylim(0, 0.65)\n",
    "plt.xlabel('Рейтинг')\n",
    "plt.ylabel('Кол-во проданных игр, млн')\n",
    "plt.title('Распределение выручки от продажи игр в зависимости от рейтинга ESRB ',\n",
    "         fontdict={'fontweight':'bold'}, pad=15, size=14)\n",
    "plt.show()"
   ]
  },
  {
   "cell_type": "markdown",
   "metadata": {},
   "source": [
    "По Северной Америке можно сделать следующие выводы:\n",
    "- в топ-5 платформ входит только одна, котрую мы ранее обозначили, как перспективную - PS4\n",
    "- по жанрам распределение аналогично распределению по всей выборке за все время\n",
    "- наиболее прорадваемые игры входят в категории ЕС(для детей от 3 лет) и М(от 17 лет). Продаются игры всех категрий.\n"
   ]
  },
  {
   "cell_type": "code",
   "execution_count": 25,
   "metadata": {
    "scrolled": true
   },
   "outputs": [
    {
     "data": {
      "text/plain": [
       "'Топ 5 популярных платформ в Европе'"
      ]
     },
     "metadata": {},
     "output_type": "display_data"
    },
    {
     "data": {
      "text/html": [
       "<div>\n",
       "<style scoped>\n",
       "    .dataframe tbody tr th:only-of-type {\n",
       "        vertical-align: middle;\n",
       "    }\n",
       "\n",
       "    .dataframe tbody tr th {\n",
       "        vertical-align: top;\n",
       "    }\n",
       "\n",
       "    .dataframe thead th {\n",
       "        text-align: right;\n",
       "    }\n",
       "</style>\n",
       "<table border=\"1\" class=\"dataframe\">\n",
       "  <thead>\n",
       "    <tr style=\"text-align: right;\">\n",
       "      <th></th>\n",
       "      <th>platform</th>\n",
       "      <th>eu_sales</th>\n",
       "    </tr>\n",
       "  </thead>\n",
       "  <tbody>\n",
       "    <tr>\n",
       "      <th>0</th>\n",
       "      <td>PS3</td>\n",
       "      <td>319.83</td>\n",
       "    </tr>\n",
       "    <tr>\n",
       "      <th>1</th>\n",
       "      <td>X360</td>\n",
       "      <td>257.05</td>\n",
       "    </tr>\n",
       "    <tr>\n",
       "      <th>2</th>\n",
       "      <td>Wii</td>\n",
       "      <td>214.70</td>\n",
       "    </tr>\n",
       "    <tr>\n",
       "      <th>3</th>\n",
       "      <td>PS4</td>\n",
       "      <td>141.09</td>\n",
       "    </tr>\n",
       "    <tr>\n",
       "      <th>4</th>\n",
       "      <td>DS</td>\n",
       "      <td>119.92</td>\n",
       "    </tr>\n",
       "  </tbody>\n",
       "</table>\n",
       "</div>"
      ],
      "text/plain": [
       "  platform  eu_sales\n",
       "0      PS3    319.83\n",
       "1     X360    257.05\n",
       "2      Wii    214.70\n",
       "3      PS4    141.09\n",
       "4       DS    119.92"
      ]
     },
     "metadata": {},
     "output_type": "display_data"
    },
    {
     "name": "stdout",
     "output_type": "stream",
     "text": [
      "\n"
     ]
    },
    {
     "data": {
      "text/plain": [
       "'Топ 5 наиболее продаваемых жаров в Европе'"
      ]
     },
     "metadata": {},
     "output_type": "display_data"
    },
    {
     "data": {
      "text/html": [
       "<div>\n",
       "<style scoped>\n",
       "    .dataframe tbody tr th:only-of-type {\n",
       "        vertical-align: middle;\n",
       "    }\n",
       "\n",
       "    .dataframe tbody tr th {\n",
       "        vertical-align: top;\n",
       "    }\n",
       "\n",
       "    .dataframe thead th {\n",
       "        text-align: right;\n",
       "    }\n",
       "</style>\n",
       "<table border=\"1\" class=\"dataframe\">\n",
       "  <thead>\n",
       "    <tr style=\"text-align: right;\">\n",
       "      <th></th>\n",
       "      <th>genre</th>\n",
       "      <th>eu_sales</th>\n",
       "    </tr>\n",
       "  </thead>\n",
       "  <tbody>\n",
       "    <tr>\n",
       "      <th>0</th>\n",
       "      <td>Action</td>\n",
       "      <td>335.67</td>\n",
       "    </tr>\n",
       "    <tr>\n",
       "      <th>1</th>\n",
       "      <td>Shooter</td>\n",
       "      <td>230.16</td>\n",
       "    </tr>\n",
       "    <tr>\n",
       "      <th>2</th>\n",
       "      <td>Sports</td>\n",
       "      <td>211.49</td>\n",
       "    </tr>\n",
       "    <tr>\n",
       "      <th>3</th>\n",
       "      <td>Misc</td>\n",
       "      <td>127.62</td>\n",
       "    </tr>\n",
       "    <tr>\n",
       "      <th>4</th>\n",
       "      <td>Racing</td>\n",
       "      <td>104.63</td>\n",
       "    </tr>\n",
       "  </tbody>\n",
       "</table>\n",
       "</div>"
      ],
      "text/plain": [
       "     genre  eu_sales\n",
       "0   Action    335.67\n",
       "1  Shooter    230.16\n",
       "2   Sports    211.49\n",
       "3     Misc    127.62\n",
       "4   Racing    104.63"
      ]
     },
     "metadata": {},
     "output_type": "display_data"
    },
    {
     "name": "stdout",
     "output_type": "stream",
     "text": [
      "\n"
     ]
    },
    {
     "data": {
      "image/png": "[encoded data removed]",
      "text/plain": [
       "<Figure size 432x288 with 1 Axes>"
      ]
     },
     "metadata": {
      "needs_background": "light"
     },
     "output_type": "display_data"
    }
   ],
   "source": [
    "display(\"Топ 5 популярных платформ в Европе\" ,data.query('year_of_release >= 2007').pivot_table(index='platform', values='eu_sales', aggfunc='sum').reset_index().sort_values(by='eu_sales', ascending=False).reset_index(drop=True).head())\n",
    "print()\n",
    "display(\"Топ 5 наиболее продаваемых жаров в Европе\" ,data.query('year_of_release >= 2007').pivot_table(index='genre', values='eu_sales', aggfunc='sum').reset_index().sort_values(by='eu_sales', ascending=False).reset_index(drop=True).head())\n",
    "print()\n",
    "data.query('year_of_release >= 2007').boxplot(column='eu_sales', by='rating')\n",
    "plt.ylim(0, 0.45)\n",
    "plt.xlabel('Рейтинг')\n",
    "plt.ylabel('Кол-во проданных игр, млн')\n",
    "plt.title('Распределение выручки от продажи игр в зависимости от рейтинга ESRB ',\n",
    "         fontdict={'fontweight':'bold'}, pad=15, size=14)\n",
    "plt.show()"
   ]
  },
  {
   "cell_type": "markdown",
   "metadata": {},
   "source": [
    "По Европе делаем следующие выводы:\n",
    "- в топ-5 платформ входит только одна, котрую мы ранее обозначили, как перспективную - PS4 (также как и в Америке)\n",
    "- по жанрам распределение пости такое же, как в Америке, но 5 строчку занимаю гонки, а не ролевые игры\n",
    "- самые продаваемые игры категори М(от 17 лет). При этом мы не видим продаж в категориях ЕС(дети от 3 лет) и Т(подростки)"
   ]
  },
  {
   "cell_type": "code",
   "execution_count": 26,
   "metadata": {
    "scrolled": true
   },
   "outputs": [
    {
     "data": {
      "text/plain": [
       "'Топ 5 популярных платформ в Японии'"
      ]
     },
     "metadata": {},
     "output_type": "display_data"
    },
    {
     "data": {
      "text/html": [
       "<div>\n",
       "<style scoped>\n",
       "    .dataframe tbody tr th:only-of-type {\n",
       "        vertical-align: middle;\n",
       "    }\n",
       "\n",
       "    .dataframe tbody tr th {\n",
       "        vertical-align: top;\n",
       "    }\n",
       "\n",
       "    .dataframe thead th {\n",
       "        text-align: right;\n",
       "    }\n",
       "</style>\n",
       "<table border=\"1\" class=\"dataframe\">\n",
       "  <thead>\n",
       "    <tr style=\"text-align: right;\">\n",
       "      <th></th>\n",
       "      <th>platform</th>\n",
       "      <th>jp_sales</th>\n",
       "    </tr>\n",
       "  </thead>\n",
       "  <tbody>\n",
       "    <tr>\n",
       "      <th>0</th>\n",
       "      <td>DS</td>\n",
       "      <td>102.93</td>\n",
       "    </tr>\n",
       "    <tr>\n",
       "      <th>1</th>\n",
       "      <td>3DS</td>\n",
       "      <td>100.62</td>\n",
       "    </tr>\n",
       "    <tr>\n",
       "      <th>2</th>\n",
       "      <td>PS3</td>\n",
       "      <td>78.33</td>\n",
       "    </tr>\n",
       "    <tr>\n",
       "      <th>3</th>\n",
       "      <td>PSP</td>\n",
       "      <td>66.24</td>\n",
       "    </tr>\n",
       "    <tr>\n",
       "      <th>4</th>\n",
       "      <td>Wii</td>\n",
       "      <td>59.13</td>\n",
       "    </tr>\n",
       "  </tbody>\n",
       "</table>\n",
       "</div>"
      ],
      "text/plain": [
       "  platform  jp_sales\n",
       "0       DS    102.93\n",
       "1      3DS    100.62\n",
       "2      PS3     78.33\n",
       "3      PSP     66.24\n",
       "4      Wii     59.13"
      ]
     },
     "metadata": {},
     "output_type": "display_data"
    },
    {
     "name": "stdout",
     "output_type": "stream",
     "text": [
      "\n"
     ]
    },
    {
     "data": {
      "text/plain": [
       "'Топ 5 наиболее продаваемых жаров в Японии'"
      ]
     },
     "metadata": {},
     "output_type": "display_data"
    },
    {
     "data": {
      "text/html": [
       "<div>\n",
       "<style scoped>\n",
       "    .dataframe tbody tr th:only-of-type {\n",
       "        vertical-align: middle;\n",
       "    }\n",
       "\n",
       "    .dataframe tbody tr th {\n",
       "        vertical-align: top;\n",
       "    }\n",
       "\n",
       "    .dataframe thead th {\n",
       "        text-align: right;\n",
       "    }\n",
       "</style>\n",
       "<table border=\"1\" class=\"dataframe\">\n",
       "  <thead>\n",
       "    <tr style=\"text-align: right;\">\n",
       "      <th></th>\n",
       "      <th>genre</th>\n",
       "      <th>jp_sales</th>\n",
       "    </tr>\n",
       "  </thead>\n",
       "  <tbody>\n",
       "    <tr>\n",
       "      <th>0</th>\n",
       "      <td>Role-Playing</td>\n",
       "      <td>150.55</td>\n",
       "    </tr>\n",
       "    <tr>\n",
       "      <th>1</th>\n",
       "      <td>Action</td>\n",
       "      <td>96.29</td>\n",
       "    </tr>\n",
       "    <tr>\n",
       "      <th>2</th>\n",
       "      <td>Misc</td>\n",
       "      <td>48.79</td>\n",
       "    </tr>\n",
       "    <tr>\n",
       "      <th>3</th>\n",
       "      <td>Sports</td>\n",
       "      <td>40.28</td>\n",
       "    </tr>\n",
       "    <tr>\n",
       "      <th>4</th>\n",
       "      <td>Adventure</td>\n",
       "      <td>26.91</td>\n",
       "    </tr>\n",
       "  </tbody>\n",
       "</table>\n",
       "</div>"
      ],
      "text/plain": [
       "          genre  jp_sales\n",
       "0  Role-Playing    150.55\n",
       "1        Action     96.29\n",
       "2          Misc     48.79\n",
       "3        Sports     40.28\n",
       "4     Adventure     26.91"
      ]
     },
     "metadata": {},
     "output_type": "display_data"
    },
    {
     "name": "stdout",
     "output_type": "stream",
     "text": [
      "\n"
     ]
    },
    {
     "data": {
      "image/png": "[encoded data removed]",
      "text/plain": [
       "<Figure size 432x288 with 1 Axes>"
      ]
     },
     "metadata": {
      "needs_background": "light"
     },
     "output_type": "display_data"
    }
   ],
   "source": [
    "display(\"Топ 5 популярных платформ в Японии\" ,data.query('year_of_release >= 2007').pivot_table(index='platform', values='jp_sales', aggfunc='sum').reset_index().sort_values(by='jp_sales', ascending=False).reset_index(drop=True).head())\n",
    "print()\n",
    "display(\"Топ 5 наиболее продаваемых жаров в Японии\" ,data.query('year_of_release >= 2007').pivot_table(index='genre', values='jp_sales', aggfunc='sum').reset_index().sort_values(by='jp_sales', ascending=False).reset_index(drop=True).head())\n",
    "print()\n",
    "data.query('year_of_release >= 2007').boxplot(column='jp_sales', by='rating')\n",
    "plt.ylim(0, 0.15)\n",
    "plt.xlabel('Рейтинг')\n",
    "plt.ylabel('Кол-во проданных игр, млн')\n",
    "plt.title('Распределение выручки от продажи игр в зависимости от рейтинга ESRB ',\n",
    "         fontdict={'fontweight':'bold'}, pad=15, size=14)\n",
    "plt.show()"
   ]
  },
  {
   "cell_type": "markdown",
   "metadata": {},
   "source": [
    "Данные по Японии отличаются от Европы и Америки:\n",
    "- в топ-5 платформ входит только одна, котрую мы ранее обозначили, как перспективную - 3DS\n",
    "- самый популярный жанр - ролевые игры, при этом в рейтинге присутствуют приключения (которые в принципе не популярны, если рассматривать на выборке из все стран)\n",
    "- продаются игры категорий М и Т. Остальыне категории либо не выходили на рынок в Японии, либо не имеют спроса."
   ]
  },
  {
   "cell_type": "code",
   "execution_count": 27,
   "metadata": {
    "scrolled": true
   },
   "outputs": [
    {
     "data": {
      "text/plain": [
       "'Топ 5 популярных платформ в дргугих странах '"
      ]
     },
     "metadata": {},
     "output_type": "display_data"
    },
    {
     "data": {
      "text/html": [
       "<div>\n",
       "<style scoped>\n",
       "    .dataframe tbody tr th:only-of-type {\n",
       "        vertical-align: middle;\n",
       "    }\n",
       "\n",
       "    .dataframe tbody tr th {\n",
       "        vertical-align: top;\n",
       "    }\n",
       "\n",
       "    .dataframe thead th {\n",
       "        text-align: right;\n",
       "    }\n",
       "</style>\n",
       "<table border=\"1\" class=\"dataframe\">\n",
       "  <thead>\n",
       "    <tr style=\"text-align: right;\">\n",
       "      <th></th>\n",
       "      <th>platform</th>\n",
       "      <th>other_sales</th>\n",
       "    </tr>\n",
       "  </thead>\n",
       "  <tbody>\n",
       "    <tr>\n",
       "      <th>0</th>\n",
       "      <td>PS3</td>\n",
       "      <td>130.93</td>\n",
       "    </tr>\n",
       "    <tr>\n",
       "      <th>1</th>\n",
       "      <td>X360</td>\n",
       "      <td>79.82</td>\n",
       "    </tr>\n",
       "    <tr>\n",
       "      <th>2</th>\n",
       "      <td>Wii</td>\n",
       "      <td>64.19</td>\n",
       "    </tr>\n",
       "    <tr>\n",
       "      <th>3</th>\n",
       "      <td>PS2</td>\n",
       "      <td>54.46</td>\n",
       "    </tr>\n",
       "    <tr>\n",
       "      <th>4</th>\n",
       "      <td>PS4</td>\n",
       "      <td>48.35</td>\n",
       "    </tr>\n",
       "  </tbody>\n",
       "</table>\n",
       "</div>"
      ],
      "text/plain": [
       "  platform  other_sales\n",
       "0      PS3       130.93\n",
       "1     X360        79.82\n",
       "2      Wii        64.19\n",
       "3      PS2        54.46\n",
       "4      PS4        48.35"
      ]
     },
     "metadata": {},
     "output_type": "display_data"
    },
    {
     "name": "stdout",
     "output_type": "stream",
     "text": [
      "\n"
     ]
    },
    {
     "data": {
      "text/plain": [
       "'Топ 5 наиболее продаваемых жаров в дргугих странах'"
      ]
     },
     "metadata": {},
     "output_type": "display_data"
    },
    {
     "data": {
      "text/html": [
       "<div>\n",
       "<style scoped>\n",
       "    .dataframe tbody tr th:only-of-type {\n",
       "        vertical-align: middle;\n",
       "    }\n",
       "\n",
       "    .dataframe tbody tr th {\n",
       "        vertical-align: top;\n",
       "    }\n",
       "\n",
       "    .dataframe thead th {\n",
       "        text-align: right;\n",
       "    }\n",
       "</style>\n",
       "<table border=\"1\" class=\"dataframe\">\n",
       "  <thead>\n",
       "    <tr style=\"text-align: right;\">\n",
       "      <th></th>\n",
       "      <th>genre</th>\n",
       "      <th>other_sales</th>\n",
       "    </tr>\n",
       "  </thead>\n",
       "  <tbody>\n",
       "    <tr>\n",
       "      <th>0</th>\n",
       "      <td>Action</td>\n",
       "      <td>126.46</td>\n",
       "    </tr>\n",
       "    <tr>\n",
       "      <th>1</th>\n",
       "      <td>Sports</td>\n",
       "      <td>82.44</td>\n",
       "    </tr>\n",
       "    <tr>\n",
       "      <th>2</th>\n",
       "      <td>Shooter</td>\n",
       "      <td>81.07</td>\n",
       "    </tr>\n",
       "    <tr>\n",
       "      <th>3</th>\n",
       "      <td>Misc</td>\n",
       "      <td>52.32</td>\n",
       "    </tr>\n",
       "    <tr>\n",
       "      <th>4</th>\n",
       "      <td>Role-Playing</td>\n",
       "      <td>36.40</td>\n",
       "    </tr>\n",
       "  </tbody>\n",
       "</table>\n",
       "</div>"
      ],
      "text/plain": [
       "          genre  other_sales\n",
       "0        Action       126.46\n",
       "1        Sports        82.44\n",
       "2       Shooter        81.07\n",
       "3          Misc        52.32\n",
       "4  Role-Playing        36.40"
      ]
     },
     "metadata": {},
     "output_type": "display_data"
    },
    {
     "name": "stdout",
     "output_type": "stream",
     "text": [
      "\n"
     ]
    },
    {
     "data": {
      "image/png": "[encoded data removed]",
      "text/plain": [
       "<Figure size 432x288 with 1 Axes>"
      ]
     },
     "metadata": {
      "needs_background": "light"
     },
     "output_type": "display_data"
    }
   ],
   "source": [
    "display(\"Топ 5 популярных платформ в дргугих странах \" ,data.query('year_of_release >= 2007').pivot_table(index='platform', values='other_sales', aggfunc='sum').reset_index().sort_values(by='other_sales', ascending=False).reset_index(drop=True).head())\n",
    "print()\n",
    "display(\"Топ 5 наиболее продаваемых жаров в дргугих странах\" ,data.query('year_of_release >= 2007').pivot_table(index='genre', values='other_sales', aggfunc='sum').reset_index().sort_values(by='other_sales', ascending=False).reset_index(drop=True).head())\n",
    "print()\n",
    "data.query('year_of_release >= 2007').boxplot(column='other_sales', by='rating')\n",
    "plt.ylim(0, 0.15)\n",
    "plt.xlabel('Рейтинг')\n",
    "plt.ylabel('Кол-во проданных игр, млн')\n",
    "plt.title('Распределение выручки от продажи игр в зависимости от рейтинга ESRB ',\n",
    "         fontdict={'fontweight':'bold'}, pad=15, size=14)\n",
    "plt.show()"
   ]
  },
  {
   "cell_type": "markdown",
   "metadata": {},
   "source": [
    "Данные по продажам игр в других странах очень похожи на распределние по продажам в Еропе и Америке."
   ]
  },
  {
   "cell_type": "markdown",
   "metadata": {},
   "source": [
    "### Вывод\n",
    "\n",
    "Рынки в Северной Америке и Европе похожи, но сильно отличаются от рынка по Японии.\n",
    "\n",
    "Среди популярных платформ платформ за последние 10 лет, на рынках Европы и Америки присутствует PS4 (которую мы обозначили, как перспективную), а в Японии - 3DS.\n",
    "\n",
    "В Америке представлены к продаже все категории из рейтинга ESRB, при этом самми прибыльными являются категории ЕС(для детей от 3 лет) и М(от 17 лет). В Европе самыми продаваемыми являются категория М(от 17 лет), и при этом мы не видим продаж в категориях ЕС(дети от 3 лет) и Т(подростки). В Японии продаются только игры категорий М(от 17 лет) и Т(подростки) - остальные игры либо не выходили на рынок, либо не имеют спроса.\n",
    "\n",
    "Популярные жанры в Америке и Европе совпадают по первым 4 категориям: Экшн, Стрелялки, Спортивные и Прочие, при этом 5 место различается - гонки в Европе и ролевые в Америке.\n",
    "В Японии самый популярный жанр - Ролевые игры, также в рейтинг попали приключения (5 место). Со 2 по 4 место жары схожи с играми в Америке/Европе, но совсем не представлен жанр стрелялок - либо эти игры не выходят в стране, лио совсем не пользуются популярностью."
   ]
  },
  {
   "cell_type": "code",
   "execution_count": 28,
   "metadata": {},
   "outputs": [
    {
     "data": {
      "image/png": "[encoded data removed]",
      "text/plain": [
       "<Figure size 1152x432 with 3 Axes>"
      ]
     },
     "metadata": {},
     "output_type": "display_data"
    }
   ],
   "source": [
    "cols = ['na_sales', 'eu_sales', 'jp_sales']\n",
    "temp = data.query('year_of_release >= 2007').groupby('platform')[cols].sum()\n",
    "\n",
    "fig, axs = plt.subplots(nrows=1, ncols=3, figsize=(16, 6))\n",
    "explode = (0.2, 0, 0, 0, 0)\n",
    "\n",
    "for i, reg in enumerate(cols):\n",
    "    top5 = temp[reg].sort_values(ascending=False).head()\n",
    "    labels = top5.index\n",
    "    sizes = top5.values\n",
    "    ax = axs[i]\n",
    "    ax.set_title(f'Продажи в {reg}')\n",
    "    ax.pie(sizes, labels=labels, autopct='%1.1f%%', shadow=True, explode=explode, startangle=90) \n",
    "    "
   ]
  },
  {
   "cell_type": "code",
   "execution_count": 29,
   "metadata": {},
   "outputs": [
    {
     "data": {
      "image/png": "[encoded data removed]",
      "text/plain": [
       "<Figure size 1152x288 with 1 Axes>"
      ]
     },
     "metadata": {
      "needs_background": "light"
     },
     "output_type": "display_data"
    }
   ],
   "source": [
    "import seaborn as sns\n",
    "\n",
    "t = temp.reset_index().melt(id_vars='platform', var_name='region', value_name='sales')\\\n",
    "    .sort_values(['region', 'sales'], ascending=False)\\\n",
    "    .groupby(['region']).head(5)\n",
    "\n",
    "plt.figure(figsize=(16, 4))\n",
    "sns.barplot(x='platform', y='sales', hue='region', data=t)\n",
    "plt.grid();"
   ]
  },
  {
   "cell_type": "markdown",
   "metadata": {},
   "source": [
    "## Проверка гипотез"
   ]
  },
  {
   "cell_type": "markdown",
   "metadata": {},
   "source": [
    "### Сравнение средних пользовательских рейтингов платформ Xbox One и PC "
   ]
  },
  {
   "cell_type": "markdown",
   "metadata": {},
   "source": [
    "Нулевая гипотеза H₀ будет звучить следующим образом: 'Средний пользовательсий рейтинг платформ Xbox One и PC не различается (одинаков)'.\n",
    "\n",
    "Альтернативная гипотеза H₁: Средний пользовательсий рейтинг платформ Xbox One и PC различается (не одинаков)'\n",
    "\n",
    "Так как если рейтинги отличаются, но мы не знаем в какую сторону - используем двухстороннюю гипотезу."
   ]
  },
  {
   "cell_type": "code",
   "execution_count": 30,
   "metadata": {},
   "outputs": [
    {
     "name": "stdout",
     "output_type": "stream",
     "text": [
      "p-значение: 1.3037979620149106e-05\n",
      "Отвергаем нулевую гипотезу\n"
     ]
    }
   ],
   "source": [
    "# почистим данные от NAN  в столбце user_score\n",
    "filtred = data[~data['user_score'].isna()]\n",
    "\n",
    "# сохраним 2 выборки, которые будем сравнивать\n",
    "XOne_sample = filtred.query('platform == \"XOne\"')['user_score']\n",
    "PC_sample = filtred.query('platform == \"PC\"')['user_score']\n",
    "\n",
    "alpha = 0.01 # уровень статистической значимости\n",
    "\n",
    "results = st.ttest_ind(XOne_sample, PC_sample)\n",
    "\n",
    "# тест двусторонний\n",
    "print('p-значение:', results.pvalue)\n",
    "\n",
    "if results.pvalue < alpha:\n",
    "    print(\"Отвергаем нулевую гипотезу\")\n",
    "else:\n",
    "    print(\"Не получилось отвергнуть нулевую гипотезу\")"
   ]
  },
  {
   "cell_type": "markdown",
   "metadata": {},
   "source": [
    "P-значение получилось очень маленьким, значит у нас есть основания отвергать нулевую гипотезу."
   ]
  },
  {
   "cell_type": "markdown",
   "metadata": {},
   "source": [
    "### Сравнение средних пользовательских рейтингов жанров Action и Sports"
   ]
  },
  {
   "cell_type": "markdown",
   "metadata": {},
   "source": [
    "Нулевая гипотеза H₀ будет звучить следующим образом: 'Средний пользовательсий рейтинг жанров Action и Sports не различается (одинаков)'.\n",
    "\n",
    "Альтернативная гипотеза H₁: Средний пользовательсий рейтинг жанров Action и Sports различается (не одинаков)'\n",
    "\n",
    "Так как если рейтинги отличаются, но мы не знаем в какую сторону - используем двухстороннюю гипотезу."
   ]
  },
  {
   "cell_type": "code",
   "execution_count": 31,
   "metadata": {},
   "outputs": [
    {
     "name": "stdout",
     "output_type": "stream",
     "text": [
      "p-значение: 0.06480928064420527\n",
      "Не получилось отвергнуть нулевую гипотезу\n"
     ]
    }
   ],
   "source": [
    "# 2 выборки, которые хотим сравнить\n",
    "Action_sample = filtred.query('genre == \"Action\"')['user_score']\n",
    "Sports_sample = filtred.query('genre == \"Sports\"')['user_score']\n",
    "\n",
    "alpha = 0.01 # уровень статистической значимости\n",
    "\n",
    "results = st.ttest_ind(\n",
    "    Action_sample, \n",
    "    Sports_sample)\n",
    "\n",
    "# тест двусторонний\n",
    "print('p-значение:', results.pvalue)\n",
    "\n",
    "if results.pvalue < alpha:\n",
    "    print(\"Отвергаем нулевую гипотезу\")\n",
    "else:\n",
    "    print(\"Не получилось отвергнуть нулевую гипотезу\")"
   ]
  },
  {
   "cell_type": "markdown",
   "metadata": {},
   "source": [
    "P-значение получилось выше, чем наше заданное пороговое значение (и даже более 5%) - значит у нас нет оснований отвергать нулевую гипотезу."
   ]
  },
  {
   "cell_type": "markdown",
   "metadata": {},
   "source": [
    "### Вывод"
   ]
  },
  {
   "cell_type": "markdown",
   "metadata": {},
   "source": [
    "Мы проверили 2 гипотезы и пришли к следующим выводам:\n",
    "\n",
    "- Средний пользовательсий рейтинг платформ Xbox One и PC различается\n",
    "- У нас нет оснований отвергнуть гипотезу о том, что средний пользовательсий рейтинг жанров Action и Sports одинаков."
   ]
  },
  {
   "cell_type": "markdown",
   "metadata": {},
   "source": [
    "## Общие выводы по проекту"
   ]
  },
  {
   "cell_type": "markdown",
   "metadata": {},
   "source": [
    "В проекте использовалась таблица data с данными из открытых источников. Для её анализа мы подготовили данные: заменили типы, привели названия столбцов к нижнему регистру, удалили строки с пропущенными значениями в стобцах name, genre, year_of_release, оставили пропуски в столбцах critic_score, score_score, rating (чтобы не исказались данные при дальнейшем анализе), добавили дополнительный столбец с суммарными продажами total_sales.\n",
    "\n",
    "Выявив из данных закономерность, что жизненный цикл платформы состаляет ~10 лет в анализе мы использовали данные только после 2007 года. Выбрав из этого массива самые прибыльные 10 платформ и построив по ним графики распределения выручки - увидели, что самые перспективные на данный момент платформы - PS4, XOne, 3DS. Несметря на то, что суммарная выручка по этим платформам несколько ниже, чем по другим платформам в топе, их выручка растет, тогда как у других платформ она падает. Из этиз 3 перспективных платформ в топе по выручке в Европе и Северной Америке присутствует PS4, а в Японии - 3DS.\n",
    "\n",
    "В Америке представлены к продаже все категории из рейтинга ESRB, при этом самми прибыльными являются категории ЕС(для детей от 3 лет) и М(от 17 лет). В Европе самыми продаваемыми являются категория М(от 17 лет), и при этом мы не видим продаж в категориях ЕС(дети от 3 лет) и Т(подростки). В Японии продаются только игры категорий М(от 17 лет) и Т(подростки) - остальные игры либо не выходили на рынок, либо не имеют спроса.\n",
    "\n",
    "Популярные жанры в Америке и Европе совпадают по первым 4 категориям: Экшн, Стрелялки, Спортивные и Прочие, при этом 5 место различается - гонки в Европе и ролевые в Америке. В Японии самый популярный жанр - Ролевые игры, также в рейтинг попали приключения (5 место). Со 2 по 4 место жары схожи с играми в Америке/Европе, но совсем не представлен жанр стрелялок - либо эти игры не выходят в стране, лио совсем не пользуются популярностью.\n",
    "\n",
    "Подытожим:\n",
    "- если при выпуске игр мы ориентируемся на аудиторию Европы и Америки, то игру лучше выпускать на платформе PS4. предпочтительные жанры: Action, Shooter, Sports, категория в рейтинге ESRB - М(от 17 лет).\n",
    "- Другие страные (кроме Японии) очень похожи по продажам на страны Европ и Америки.\n",
    "- В Японии специфичный вкусы пользователей, если выпускать игры там, то предпочтение стоит отдавать платформе 3DS, жанр выбирать \"ролевые игры\", категория в рейтинге ESRB - М(от 17 лет) и Т(подростки). При это не стоит выпускать в этой стране игр с жанрами Shooter."
   ]
  }
 ],
 "metadata": {
  "ExecuteTimeLog": [
   {
    "duration": 2906,
    "start_time": "2022-01-17T18:31:14.451Z"
   },
   {
    "duration": 61,
    "start_time": "2022-01-17T18:31:40.407Z"
   },
   {
    "duration": 70,
    "start_time": "2022-01-17T18:31:49.198Z"
   },
   {
    "duration": 74,
    "start_time": "2022-01-17T18:32:28.657Z"
   },
   {
    "duration": 69,
    "start_time": "2022-01-17T18:32:54.315Z"
   },
   {
    "duration": 7,
    "start_time": "2022-01-17T19:19:59.887Z"
   },
   {
    "duration": 6,
    "start_time": "2022-01-17T19:20:40.998Z"
   },
   {
    "duration": 21,
    "start_time": "2022-01-17T19:20:53.364Z"
   },
   {
    "duration": 5,
    "start_time": "2022-01-17T19:21:17.185Z"
   },
   {
    "duration": 8,
    "start_time": "2022-01-17T19:22:18.552Z"
   },
   {
    "duration": 17,
    "start_time": "2022-01-17T19:22:40.507Z"
   },
   {
    "duration": 9,
    "start_time": "2022-01-17T19:22:53.322Z"
   },
   {
    "duration": 20,
    "start_time": "2022-01-17T19:23:03.240Z"
   },
   {
    "duration": 7,
    "start_time": "2022-01-17T19:25:34.894Z"
   },
   {
    "duration": 10,
    "start_time": "2022-01-17T19:25:50.651Z"
   },
   {
    "duration": 14,
    "start_time": "2022-01-17T19:26:20.701Z"
   },
   {
    "duration": 874,
    "start_time": "2022-01-18T17:46:12.825Z"
   },
   {
    "duration": 4,
    "start_time": "2022-01-18T17:46:13.702Z"
   },
   {
    "duration": 49,
    "start_time": "2022-01-18T17:46:13.710Z"
   },
   {
    "duration": 9,
    "start_time": "2022-01-18T17:46:13.762Z"
   },
   {
    "duration": 9,
    "start_time": "2022-01-18T17:52:47.218Z"
   },
   {
    "duration": 2592,
    "start_time": "2022-01-18T17:53:40.712Z"
   },
   {
    "duration": 8,
    "start_time": "2022-01-18T17:54:42.736Z"
   },
   {
    "duration": 364,
    "start_time": "2022-01-18T17:55:12.217Z"
   },
   {
    "duration": 32,
    "start_time": "2022-01-18T17:55:18.959Z"
   },
   {
    "duration": 6,
    "start_time": "2022-01-18T18:01:36.422Z"
   },
   {
    "duration": 25,
    "start_time": "2022-01-18T18:06:12.961Z"
   },
   {
    "duration": 11,
    "start_time": "2022-01-18T18:07:55.320Z"
   },
   {
    "duration": 123,
    "start_time": "2022-01-18T18:11:32.859Z"
   },
   {
    "duration": 127,
    "start_time": "2022-01-18T18:11:43.824Z"
   },
   {
    "duration": 73,
    "start_time": "2022-01-18T18:12:36.230Z"
   },
   {
    "duration": 9418,
    "start_time": "2022-01-18T18:12:39.872Z"
   },
   {
    "duration": 71,
    "start_time": "2022-01-18T18:12:54.500Z"
   },
   {
    "duration": 4,
    "start_time": "2022-01-18T18:12:54.573Z"
   },
   {
    "duration": 11,
    "start_time": "2022-01-18T18:12:54.580Z"
   },
   {
    "duration": 15,
    "start_time": "2022-01-18T18:12:54.764Z"
   },
   {
    "duration": 8,
    "start_time": "2022-01-18T18:17:28.966Z"
   },
   {
    "duration": 128,
    "start_time": "2022-01-18T18:19:10.587Z"
   },
   {
    "duration": 125,
    "start_time": "2022-01-18T18:19:13.394Z"
   },
   {
    "duration": 30,
    "start_time": "2022-01-18T18:19:15.710Z"
   },
   {
    "duration": 27,
    "start_time": "2022-01-18T18:19:46.581Z"
   },
   {
    "duration": 33,
    "start_time": "2022-01-18T18:20:06.109Z"
   },
   {
    "duration": 27,
    "start_time": "2022-01-18T18:20:19.923Z"
   },
   {
    "duration": 6,
    "start_time": "2022-01-18T18:20:38.343Z"
   },
   {
    "duration": 383,
    "start_time": "2022-01-18T18:20:43.760Z"
   },
   {
    "duration": 897,
    "start_time": "2022-01-18T18:20:46.917Z"
   },
   {
    "duration": 25,
    "start_time": "2022-01-18T18:20:57.190Z"
   },
   {
    "duration": 196,
    "start_time": "2022-01-18T18:23:58.046Z"
   },
   {
    "duration": 14,
    "start_time": "2022-01-18T18:24:12.330Z"
   },
   {
    "duration": 21,
    "start_time": "2022-01-18T18:24:24.216Z"
   },
   {
    "duration": 14,
    "start_time": "2022-01-18T18:24:50.934Z"
   },
   {
    "duration": 388,
    "start_time": "2022-01-18T18:26:24.674Z"
   },
   {
    "duration": 27,
    "start_time": "2022-01-18T18:29:39.486Z"
   },
   {
    "duration": 31,
    "start_time": "2022-01-18T18:30:18.088Z"
   },
   {
    "duration": 27,
    "start_time": "2022-01-18T18:30:45.892Z"
   },
   {
    "duration": 27,
    "start_time": "2022-01-18T18:30:55.534Z"
   },
   {
    "duration": 27,
    "start_time": "2022-01-18T18:31:01.421Z"
   },
   {
    "duration": 31,
    "start_time": "2022-01-18T18:31:21.596Z"
   },
   {
    "duration": 29,
    "start_time": "2022-01-18T18:31:29.837Z"
   },
   {
    "duration": 29,
    "start_time": "2022-01-18T18:31:41.239Z"
   },
   {
    "duration": 29,
    "start_time": "2022-01-18T18:31:59.621Z"
   },
   {
    "duration": 27,
    "start_time": "2022-01-18T18:34:47.756Z"
   },
   {
    "duration": 28,
    "start_time": "2022-01-18T18:34:56.240Z"
   },
   {
    "duration": 28,
    "start_time": "2022-01-18T18:35:09.158Z"
   },
   {
    "duration": 3510,
    "start_time": "2022-01-18T18:35:27.893Z"
   },
   {
    "duration": 28,
    "start_time": "2022-01-18T18:36:04.864Z"
   },
   {
    "duration": 77,
    "start_time": "2022-01-18T18:39:45.811Z"
   },
   {
    "duration": 84,
    "start_time": "2022-01-18T18:41:21.131Z"
   },
   {
    "duration": 73,
    "start_time": "2022-01-18T18:41:38.665Z"
   },
   {
    "duration": 10,
    "start_time": "2022-01-18T18:42:35.210Z"
   },
   {
    "duration": 7,
    "start_time": "2022-01-18T18:42:46.752Z"
   },
   {
    "duration": 15,
    "start_time": "2022-01-18T18:43:06.346Z"
   },
   {
    "duration": 26,
    "start_time": "2022-01-18T18:43:45.530Z"
   },
   {
    "duration": 20,
    "start_time": "2022-01-18T18:43:52.280Z"
   },
   {
    "duration": 837,
    "start_time": "2022-01-22T12:30:23.154Z"
   },
   {
    "duration": 4,
    "start_time": "2022-01-22T12:30:23.994Z"
   },
   {
    "duration": 13,
    "start_time": "2022-01-22T12:30:24.001Z"
   },
   {
    "duration": 15,
    "start_time": "2022-01-22T12:30:24.017Z"
   },
   {
    "duration": 28,
    "start_time": "2022-01-22T12:30:24.070Z"
   },
   {
    "duration": 27,
    "start_time": "2022-01-22T12:30:24.101Z"
   },
   {
    "duration": 108,
    "start_time": "2022-01-22T12:30:24.131Z"
   },
   {
    "duration": 37,
    "start_time": "2022-01-22T12:30:24.242Z"
   },
   {
    "duration": 25,
    "start_time": "2022-01-22T12:30:24.283Z"
   },
   {
    "duration": 19,
    "start_time": "2022-01-22T12:32:26.246Z"
   },
   {
    "duration": 10,
    "start_time": "2022-01-22T12:35:15.186Z"
   },
   {
    "duration": 29,
    "start_time": "2022-01-22T12:35:18.594Z"
   },
   {
    "duration": 13,
    "start_time": "2022-01-22T12:35:46.925Z"
   },
   {
    "duration": 39,
    "start_time": "2022-01-22T12:45:26.411Z"
   },
   {
    "duration": 10,
    "start_time": "2022-01-22T12:45:33.677Z"
   },
   {
    "duration": 9,
    "start_time": "2022-01-22T12:46:00.323Z"
   },
   {
    "duration": 8,
    "start_time": "2022-01-22T12:46:09.159Z"
   },
   {
    "duration": 6,
    "start_time": "2022-01-22T12:46:22.212Z"
   },
   {
    "duration": 5,
    "start_time": "2022-01-22T12:46:51.131Z"
   },
   {
    "duration": 7,
    "start_time": "2022-01-22T12:49:08.466Z"
   },
   {
    "duration": 8,
    "start_time": "2022-01-22T12:49:23.283Z"
   },
   {
    "duration": 9,
    "start_time": "2022-01-22T12:49:30.728Z"
   },
   {
    "duration": 8,
    "start_time": "2022-01-22T12:49:46.207Z"
   },
   {
    "duration": 6,
    "start_time": "2022-01-22T12:49:48.827Z"
   },
   {
    "duration": 5,
    "start_time": "2022-01-22T12:52:42.208Z"
   },
   {
    "duration": 398,
    "start_time": "2022-01-22T12:54:28.367Z"
   },
   {
    "duration": 103,
    "start_time": "2022-01-22T12:54:33.579Z"
   },
   {
    "duration": 31,
    "start_time": "2022-01-22T12:55:40.177Z"
   },
   {
    "duration": 73,
    "start_time": "2022-01-22T12:56:26.322Z"
   },
   {
    "duration": 5,
    "start_time": "2022-01-22T12:56:26.398Z"
   },
   {
    "duration": 13,
    "start_time": "2022-01-22T12:56:26.407Z"
   },
   {
    "duration": 47,
    "start_time": "2022-01-22T12:56:26.423Z"
   },
   {
    "duration": 26,
    "start_time": "2022-01-22T12:56:26.474Z"
   },
   {
    "duration": 75,
    "start_time": "2022-01-22T12:56:26.503Z"
   },
   {
    "duration": 11,
    "start_time": "2022-01-22T12:56:26.581Z"
   },
   {
    "duration": 30,
    "start_time": "2022-01-22T13:06:18.325Z"
   },
   {
    "duration": 10,
    "start_time": "2022-01-22T13:09:09.607Z"
   },
   {
    "duration": 266,
    "start_time": "2022-01-22T13:09:25.361Z"
   },
   {
    "duration": 27,
    "start_time": "2022-01-22T13:09:30.080Z"
   },
   {
    "duration": 23,
    "start_time": "2022-01-22T13:10:59.501Z"
   },
   {
    "duration": 22,
    "start_time": "2022-01-22T13:11:07.159Z"
   },
   {
    "duration": 21,
    "start_time": "2022-01-22T13:11:24.742Z"
   },
   {
    "duration": 7,
    "start_time": "2022-01-22T13:17:23.238Z"
   },
   {
    "duration": 48,
    "start_time": "2022-01-22T13:17:27.750Z"
   },
   {
    "duration": -37,
    "start_time": "2022-01-22T13:32:03.360Z"
   },
   {
    "duration": 7086,
    "start_time": "2022-01-22T13:33:02.161Z"
   },
   {
    "duration": 12,
    "start_time": "2022-01-22T13:33:27.913Z"
   },
   {
    "duration": 11,
    "start_time": "2022-01-22T13:34:12.309Z"
   },
   {
    "duration": 274,
    "start_time": "2022-01-22T13:38:05.605Z"
   },
   {
    "duration": 9,
    "start_time": "2022-01-22T13:38:20.330Z"
   },
   {
    "duration": 12,
    "start_time": "2022-01-22T13:39:20.715Z"
   },
   {
    "duration": 468,
    "start_time": "2022-01-22T13:41:29.504Z"
   },
   {
    "duration": 312,
    "start_time": "2022-01-22T13:42:08.307Z"
   },
   {
    "duration": 12,
    "start_time": "2022-01-22T13:42:15.561Z"
   },
   {
    "duration": 12,
    "start_time": "2022-01-22T13:43:41.338Z"
   },
   {
    "duration": 11,
    "start_time": "2022-01-22T13:44:23.762Z"
   },
   {
    "duration": 383,
    "start_time": "2022-01-22T13:44:55.450Z"
   },
   {
    "duration": 100,
    "start_time": "2022-01-22T13:45:09.417Z"
   },
   {
    "duration": 358,
    "start_time": "2022-01-22T13:45:41.289Z"
   },
   {
    "duration": 400,
    "start_time": "2022-01-22T13:45:59.182Z"
   },
   {
    "duration": 12,
    "start_time": "2022-01-22T13:46:03.992Z"
   },
   {
    "duration": 309,
    "start_time": "2022-01-22T13:49:57.810Z"
   },
   {
    "duration": 603,
    "start_time": "2022-01-22T13:50:02.510Z"
   },
   {
    "duration": 9675,
    "start_time": "2022-01-22T13:51:24.549Z"
   },
   {
    "duration": 9390,
    "start_time": "2022-01-22T13:51:37.385Z"
   },
   {
    "duration": 13,
    "start_time": "2022-01-22T13:52:15.471Z"
   },
   {
    "duration": 97,
    "start_time": "2022-01-22T13:52:24.650Z"
   },
   {
    "duration": 98,
    "start_time": "2022-01-22T13:52:27.458Z"
   },
   {
    "duration": 354,
    "start_time": "2022-01-22T13:52:29.641Z"
   },
   {
    "duration": 7,
    "start_time": "2022-01-22T13:52:53.779Z"
   },
   {
    "duration": 8,
    "start_time": "2022-01-22T13:53:13.769Z"
   },
   {
    "duration": 8,
    "start_time": "2022-01-22T13:53:18.831Z"
   },
   {
    "duration": 9,
    "start_time": "2022-01-22T13:53:23.800Z"
   },
   {
    "duration": 7,
    "start_time": "2022-01-22T13:53:25.932Z"
   },
   {
    "duration": 6,
    "start_time": "2022-01-22T13:53:31.143Z"
   },
   {
    "duration": 10,
    "start_time": "2022-01-22T13:54:05.883Z"
   },
   {
    "duration": 732,
    "start_time": "2022-01-22T13:54:51.868Z"
   },
   {
    "duration": 832,
    "start_time": "2022-01-22T13:54:59.998Z"
   },
   {
    "duration": 691,
    "start_time": "2022-01-22T13:55:08.562Z"
   },
   {
    "duration": 682,
    "start_time": "2022-01-22T13:55:26.665Z"
   },
   {
    "duration": 770,
    "start_time": "2022-01-22T13:55:42.489Z"
   },
   {
    "duration": 706,
    "start_time": "2022-01-22T13:56:56.281Z"
   },
   {
    "duration": 5,
    "start_time": "2022-01-22T13:57:55.125Z"
   },
   {
    "duration": 13,
    "start_time": "2022-01-22T13:58:55.267Z"
   },
   {
    "duration": 274,
    "start_time": "2022-01-22T14:00:22.348Z"
   },
   {
    "duration": 288,
    "start_time": "2022-01-22T14:00:44.458Z"
   },
   {
    "duration": 95,
    "start_time": "2022-01-22T14:01:40.563Z"
   },
   {
    "duration": 13,
    "start_time": "2022-01-22T14:01:45.622Z"
   },
   {
    "duration": 672,
    "start_time": "2022-01-22T14:01:58.547Z"
   },
   {
    "duration": 1120,
    "start_time": "2022-01-22T14:03:02.414Z"
   },
   {
    "duration": 71,
    "start_time": "2022-01-22T14:03:44.395Z"
   },
   {
    "duration": 7615,
    "start_time": "2022-01-22T14:03:48.300Z"
   },
   {
    "duration": 85,
    "start_time": "2022-01-22T14:04:03.153Z"
   },
   {
    "duration": 4,
    "start_time": "2022-01-22T14:04:03.241Z"
   },
   {
    "duration": 16,
    "start_time": "2022-01-22T14:04:03.274Z"
   },
   {
    "duration": 15,
    "start_time": "2022-01-22T14:04:03.293Z"
   },
   {
    "duration": 22,
    "start_time": "2022-01-22T14:04:03.311Z"
   },
   {
    "duration": 27,
    "start_time": "2022-01-22T14:04:03.369Z"
   },
   {
    "duration": 10,
    "start_time": "2022-01-22T14:04:03.400Z"
   },
   {
    "duration": 66,
    "start_time": "2022-01-22T14:04:03.414Z"
   },
   {
    "duration": 8,
    "start_time": "2022-01-22T14:04:03.484Z"
   },
   {
    "duration": 694,
    "start_time": "2022-01-22T14:04:03.494Z"
   },
   {
    "duration": 775,
    "start_time": "2022-01-22T14:04:22.338Z"
   },
   {
    "duration": 11,
    "start_time": "2022-01-22T14:10:47.318Z"
   },
   {
    "duration": 15,
    "start_time": "2022-01-22T14:11:44.916Z"
   },
   {
    "duration": 19,
    "start_time": "2022-01-22T14:12:04.776Z"
   },
   {
    "duration": 13,
    "start_time": "2022-01-22T14:12:24.020Z"
   },
   {
    "duration": 482,
    "start_time": "2022-01-22T14:14:09.247Z"
   },
   {
    "duration": 15,
    "start_time": "2022-01-22T14:15:20.136Z"
   },
   {
    "duration": 297,
    "start_time": "2022-01-22T14:15:24.047Z"
   },
   {
    "duration": 11,
    "start_time": "2022-01-22T14:15:43.937Z"
   },
   {
    "duration": 8,
    "start_time": "2022-01-22T14:16:01.018Z"
   },
   {
    "duration": 6,
    "start_time": "2022-01-22T14:16:04.508Z"
   },
   {
    "duration": 282,
    "start_time": "2022-01-22T14:16:12.484Z"
   },
   {
    "duration": 21,
    "start_time": "2022-01-22T14:19:03.158Z"
   },
   {
    "duration": 24,
    "start_time": "2022-01-22T14:19:07.775Z"
   },
   {
    "duration": 18,
    "start_time": "2022-01-22T14:19:25.486Z"
   },
   {
    "duration": 22,
    "start_time": "2022-01-22T14:19:25.842Z"
   },
   {
    "duration": 7856,
    "start_time": "2022-01-22T14:19:46.643Z"
   },
   {
    "duration": 15,
    "start_time": "2022-01-22T14:20:05.392Z"
   },
   {
    "duration": 288,
    "start_time": "2022-01-22T14:23:09.834Z"
   },
   {
    "duration": 286,
    "start_time": "2022-01-22T14:23:23.016Z"
   },
   {
    "duration": 36,
    "start_time": "2022-01-22T14:23:38.029Z"
   },
   {
    "duration": 18,
    "start_time": "2022-01-22T14:23:54.741Z"
   },
   {
    "duration": 31,
    "start_time": "2022-01-22T14:24:23.553Z"
   },
   {
    "duration": 23,
    "start_time": "2022-01-22T14:28:38.011Z"
   },
   {
    "duration": 289,
    "start_time": "2022-01-22T14:28:58.018Z"
   },
   {
    "duration": 284,
    "start_time": "2022-01-22T14:29:25.911Z"
   },
   {
    "duration": 28,
    "start_time": "2022-01-22T14:29:44.451Z"
   },
   {
    "duration": 276,
    "start_time": "2022-01-22T14:31:59.365Z"
   },
   {
    "duration": 280,
    "start_time": "2022-01-22T14:32:03.823Z"
   },
   {
    "duration": 27,
    "start_time": "2022-01-22T14:32:15.018Z"
   },
   {
    "duration": 24,
    "start_time": "2022-01-22T14:33:05.430Z"
   },
   {
    "duration": 26,
    "start_time": "2022-01-22T14:33:12.591Z"
   },
   {
    "duration": 16,
    "start_time": "2022-01-22T14:34:31.885Z"
   },
   {
    "duration": 9,
    "start_time": "2022-01-22T14:34:42.359Z"
   },
   {
    "duration": 10,
    "start_time": "2022-01-22T14:35:00.441Z"
   },
   {
    "duration": 394,
    "start_time": "2022-01-22T14:35:21.102Z"
   },
   {
    "duration": 11,
    "start_time": "2022-01-22T14:35:38.482Z"
   },
   {
    "duration": 268,
    "start_time": "2022-01-22T14:35:53.929Z"
   },
   {
    "duration": 18,
    "start_time": "2022-01-22T14:36:08.347Z"
   },
   {
    "duration": 19,
    "start_time": "2022-01-22T14:36:32.351Z"
   },
   {
    "duration": 19,
    "start_time": "2022-01-22T14:36:42.008Z"
   },
   {
    "duration": 9,
    "start_time": "2022-01-22T14:37:39.373Z"
   },
   {
    "duration": 9,
    "start_time": "2022-01-22T14:37:51.718Z"
   },
   {
    "duration": 13,
    "start_time": "2022-01-22T14:37:57.430Z"
   },
   {
    "duration": 3,
    "start_time": "2022-01-22T14:38:35.041Z"
   },
   {
    "duration": 3900,
    "start_time": "2022-01-22T14:38:39.060Z"
   },
   {
    "duration": 3359,
    "start_time": "2022-01-22T14:38:51.371Z"
   },
   {
    "duration": 7,
    "start_time": "2022-01-22T14:39:00.563Z"
   },
   {
    "duration": 19,
    "start_time": "2022-01-22T14:39:38.988Z"
   },
   {
    "duration": 18,
    "start_time": "2022-01-22T14:57:24.089Z"
   },
   {
    "duration": 21,
    "start_time": "2022-01-22T14:57:49.649Z"
   },
   {
    "duration": 15,
    "start_time": "2022-01-22T14:58:54.953Z"
   },
   {
    "duration": 13,
    "start_time": "2022-01-22T14:59:02.515Z"
   },
   {
    "duration": 16,
    "start_time": "2022-01-22T14:59:37.583Z"
   },
   {
    "duration": 13,
    "start_time": "2022-01-22T14:59:50.908Z"
   },
   {
    "duration": 6,
    "start_time": "2022-01-22T15:00:41.583Z"
   },
   {
    "duration": 330,
    "start_time": "2022-01-22T15:01:46.486Z"
   },
   {
    "duration": 333,
    "start_time": "2022-01-22T15:02:16.194Z"
   },
   {
    "duration": 88,
    "start_time": "2022-01-22T15:02:20.912Z"
   },
   {
    "duration": 4,
    "start_time": "2022-01-22T15:02:21.003Z"
   },
   {
    "duration": 14,
    "start_time": "2022-01-22T15:02:21.011Z"
   },
   {
    "duration": 48,
    "start_time": "2022-01-22T15:02:21.028Z"
   },
   {
    "duration": 25,
    "start_time": "2022-01-22T15:02:21.079Z"
   },
   {
    "duration": 23,
    "start_time": "2022-01-22T15:02:21.106Z"
   },
   {
    "duration": 60,
    "start_time": "2022-01-22T15:02:21.131Z"
   },
   {
    "duration": 22,
    "start_time": "2022-01-22T15:02:21.195Z"
   },
   {
    "duration": 5,
    "start_time": "2022-01-22T15:02:21.220Z"
   },
   {
    "duration": 725,
    "start_time": "2022-01-22T15:02:21.228Z"
   },
   {
    "duration": 29,
    "start_time": "2022-01-22T15:02:21.956Z"
   },
   {
    "duration": 328,
    "start_time": "2022-01-22T15:02:24.302Z"
   },
   {
    "duration": 5,
    "start_time": "2022-01-22T15:03:49.033Z"
   },
   {
    "duration": 32,
    "start_time": "2022-01-22T15:04:45.365Z"
   },
   {
    "duration": 308,
    "start_time": "2022-01-22T15:05:02.886Z"
   },
   {
    "duration": 78,
    "start_time": "2022-01-22T15:05:26.712Z"
   },
   {
    "duration": 3,
    "start_time": "2022-01-22T15:05:26.793Z"
   },
   {
    "duration": 9,
    "start_time": "2022-01-22T15:05:26.800Z"
   },
   {
    "duration": 14,
    "start_time": "2022-01-22T15:05:26.812Z"
   },
   {
    "duration": 55,
    "start_time": "2022-01-22T15:05:26.829Z"
   },
   {
    "duration": 23,
    "start_time": "2022-01-22T15:05:26.886Z"
   },
   {
    "duration": 14,
    "start_time": "2022-01-22T15:05:26.912Z"
   },
   {
    "duration": 25,
    "start_time": "2022-01-22T15:05:26.970Z"
   },
   {
    "duration": 6,
    "start_time": "2022-01-22T15:05:26.998Z"
   },
   {
    "duration": 687,
    "start_time": "2022-01-22T15:05:27.006Z"
   },
   {
    "duration": 10,
    "start_time": "2022-01-22T15:05:27.695Z"
   },
   {
    "duration": 62,
    "start_time": "2022-01-22T15:05:27.707Z"
   },
   {
    "duration": 31862,
    "start_time": "2022-01-22T15:05:27.771Z"
   },
   {
    "duration": 307,
    "start_time": "2022-01-22T15:06:33.900Z"
   },
   {
    "duration": 335,
    "start_time": "2022-01-22T15:06:43.486Z"
   },
   {
    "duration": 35,
    "start_time": "2022-01-22T15:07:06.439Z"
   },
   {
    "duration": 34,
    "start_time": "2022-01-22T15:07:17.173Z"
   },
   {
    "duration": 660,
    "start_time": "2022-01-22T15:08:06.093Z"
   },
   {
    "duration": 67,
    "start_time": "2022-01-22T15:09:02.126Z"
   },
   {
    "duration": 24,
    "start_time": "2022-01-22T16:03:59.206Z"
   },
   {
    "duration": 577,
    "start_time": "2022-01-22T16:05:01.684Z"
   },
   {
    "duration": 633,
    "start_time": "2022-01-22T16:05:20.882Z"
   },
   {
    "duration": 628,
    "start_time": "2022-01-22T16:05:37.078Z"
   },
   {
    "duration": 926,
    "start_time": "2022-01-22T16:05:47.354Z"
   },
   {
    "duration": 722,
    "start_time": "2022-01-22T16:06:39.410Z"
   },
   {
    "duration": 726,
    "start_time": "2022-01-22T16:07:39.802Z"
   },
   {
    "duration": 11,
    "start_time": "2022-01-22T16:09:19.205Z"
   },
   {
    "duration": 547,
    "start_time": "2022-01-22T16:09:19.906Z"
   },
   {
    "duration": 10,
    "start_time": "2022-01-22T16:09:50.093Z"
   },
   {
    "duration": 586,
    "start_time": "2022-01-22T16:10:10.989Z"
   },
   {
    "duration": 11,
    "start_time": "2022-01-22T16:16:13.849Z"
   },
   {
    "duration": 24,
    "start_time": "2022-01-22T16:16:37.853Z"
   },
   {
    "duration": 27,
    "start_time": "2022-01-22T16:17:07.515Z"
   },
   {
    "duration": 26,
    "start_time": "2022-01-22T16:17:22.416Z"
   },
   {
    "duration": 27,
    "start_time": "2022-01-22T16:17:31.397Z"
   },
   {
    "duration": 7,
    "start_time": "2022-01-22T16:17:56.926Z"
   },
   {
    "duration": 26,
    "start_time": "2022-01-22T16:18:24.534Z"
   },
   {
    "duration": 8,
    "start_time": "2022-01-22T16:20:04.488Z"
   },
   {
    "duration": 9,
    "start_time": "2022-01-22T16:20:12.118Z"
   },
   {
    "duration": 10,
    "start_time": "2022-01-22T16:20:22.956Z"
   },
   {
    "duration": 8,
    "start_time": "2022-01-22T16:20:30.072Z"
   },
   {
    "duration": 8,
    "start_time": "2022-01-22T16:20:40.002Z"
   },
   {
    "duration": 8,
    "start_time": "2022-01-22T16:20:42.916Z"
   },
   {
    "duration": 118,
    "start_time": "2022-01-22T16:20:46.118Z"
   },
   {
    "duration": 11,
    "start_time": "2022-01-22T16:20:48.710Z"
   },
   {
    "duration": 10,
    "start_time": "2022-01-22T16:21:06.011Z"
   },
   {
    "duration": 9,
    "start_time": "2022-01-22T16:21:14.935Z"
   },
   {
    "duration": 7,
    "start_time": "2022-01-22T16:21:23.133Z"
   },
   {
    "duration": 8,
    "start_time": "2022-01-22T16:21:34.480Z"
   },
   {
    "duration": 9,
    "start_time": "2022-01-22T16:21:38.716Z"
   },
   {
    "duration": 8,
    "start_time": "2022-01-22T16:21:57.143Z"
   },
   {
    "duration": 9,
    "start_time": "2022-01-22T16:22:08.552Z"
   },
   {
    "duration": 21,
    "start_time": "2022-01-22T16:24:02.080Z"
   },
   {
    "duration": 10,
    "start_time": "2022-01-22T16:27:56.051Z"
   },
   {
    "duration": 7163,
    "start_time": "2022-01-22T16:27:59.796Z"
   },
   {
    "duration": 697,
    "start_time": "2022-01-22T16:28:08.952Z"
   },
   {
    "duration": 35,
    "start_time": "2022-01-22T16:28:19.442Z"
   },
   {
    "duration": 12,
    "start_time": "2022-01-22T16:28:27.750Z"
   },
   {
    "duration": 542,
    "start_time": "2022-01-22T16:28:28.167Z"
   },
   {
    "duration": 22,
    "start_time": "2022-01-22T16:28:32.111Z"
   },
   {
    "duration": 22,
    "start_time": "2022-01-22T16:29:04.145Z"
   },
   {
    "duration": 21,
    "start_time": "2022-01-22T16:29:15.745Z"
   },
   {
    "duration": 35,
    "start_time": "2022-01-22T16:39:35.763Z"
   },
   {
    "duration": 25,
    "start_time": "2022-01-22T16:40:23.613Z"
   },
   {
    "duration": 26,
    "start_time": "2022-01-22T16:40:41.776Z"
   },
   {
    "duration": 27,
    "start_time": "2022-01-22T16:41:18.674Z"
   },
   {
    "duration": 286,
    "start_time": "2022-01-22T16:41:59.502Z"
   },
   {
    "duration": 27,
    "start_time": "2022-01-22T16:42:04.816Z"
   },
   {
    "duration": 37,
    "start_time": "2022-01-22T16:42:20.491Z"
   },
   {
    "duration": 99,
    "start_time": "2022-01-22T16:45:06.967Z"
   },
   {
    "duration": 708,
    "start_time": "2022-01-22T16:45:25.320Z"
   },
   {
    "duration": 750,
    "start_time": "2022-01-22T16:45:34.720Z"
   },
   {
    "duration": 865,
    "start_time": "2022-01-22T16:47:33.190Z"
   },
   {
    "duration": 536,
    "start_time": "2022-01-22T16:47:42.053Z"
   },
   {
    "duration": 35,
    "start_time": "2022-01-22T16:48:31.156Z"
   },
   {
    "duration": 27,
    "start_time": "2022-01-22T16:48:38.528Z"
   },
   {
    "duration": 865,
    "start_time": "2022-01-22T16:49:38.734Z"
   },
   {
    "duration": 28,
    "start_time": "2022-01-22T16:50:53.770Z"
   },
   {
    "duration": 30,
    "start_time": "2022-01-22T16:51:02.647Z"
   },
   {
    "duration": 584,
    "start_time": "2022-01-22T16:51:21.856Z"
   },
   {
    "duration": 32,
    "start_time": "2022-01-22T16:58:00.626Z"
   },
   {
    "duration": 616,
    "start_time": "2022-01-22T16:58:03.424Z"
   },
   {
    "duration": 33,
    "start_time": "2022-01-22T16:58:18.560Z"
   },
   {
    "duration": 549,
    "start_time": "2022-01-22T16:58:18.999Z"
   },
   {
    "duration": 286,
    "start_time": "2022-01-22T17:01:45.293Z"
   },
   {
    "duration": 51,
    "start_time": "2022-01-22T17:01:51.864Z"
   },
   {
    "duration": 15,
    "start_time": "2022-01-22T17:02:04.196Z"
   },
   {
    "duration": 274,
    "start_time": "2022-01-22T17:02:44.458Z"
   },
   {
    "duration": 23,
    "start_time": "2022-01-22T17:02:52.954Z"
   },
   {
    "duration": 92,
    "start_time": "2022-01-22T17:03:26.182Z"
   },
   {
    "duration": 101,
    "start_time": "2022-01-22T17:04:01.902Z"
   },
   {
    "duration": 33,
    "start_time": "2022-01-22T17:04:13.431Z"
   },
   {
    "duration": 548,
    "start_time": "2022-01-22T17:04:37.799Z"
   },
   {
    "duration": 510,
    "start_time": "2022-01-22T17:08:32.126Z"
   },
   {
    "duration": 514,
    "start_time": "2022-01-22T17:09:31.200Z"
   },
   {
    "duration": 493,
    "start_time": "2022-01-22T17:09:34.376Z"
   },
   {
    "duration": 298,
    "start_time": "2022-01-22T17:09:41.343Z"
   },
   {
    "duration": 323,
    "start_time": "2022-01-22T17:10:27.046Z"
   },
   {
    "duration": 489,
    "start_time": "2022-01-22T17:10:47.322Z"
   },
   {
    "duration": 433,
    "start_time": "2022-01-22T17:11:11.549Z"
   },
   {
    "duration": 372,
    "start_time": "2022-01-22T17:12:01.730Z"
   },
   {
    "duration": 452,
    "start_time": "2022-01-22T17:14:39.183Z"
   },
   {
    "duration": 290,
    "start_time": "2022-01-22T17:15:24.899Z"
   },
   {
    "duration": 347,
    "start_time": "2022-01-22T17:15:36.869Z"
   },
   {
    "duration": 333,
    "start_time": "2022-01-22T17:18:02.531Z"
   },
   {
    "duration": 790,
    "start_time": "2022-01-22T17:32:42.804Z"
   },
   {
    "duration": 140,
    "start_time": "2022-01-22T17:32:53.050Z"
   },
   {
    "duration": 700,
    "start_time": "2022-01-22T17:32:55.919Z"
   },
   {
    "duration": 7335,
    "start_time": "2022-01-22T17:34:54.805Z"
   },
   {
    "duration": 592,
    "start_time": "2022-01-22T17:35:26.006Z"
   },
   {
    "duration": 33,
    "start_time": "2022-01-22T17:36:26.042Z"
   },
   {
    "duration": 26,
    "start_time": "2022-01-22T17:37:18.511Z"
   },
   {
    "duration": 26,
    "start_time": "2022-01-22T17:37:45.386Z"
   },
   {
    "duration": 29,
    "start_time": "2022-01-22T17:39:34.241Z"
   },
   {
    "duration": 466,
    "start_time": "2022-01-22T17:40:19.685Z"
   },
   {
    "duration": 943,
    "start_time": "2022-01-22T17:40:43.626Z"
   },
   {
    "duration": 2439,
    "start_time": "2022-01-22T17:49:03.911Z"
   },
   {
    "duration": 33,
    "start_time": "2022-01-22T17:49:23.085Z"
   },
   {
    "duration": 2168,
    "start_time": "2022-01-22T17:49:49.636Z"
   },
   {
    "duration": 92,
    "start_time": "2022-01-22T17:49:55.283Z"
   },
   {
    "duration": 2152,
    "start_time": "2022-01-22T17:50:01.208Z"
   },
   {
    "duration": 1417,
    "start_time": "2022-01-22T17:53:24.655Z"
   },
   {
    "duration": 27,
    "start_time": "2022-01-22T17:53:47.772Z"
   },
   {
    "duration": 1270,
    "start_time": "2022-01-22T17:53:48.344Z"
   },
   {
    "duration": 25,
    "start_time": "2022-01-22T17:53:59.662Z"
   },
   {
    "duration": 1324,
    "start_time": "2022-01-22T17:54:00.235Z"
   },
   {
    "duration": 457,
    "start_time": "2022-01-22T17:54:35.623Z"
   },
   {
    "duration": 1517,
    "start_time": "2022-01-22T17:59:24.924Z"
   },
   {
    "duration": 1837,
    "start_time": "2022-01-22T18:01:00.340Z"
   },
   {
    "duration": 1647,
    "start_time": "2022-01-22T18:01:50.601Z"
   },
   {
    "duration": 29,
    "start_time": "2022-01-22T18:02:28.511Z"
   },
   {
    "duration": 28,
    "start_time": "2022-01-22T18:03:25.444Z"
   },
   {
    "duration": 29,
    "start_time": "2022-01-22T18:03:25.475Z"
   },
   {
    "duration": 82,
    "start_time": "2022-01-22T18:03:25.508Z"
   },
   {
    "duration": 74,
    "start_time": "2022-01-22T18:09:13.804Z"
   },
   {
    "duration": 4,
    "start_time": "2022-01-22T18:09:13.881Z"
   },
   {
    "duration": 12,
    "start_time": "2022-01-22T18:09:13.888Z"
   },
   {
    "duration": 14,
    "start_time": "2022-01-22T18:09:13.903Z"
   },
   {
    "duration": 25,
    "start_time": "2022-01-22T18:09:13.969Z"
   },
   {
    "duration": 33,
    "start_time": "2022-01-22T18:09:13.997Z"
   },
   {
    "duration": 17,
    "start_time": "2022-01-22T18:09:14.071Z"
   },
   {
    "duration": 34,
    "start_time": "2022-01-22T18:09:14.095Z"
   },
   {
    "duration": 42,
    "start_time": "2022-01-22T18:09:14.132Z"
   },
   {
    "duration": 646,
    "start_time": "2022-01-22T18:09:14.177Z"
   },
   {
    "duration": 11,
    "start_time": "2022-01-22T18:09:14.826Z"
   },
   {
    "duration": 592,
    "start_time": "2022-01-22T18:09:14.840Z"
   },
   {
    "duration": 40,
    "start_time": "2022-01-22T18:09:15.435Z"
   },
   {
    "duration": 33,
    "start_time": "2022-01-22T18:09:15.478Z"
   },
   {
    "duration": 603,
    "start_time": "2022-01-22T18:09:15.514Z"
   },
   {
    "duration": 379,
    "start_time": "2022-01-22T18:09:16.120Z"
   },
   {
    "duration": 1340,
    "start_time": "2022-01-22T18:09:16.501Z"
   },
   {
    "duration": 1266,
    "start_time": "2022-01-22T18:09:17.844Z"
   },
   {
    "duration": 28,
    "start_time": "2022-01-22T18:09:19.113Z"
   },
   {
    "duration": 55,
    "start_time": "2022-01-22T18:09:19.144Z"
   },
   {
    "duration": 78,
    "start_time": "2022-01-22T18:09:19.202Z"
   },
   {
    "duration": 7,
    "start_time": "2022-01-22T18:17:35.884Z"
   },
   {
    "duration": 3,
    "start_time": "2022-01-22T18:18:08.601Z"
   },
   {
    "duration": 426,
    "start_time": "2022-01-22T18:19:56.642Z"
   },
   {
    "duration": 434,
    "start_time": "2022-01-22T18:20:22.530Z"
   },
   {
    "duration": 592,
    "start_time": "2022-01-22T18:21:22.143Z"
   },
   {
    "duration": 424,
    "start_time": "2022-01-22T18:22:04.742Z"
   },
   {
    "duration": 437,
    "start_time": "2022-01-22T18:22:41.554Z"
   },
   {
    "duration": 438,
    "start_time": "2022-01-22T18:22:54.370Z"
   },
   {
    "duration": 418,
    "start_time": "2022-01-22T18:23:22.897Z"
   },
   {
    "duration": 696,
    "start_time": "2022-01-23T07:45:07.319Z"
   },
   {
    "duration": 3,
    "start_time": "2022-01-23T07:45:08.016Z"
   },
   {
    "duration": 9,
    "start_time": "2022-01-23T07:45:08.021Z"
   },
   {
    "duration": 11,
    "start_time": "2022-01-23T07:45:08.031Z"
   },
   {
    "duration": 13,
    "start_time": "2022-01-23T07:45:08.043Z"
   },
   {
    "duration": 12,
    "start_time": "2022-01-23T07:45:08.057Z"
   },
   {
    "duration": 6,
    "start_time": "2022-01-23T07:45:08.070Z"
   },
   {
    "duration": 15,
    "start_time": "2022-01-23T07:45:08.079Z"
   },
   {
    "duration": 34,
    "start_time": "2022-01-23T07:45:08.096Z"
   },
   {
    "duration": 347,
    "start_time": "2022-01-23T07:45:08.132Z"
   },
   {
    "duration": 7,
    "start_time": "2022-01-23T07:45:08.480Z"
   },
   {
    "duration": 317,
    "start_time": "2022-01-23T07:45:08.489Z"
   },
   {
    "duration": 26,
    "start_time": "2022-01-23T07:45:08.807Z"
   },
   {
    "duration": 16,
    "start_time": "2022-01-23T07:45:08.835Z"
   },
   {
    "duration": 319,
    "start_time": "2022-01-23T07:45:08.852Z"
   },
   {
    "duration": 253,
    "start_time": "2022-01-23T07:45:09.172Z"
   },
   {
    "duration": 912,
    "start_time": "2022-01-23T07:45:09.426Z"
   },
   {
    "duration": 918,
    "start_time": "2022-01-23T07:45:10.340Z"
   },
   {
    "duration": 654,
    "start_time": "2022-01-23T07:45:11.259Z"
   },
   {
    "duration": 24,
    "start_time": "2022-01-23T07:45:11.916Z"
   },
   {
    "duration": 21,
    "start_time": "2022-01-23T07:45:11.942Z"
   },
   {
    "duration": 271,
    "start_time": "2022-01-23T07:45:11.965Z"
   },
   {
    "duration": 299,
    "start_time": "2022-01-23T07:45:12.238Z"
   },
   {
    "duration": 14,
    "start_time": "2022-01-23T08:03:27.442Z"
   },
   {
    "duration": 15,
    "start_time": "2022-01-23T08:03:51.378Z"
   },
   {
    "duration": 418,
    "start_time": "2022-01-23T08:04:00.611Z"
   },
   {
    "duration": 15,
    "start_time": "2022-01-23T08:04:19.480Z"
   },
   {
    "duration": 22,
    "start_time": "2022-01-23T08:04:46.562Z"
   },
   {
    "duration": 23,
    "start_time": "2022-01-23T08:05:04.520Z"
   },
   {
    "duration": 15,
    "start_time": "2022-01-23T08:05:09.180Z"
   },
   {
    "duration": 13,
    "start_time": "2022-01-23T08:05:46.879Z"
   },
   {
    "duration": 18,
    "start_time": "2022-01-23T08:06:34.149Z"
   },
   {
    "duration": 17,
    "start_time": "2022-01-23T08:12:28.897Z"
   },
   {
    "duration": 17,
    "start_time": "2022-01-23T08:12:47.616Z"
   },
   {
    "duration": 121,
    "start_time": "2022-01-23T08:14:34.112Z"
   },
   {
    "duration": 224,
    "start_time": "2022-01-23T08:14:40.362Z"
   },
   {
    "duration": 237,
    "start_time": "2022-01-23T08:14:51.527Z"
   },
   {
    "duration": 215,
    "start_time": "2022-01-23T08:14:58.388Z"
   },
   {
    "duration": 213,
    "start_time": "2022-01-23T08:15:07.867Z"
   },
   {
    "duration": 19,
    "start_time": "2022-01-23T08:19:11.923Z"
   },
   {
    "duration": 109,
    "start_time": "2022-01-23T08:19:26.638Z"
   },
   {
    "duration": 17,
    "start_time": "2022-01-23T08:20:06.469Z"
   },
   {
    "duration": 30,
    "start_time": "2022-01-23T08:20:38.754Z"
   },
   {
    "duration": 32,
    "start_time": "2022-01-23T08:21:02.563Z"
   },
   {
    "duration": 254,
    "start_time": "2022-01-23T08:21:26.052Z"
   },
   {
    "duration": 408,
    "start_time": "2022-01-23T08:23:04.106Z"
   },
   {
    "duration": 492,
    "start_time": "2022-01-23T08:23:18.465Z"
   },
   {
    "duration": 345,
    "start_time": "2022-01-23T08:23:27.741Z"
   },
   {
    "duration": 242,
    "start_time": "2022-01-23T08:23:32.551Z"
   },
   {
    "duration": 373,
    "start_time": "2022-01-23T08:23:41.257Z"
   },
   {
    "duration": 392,
    "start_time": "2022-01-23T08:28:56.984Z"
   },
   {
    "duration": 466,
    "start_time": "2022-01-23T08:29:54.192Z"
   },
   {
    "duration": 270,
    "start_time": "2022-01-23T08:30:24.193Z"
   },
   {
    "duration": 263,
    "start_time": "2022-01-23T08:30:52.103Z"
   },
   {
    "duration": 251,
    "start_time": "2022-01-23T08:31:02.064Z"
   },
   {
    "duration": 258,
    "start_time": "2022-01-23T08:31:09.576Z"
   },
   {
    "duration": 269,
    "start_time": "2022-01-23T08:31:20.651Z"
   },
   {
    "duration": 273,
    "start_time": "2022-01-23T08:32:10.787Z"
   },
   {
    "duration": 403,
    "start_time": "2022-01-23T08:32:24.815Z"
   },
   {
    "duration": 242,
    "start_time": "2022-01-23T08:34:23.278Z"
   },
   {
    "duration": 368,
    "start_time": "2022-01-23T08:43:49.039Z"
   },
   {
    "duration": 246,
    "start_time": "2022-01-23T08:46:39.405Z"
   },
   {
    "duration": 264,
    "start_time": "2022-01-23T08:46:51.366Z"
   },
   {
    "duration": 348,
    "start_time": "2022-01-23T08:53:07.104Z"
   },
   {
    "duration": 2,
    "start_time": "2022-01-23T09:59:00.332Z"
   },
   {
    "duration": 6,
    "start_time": "2022-01-23T10:12:35.281Z"
   },
   {
    "duration": 345,
    "start_time": "2022-01-23T10:16:52.810Z"
   },
   {
    "duration": 426,
    "start_time": "2022-01-23T10:16:58.172Z"
   },
   {
    "duration": 2,
    "start_time": "2022-01-23T10:16:58.600Z"
   },
   {
    "duration": 10,
    "start_time": "2022-01-23T10:16:58.605Z"
   },
   {
    "duration": 23,
    "start_time": "2022-01-23T10:16:58.617Z"
   },
   {
    "duration": 21,
    "start_time": "2022-01-23T10:16:58.642Z"
   },
   {
    "duration": 13,
    "start_time": "2022-01-23T10:16:58.664Z"
   },
   {
    "duration": 8,
    "start_time": "2022-01-23T10:16:58.679Z"
   },
   {
    "duration": 45,
    "start_time": "2022-01-23T10:16:58.689Z"
   },
   {
    "duration": 4,
    "start_time": "2022-01-23T10:16:58.737Z"
   },
   {
    "duration": 397,
    "start_time": "2022-01-23T10:16:58.743Z"
   },
   {
    "duration": 8,
    "start_time": "2022-01-23T10:16:59.143Z"
   },
   {
    "duration": 448,
    "start_time": "2022-01-23T10:16:59.153Z"
   },
   {
    "duration": 35,
    "start_time": "2022-01-23T10:16:59.603Z"
   },
   {
    "duration": 20,
    "start_time": "2022-01-23T10:16:59.640Z"
   },
   {
    "duration": 483,
    "start_time": "2022-01-23T10:16:59.662Z"
   },
   {
    "duration": 300,
    "start_time": "2022-01-23T10:17:00.147Z"
   },
   {
    "duration": 1181,
    "start_time": "2022-01-23T10:17:00.450Z"
   },
   {
    "duration": 1183,
    "start_time": "2022-01-23T10:17:01.633Z"
   },
   {
    "duration": 23,
    "start_time": "2022-01-23T10:17:02.818Z"
   },
   {
    "duration": 26,
    "start_time": "2022-01-23T10:17:02.843Z"
   },
   {
    "duration": 24,
    "start_time": "2022-01-23T10:17:02.871Z"
   },
   {
    "duration": 282,
    "start_time": "2022-01-23T10:17:02.897Z"
   },
   {
    "duration": 259,
    "start_time": "2022-01-23T10:17:03.182Z"
   },
   {
    "duration": 291,
    "start_time": "2022-01-23T10:17:03.443Z"
   },
   {
    "duration": 296,
    "start_time": "2022-01-23T10:17:03.736Z"
   },
   {
    "duration": 296,
    "start_time": "2022-01-23T10:17:04.034Z"
   },
   {
    "duration": 13,
    "start_time": "2022-01-23T10:17:04.332Z"
   },
   {
    "duration": 364,
    "start_time": "2022-01-23T10:17:04.348Z"
   },
   {
    "duration": -232,
    "start_time": "2022-01-23T10:17:04.946Z"
   },
   {
    "duration": 10,
    "start_time": "2022-01-23T10:17:47.701Z"
   },
   {
    "duration": 942,
    "start_time": "2022-01-23T10:20:13.782Z"
   },
   {
    "duration": 10,
    "start_time": "2022-01-23T10:20:25.139Z"
   },
   {
    "duration": 12,
    "start_time": "2022-01-23T10:21:45.776Z"
   },
   {
    "duration": 5,
    "start_time": "2022-01-23T10:24:41.077Z"
   },
   {
    "duration": 7,
    "start_time": "2022-01-23T10:24:56.506Z"
   },
   {
    "duration": 83,
    "start_time": "2022-01-23T10:27:35.205Z"
   },
   {
    "duration": 10,
    "start_time": "2022-01-23T10:28:23.390Z"
   },
   {
    "duration": 7,
    "start_time": "2022-01-23T10:29:05.770Z"
   },
   {
    "duration": 9,
    "start_time": "2022-01-23T10:29:06.080Z"
   },
   {
    "duration": 10,
    "start_time": "2022-01-23T10:29:22.444Z"
   },
   {
    "duration": 10,
    "start_time": "2022-01-23T10:29:25.426Z"
   },
   {
    "duration": 11,
    "start_time": "2022-01-23T10:29:29.533Z"
   },
   {
    "duration": 11,
    "start_time": "2022-01-23T10:29:33.989Z"
   },
   {
    "duration": 11,
    "start_time": "2022-01-23T10:29:37.283Z"
   },
   {
    "duration": 12,
    "start_time": "2022-01-23T10:29:41.148Z"
   },
   {
    "duration": 10,
    "start_time": "2022-01-23T10:29:44.536Z"
   },
   {
    "duration": 12,
    "start_time": "2022-01-23T10:33:17.105Z"
   },
   {
    "duration": 13,
    "start_time": "2022-01-23T10:33:22.422Z"
   },
   {
    "duration": 53,
    "start_time": "2022-01-23T10:49:27.984Z"
   },
   {
    "duration": 3,
    "start_time": "2022-01-23T10:49:28.039Z"
   },
   {
    "duration": 6,
    "start_time": "2022-01-23T10:49:28.044Z"
   },
   {
    "duration": 9,
    "start_time": "2022-01-23T10:49:28.052Z"
   },
   {
    "duration": 18,
    "start_time": "2022-01-23T10:49:28.062Z"
   },
   {
    "duration": 49,
    "start_time": "2022-01-23T10:49:28.082Z"
   },
   {
    "duration": 10,
    "start_time": "2022-01-23T10:49:28.132Z"
   },
   {
    "duration": 18,
    "start_time": "2022-01-23T10:49:28.144Z"
   },
   {
    "duration": 5,
    "start_time": "2022-01-23T10:49:28.164Z"
   },
   {
    "duration": 532,
    "start_time": "2022-01-23T10:49:28.171Z"
   },
   {
    "duration": 8,
    "start_time": "2022-01-23T10:49:28.705Z"
   },
   {
    "duration": 465,
    "start_time": "2022-01-23T10:49:28.715Z"
   },
   {
    "duration": 17,
    "start_time": "2022-01-23T10:49:29.182Z"
   },
   {
    "duration": 43,
    "start_time": "2022-01-23T10:49:29.201Z"
   },
   {
    "duration": 310,
    "start_time": "2022-01-23T10:49:29.246Z"
   },
   {
    "duration": 196,
    "start_time": "2022-01-23T10:49:29.558Z"
   },
   {
    "duration": 864,
    "start_time": "2022-01-23T10:49:29.755Z"
   },
   {
    "duration": 890,
    "start_time": "2022-01-23T10:49:30.621Z"
   },
   {
    "duration": 25,
    "start_time": "2022-01-23T10:49:31.513Z"
   },
   {
    "duration": 17,
    "start_time": "2022-01-23T10:49:31.540Z"
   },
   {
    "duration": 116,
    "start_time": "2022-01-23T10:49:31.559Z"
   },
   {
    "duration": 245,
    "start_time": "2022-01-23T10:49:31.677Z"
   },
   {
    "duration": 236,
    "start_time": "2022-01-23T10:49:31.928Z"
   },
   {
    "duration": 268,
    "start_time": "2022-01-23T10:49:32.166Z"
   },
   {
    "duration": 271,
    "start_time": "2022-01-23T10:49:32.436Z"
   },
   {
    "duration": 272,
    "start_time": "2022-01-23T10:49:32.709Z"
   },
   {
    "duration": 10,
    "start_time": "2022-01-23T10:49:32.983Z"
   },
   {
    "duration": 8,
    "start_time": "2022-01-23T10:49:32.995Z"
   },
   {
    "duration": 266,
    "start_time": "2022-01-23T11:17:07.134Z"
   },
   {
    "duration": 255,
    "start_time": "2022-01-23T11:18:08.502Z"
   },
   {
    "duration": 281,
    "start_time": "2022-01-23T11:19:46.524Z"
   },
   {
    "duration": 367,
    "start_time": "2022-01-23T11:20:26.144Z"
   },
   {
    "duration": 49,
    "start_time": "2022-01-23T11:24:44.517Z"
   },
   {
    "duration": 3,
    "start_time": "2022-01-23T11:24:44.568Z"
   },
   {
    "duration": 9,
    "start_time": "2022-01-23T11:24:44.573Z"
   },
   {
    "duration": 8,
    "start_time": "2022-01-23T11:24:44.583Z"
   },
   {
    "duration": 39,
    "start_time": "2022-01-23T11:24:44.593Z"
   },
   {
    "duration": 12,
    "start_time": "2022-01-23T11:24:44.633Z"
   },
   {
    "duration": 7,
    "start_time": "2022-01-23T11:24:44.646Z"
   },
   {
    "duration": 13,
    "start_time": "2022-01-23T11:24:44.655Z"
   },
   {
    "duration": 4,
    "start_time": "2022-01-23T11:24:44.669Z"
   },
   {
    "duration": 401,
    "start_time": "2022-01-23T11:24:44.674Z"
   },
   {
    "duration": 6,
    "start_time": "2022-01-23T11:24:45.077Z"
   },
   {
    "duration": 382,
    "start_time": "2022-01-23T11:24:45.085Z"
   },
   {
    "duration": 14,
    "start_time": "2022-01-23T11:24:45.468Z"
   },
   {
    "duration": 22,
    "start_time": "2022-01-23T11:24:45.483Z"
   },
   {
    "duration": 320,
    "start_time": "2022-01-23T11:24:45.507Z"
   },
   {
    "duration": 191,
    "start_time": "2022-01-23T11:24:45.829Z"
   },
   {
    "duration": 1025,
    "start_time": "2022-01-23T11:24:46.022Z"
   },
   {
    "duration": 867,
    "start_time": "2022-01-23T11:24:47.049Z"
   },
   {
    "duration": 21,
    "start_time": "2022-01-23T11:24:47.917Z"
   },
   {
    "duration": 15,
    "start_time": "2022-01-23T11:24:47.939Z"
   },
   {
    "duration": 15,
    "start_time": "2022-01-23T11:24:47.955Z"
   },
   {
    "duration": 291,
    "start_time": "2022-01-23T11:24:47.971Z"
   },
   {
    "duration": 239,
    "start_time": "2022-01-23T11:24:48.264Z"
   },
   {
    "duration": 464,
    "start_time": "2022-01-23T11:24:48.505Z"
   },
   {
    "duration": 287,
    "start_time": "2022-01-23T11:24:48.970Z"
   },
   {
    "duration": 278,
    "start_time": "2022-01-23T11:24:49.260Z"
   },
   {
    "duration": 362,
    "start_time": "2022-01-23T11:24:49.540Z"
   },
   {
    "duration": 28,
    "start_time": "2022-01-23T11:24:49.904Z"
   },
   {
    "duration": 10,
    "start_time": "2022-01-23T11:24:49.934Z"
   },
   {
    "duration": 1331,
    "start_time": "2022-01-29T13:33:22.797Z"
   },
   {
    "duration": 2,
    "start_time": "2022-01-29T13:33:24.130Z"
   },
   {
    "duration": 7,
    "start_time": "2022-01-29T13:33:24.135Z"
   },
   {
    "duration": 11,
    "start_time": "2022-01-29T13:33:24.144Z"
   },
   {
    "duration": 14,
    "start_time": "2022-01-29T13:33:24.156Z"
   },
   {
    "duration": 12,
    "start_time": "2022-01-29T13:33:24.171Z"
   },
   {
    "duration": 6,
    "start_time": "2022-01-29T13:33:24.185Z"
   },
   {
    "duration": 43,
    "start_time": "2022-01-29T13:33:24.193Z"
   },
   {
    "duration": 9,
    "start_time": "2022-01-29T13:33:24.238Z"
   },
   {
    "duration": 337,
    "start_time": "2022-01-29T13:33:24.248Z"
   },
   {
    "duration": 7,
    "start_time": "2022-01-29T13:33:24.586Z"
   },
   {
    "duration": 307,
    "start_time": "2022-01-29T13:33:24.594Z"
   },
   {
    "duration": 13,
    "start_time": "2022-01-29T13:33:24.902Z"
   },
   {
    "duration": 19,
    "start_time": "2022-01-29T13:33:24.927Z"
   },
   {
    "duration": 311,
    "start_time": "2022-01-29T13:33:24.948Z"
   },
   {
    "duration": 188,
    "start_time": "2022-01-29T13:33:25.261Z"
   },
   {
    "duration": 890,
    "start_time": "2022-01-29T13:33:25.450Z"
   },
   {
    "duration": 990,
    "start_time": "2022-01-29T13:33:26.341Z"
   },
   {
    "duration": 581,
    "start_time": "2022-01-29T13:33:27.333Z"
   },
   {
    "duration": 17,
    "start_time": "2022-01-29T13:33:27.916Z"
   },
   {
    "duration": 20,
    "start_time": "2022-01-29T13:33:27.935Z"
   },
   {
    "duration": 371,
    "start_time": "2022-01-29T13:33:27.956Z"
   },
   {
    "duration": 348,
    "start_time": "2022-01-29T13:33:28.331Z"
   },
   {
    "duration": 393,
    "start_time": "2022-01-29T13:33:28.682Z"
   },
   {
    "duration": 269,
    "start_time": "2022-01-29T13:33:29.077Z"
   },
   {
    "duration": 280,
    "start_time": "2022-01-29T13:33:29.348Z"
   },
   {
    "duration": 430,
    "start_time": "2022-01-29T13:33:29.630Z"
   },
   {
    "duration": 15,
    "start_time": "2022-01-29T13:33:30.062Z"
   },
   {
    "duration": 31,
    "start_time": "2022-01-29T13:33:30.083Z"
   },
   {
    "duration": 331,
    "start_time": "2022-01-29T13:50:32.693Z"
   },
   {
    "duration": 237,
    "start_time": "2022-01-29T13:50:51.010Z"
   },
   {
    "duration": 1072,
    "start_time": "2022-02-02T06:27:48.410Z"
   },
   {
    "duration": 3,
    "start_time": "2022-02-02T06:27:49.483Z"
   },
   {
    "duration": 14,
    "start_time": "2022-02-02T06:27:49.487Z"
   },
   {
    "duration": 8,
    "start_time": "2022-02-02T06:27:49.503Z"
   },
   {
    "duration": 12,
    "start_time": "2022-02-02T06:27:49.512Z"
   },
   {
    "duration": 11,
    "start_time": "2022-02-02T06:27:49.526Z"
   },
   {
    "duration": 6,
    "start_time": "2022-02-02T06:27:49.538Z"
   },
   {
    "duration": 33,
    "start_time": "2022-02-02T06:27:49.546Z"
   },
   {
    "duration": 6,
    "start_time": "2022-02-02T06:27:49.581Z"
   },
   {
    "duration": 337,
    "start_time": "2022-02-02T06:27:49.588Z"
   },
   {
    "duration": 7,
    "start_time": "2022-02-02T06:27:49.927Z"
   },
   {
    "duration": 304,
    "start_time": "2022-02-02T06:27:49.935Z"
   },
   {
    "duration": 13,
    "start_time": "2022-02-02T06:27:50.241Z"
   },
   {
    "duration": 31,
    "start_time": "2022-02-02T06:27:50.256Z"
   },
   {
    "duration": 298,
    "start_time": "2022-02-02T06:27:50.289Z"
   },
   {
    "duration": 183,
    "start_time": "2022-02-02T06:27:50.589Z"
   },
   {
    "duration": 876,
    "start_time": "2022-02-02T06:27:50.773Z"
   },
   {
    "duration": 914,
    "start_time": "2022-02-02T06:27:51.651Z"
   },
   {
    "duration": 502,
    "start_time": "2022-02-02T06:27:52.570Z"
   },
   {
    "duration": 17,
    "start_time": "2022-02-02T06:27:53.074Z"
   },
   {
    "duration": 39,
    "start_time": "2022-02-02T06:27:53.093Z"
   },
   {
    "duration": 261,
    "start_time": "2022-02-02T06:27:53.134Z"
   },
   {
    "duration": 230,
    "start_time": "2022-02-02T06:27:53.398Z"
   },
   {
    "duration": 263,
    "start_time": "2022-02-02T06:27:53.630Z"
   },
   {
    "duration": 280,
    "start_time": "2022-02-02T06:27:53.894Z"
   },
   {
    "duration": 265,
    "start_time": "2022-02-02T06:27:54.176Z"
   },
   {
    "duration": 266,
    "start_time": "2022-02-02T06:27:54.443Z"
   },
   {
    "duration": 590,
    "start_time": "2022-02-02T06:27:54.710Z"
   },
   {
    "duration": -37,
    "start_time": "2022-02-02T06:27:55.339Z"
   },
   {
    "duration": 20,
    "start_time": "2022-02-02T06:28:27.116Z"
   },
   {
    "duration": 12,
    "start_time": "2022-02-02T06:28:55.383Z"
   },
   {
    "duration": 13,
    "start_time": "2022-02-02T06:29:02.062Z"
   },
   {
    "duration": 10,
    "start_time": "2022-02-02T06:29:15.879Z"
   },
   {
    "duration": 9,
    "start_time": "2022-02-02T06:29:41.112Z"
   },
   {
    "duration": 11,
    "start_time": "2022-02-02T06:29:45.734Z"
   },
   {
    "duration": 1229,
    "start_time": "2022-02-02T16:54:16.554Z"
   },
   {
    "duration": 3,
    "start_time": "2022-02-02T16:54:17.785Z"
   },
   {
    "duration": 9,
    "start_time": "2022-02-02T16:54:17.790Z"
   },
   {
    "duration": 15,
    "start_time": "2022-02-02T16:54:17.801Z"
   },
   {
    "duration": 17,
    "start_time": "2022-02-02T16:54:17.818Z"
   },
   {
    "duration": 46,
    "start_time": "2022-02-02T16:54:17.837Z"
   },
   {
    "duration": 9,
    "start_time": "2022-02-02T16:54:17.885Z"
   },
   {
    "duration": 14,
    "start_time": "2022-02-02T16:54:17.896Z"
   },
   {
    "duration": 7,
    "start_time": "2022-02-02T16:54:17.912Z"
   },
   {
    "duration": 370,
    "start_time": "2022-02-02T16:54:17.921Z"
   },
   {
    "duration": 8,
    "start_time": "2022-02-02T16:54:18.293Z"
   },
   {
    "duration": 345,
    "start_time": "2022-02-02T16:54:18.303Z"
   },
   {
    "duration": 28,
    "start_time": "2022-02-02T16:54:18.650Z"
   },
   {
    "duration": 19,
    "start_time": "2022-02-02T16:54:18.679Z"
   },
   {
    "duration": 337,
    "start_time": "2022-02-02T16:54:18.699Z"
   },
   {
    "duration": 204,
    "start_time": "2022-02-02T16:54:19.038Z"
   },
   {
    "duration": 963,
    "start_time": "2022-02-02T16:54:19.243Z"
   },
   {
    "duration": 998,
    "start_time": "2022-02-02T16:54:20.208Z"
   },
   {
    "duration": 642,
    "start_time": "2022-02-02T16:54:21.208Z"
   },
   {
    "duration": 31,
    "start_time": "2022-02-02T16:54:21.853Z"
   },
   {
    "duration": 21,
    "start_time": "2022-02-02T16:54:21.887Z"
   },
   {
    "duration": 266,
    "start_time": "2022-02-02T16:54:21.911Z"
   },
   {
    "duration": 245,
    "start_time": "2022-02-02T16:54:22.180Z"
   },
   {
    "duration": 266,
    "start_time": "2022-02-02T16:54:22.427Z"
   },
   {
    "duration": 292,
    "start_time": "2022-02-02T16:54:22.694Z"
   },
   {
    "duration": 340,
    "start_time": "2022-02-02T16:54:22.988Z"
   },
   {
    "duration": 375,
    "start_time": "2022-02-02T16:54:23.330Z"
   },
   {
    "duration": 3,
    "start_time": "2022-02-02T16:54:23.707Z"
   },
   {
    "duration": 20,
    "start_time": "2022-02-02T16:54:23.712Z"
   },
   {
    "duration": 8,
    "start_time": "2022-02-02T16:54:23.734Z"
   },
   {
    "duration": 22,
    "start_time": "2022-02-02T16:55:20.791Z"
   },
   {
    "duration": 21,
    "start_time": "2022-02-02T16:56:20.369Z"
   },
   {
    "duration": 294,
    "start_time": "2022-02-02T16:58:18.845Z"
   },
   {
    "duration": 2,
    "start_time": "2022-02-02T16:58:22.185Z"
   },
   {
    "duration": 16,
    "start_time": "2022-02-02T16:58:22.770Z"
   },
   {
    "duration": 70,
    "start_time": "2022-02-02T17:00:30.603Z"
   },
   {
    "duration": 224,
    "start_time": "2022-02-02T17:00:37.142Z"
   },
   {
    "duration": 227,
    "start_time": "2022-02-02T17:00:42.412Z"
   },
   {
    "duration": 19,
    "start_time": "2022-02-02T17:00:48.640Z"
   },
   {
    "duration": 13,
    "start_time": "2022-02-02T17:02:17.431Z"
   },
   {
    "duration": 5909,
    "start_time": "2022-02-02T17:02:39.124Z"
   },
   {
    "duration": 6384,
    "start_time": "2022-02-02T17:03:02.864Z"
   },
   {
    "duration": 7556,
    "start_time": "2022-02-02T17:04:09.596Z"
   },
   {
    "duration": 5,
    "start_time": "2022-02-02T17:04:47.869Z"
   },
   {
    "duration": 214,
    "start_time": "2022-02-02T17:05:49.011Z"
   },
   {
    "duration": 6213,
    "start_time": "2022-02-02T17:06:01.114Z"
   },
   {
    "duration": 6,
    "start_time": "2022-02-02T17:06:14.481Z"
   },
   {
    "duration": 623,
    "start_time": "2022-02-02T17:06:29.026Z"
   },
   {
    "duration": 241,
    "start_time": "2022-02-02T17:06:47.947Z"
   },
   {
    "duration": 457,
    "start_time": "2022-02-02T17:07:07.173Z"
   },
   {
    "duration": 11,
    "start_time": "2022-02-02T17:07:29.104Z"
   },
   {
    "duration": 239,
    "start_time": "2022-02-02T17:09:28.189Z"
   },
   {
    "duration": 11,
    "start_time": "2022-02-02T17:09:46.347Z"
   },
   {
    "duration": 8,
    "start_time": "2022-02-02T17:09:54.074Z"
   },
   {
    "duration": 9,
    "start_time": "2022-02-02T17:10:03.790Z"
   },
   {
    "duration": 11,
    "start_time": "2022-02-02T17:10:08.371Z"
   },
   {
    "duration": 229,
    "start_time": "2022-02-02T17:10:17.922Z"
   },
   {
    "duration": 14,
    "start_time": "2022-02-02T17:10:43.292Z"
   },
   {
    "duration": 296,
    "start_time": "2022-02-02T17:11:13.234Z"
   },
   {
    "duration": 14,
    "start_time": "2022-02-02T17:11:16.395Z"
   },
   {
    "duration": 14,
    "start_time": "2022-02-02T17:11:28.389Z"
   },
   {
    "duration": 216,
    "start_time": "2022-02-02T17:11:45.891Z"
   },
   {
    "duration": 13,
    "start_time": "2022-02-02T17:11:50.058Z"
   },
   {
    "duration": 91,
    "start_time": "2022-02-02T17:12:10.737Z"
   },
   {
    "duration": 242,
    "start_time": "2022-02-02T17:12:24.310Z"
   },
   {
    "duration": 382,
    "start_time": "2022-02-02T17:12:30.353Z"
   },
   {
    "duration": 8,
    "start_time": "2022-02-02T17:12:39.207Z"
   },
   {
    "duration": 18,
    "start_time": "2022-02-02T17:12:54.846Z"
   },
   {
    "duration": 14,
    "start_time": "2022-02-02T17:16:42.704Z"
   },
   {
    "duration": 15,
    "start_time": "2022-02-02T17:17:03.655Z"
   },
   {
    "duration": 72,
    "start_time": "2022-02-02T17:17:17.316Z"
   },
   {
    "duration": 533,
    "start_time": "2022-02-02T17:18:08.479Z"
   },
   {
    "duration": 332,
    "start_time": "2022-02-02T17:18:26.077Z"
   },
   {
    "duration": 532,
    "start_time": "2022-02-02T17:18:50.097Z"
   },
   {
    "duration": 281,
    "start_time": "2022-02-02T17:19:01.884Z"
   },
   {
    "duration": 287,
    "start_time": "2022-02-02T17:20:01.816Z"
   },
   {
    "duration": 1707,
    "start_time": "2022-03-30T11:59:06.128Z"
   },
   {
    "duration": 3,
    "start_time": "2022-03-30T11:59:07.837Z"
   },
   {
    "duration": 9,
    "start_time": "2022-03-30T11:59:07.841Z"
   },
   {
    "duration": 16,
    "start_time": "2022-03-30T11:59:07.852Z"
   },
   {
    "duration": 15,
    "start_time": "2022-03-30T11:59:07.869Z"
   },
   {
    "duration": 12,
    "start_time": "2022-03-30T11:59:07.886Z"
   },
   {
    "duration": 7,
    "start_time": "2022-03-30T11:59:07.900Z"
   },
   {
    "duration": 14,
    "start_time": "2022-03-30T11:59:07.909Z"
   },
   {
    "duration": 39,
    "start_time": "2022-03-30T11:59:07.924Z"
   },
   {
    "duration": 318,
    "start_time": "2022-03-30T11:59:07.966Z"
   },
   {
    "duration": 8,
    "start_time": "2022-03-30T11:59:08.286Z"
   },
   {
    "duration": 261,
    "start_time": "2022-03-30T11:59:08.296Z"
   },
   {
    "duration": 15,
    "start_time": "2022-03-30T11:59:08.562Z"
   },
   {
    "duration": 27,
    "start_time": "2022-03-30T11:59:08.579Z"
   },
   {
    "duration": 272,
    "start_time": "2022-03-30T11:59:08.608Z"
   },
   {
    "duration": 164,
    "start_time": "2022-03-30T11:59:08.882Z"
   },
   {
    "duration": 440,
    "start_time": "2022-03-30T11:59:09.048Z"
   },
   {
    "duration": 516,
    "start_time": "2022-03-30T11:59:09.491Z"
   },
   {
    "duration": 70,
    "start_time": "2022-03-30T11:59:10.009Z"
   },
   {
    "duration": 16,
    "start_time": "2022-03-30T11:59:10.081Z"
   },
   {
    "duration": 26,
    "start_time": "2022-03-30T11:59:10.099Z"
   },
   {
    "duration": 205,
    "start_time": "2022-03-30T11:59:10.127Z"
   },
   {
    "duration": 184,
    "start_time": "2022-03-30T11:59:10.333Z"
   },
   {
    "duration": 244,
    "start_time": "2022-03-30T11:59:10.519Z"
   },
   {
    "duration": 244,
    "start_time": "2022-03-30T11:59:10.764Z"
   },
   {
    "duration": 239,
    "start_time": "2022-03-30T11:59:11.011Z"
   },
   {
    "duration": 250,
    "start_time": "2022-03-30T11:59:11.252Z"
   },
   {
    "duration": 300,
    "start_time": "2022-03-30T11:59:11.507Z"
   },
   {
    "duration": 394,
    "start_time": "2022-03-30T11:59:11.808Z"
   },
   {
    "duration": 12,
    "start_time": "2022-03-30T11:59:12.204Z"
   },
   {
    "duration": 11,
    "start_time": "2022-03-30T11:59:12.217Z"
   }
  ],
  "kernelspec": {
   "display_name": "Python 3 (ipykernel)",
   "language": "python",
   "name": "python3"
  },
  "language_info": {
   "codemirror_mode": {
    "name": "ipython",
    "version": 3
   },
   "file_extension": ".py",
   "mimetype": "text/x-python",
   "name": "python",
   "nbconvert_exporter": "python",
   "pygments_lexer": "ipython3",
   "version": "3.9.5"
  },
  "toc": {
   "base_numbering": 1,
   "nav_menu": {},
   "number_sections": true,
   "sideBar": true,
   "skip_h1_title": true,
   "title_cell": "Table of Contents",
   "title_sidebar": "Contents",
   "toc_cell": false,
   "toc_position": {},
   "toc_section_display": true,
   "toc_window_display": false
  }
 },
 "nbformat": 4,
 "nbformat_minor": 2
}
