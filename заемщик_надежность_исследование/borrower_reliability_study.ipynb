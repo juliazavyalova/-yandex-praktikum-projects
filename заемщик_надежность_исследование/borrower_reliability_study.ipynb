{
 "cells": [
  {
   "cell_type": "markdown",
   "metadata": {},
   "source": [
    "# Исследование надёжности заёмщиков\n",
    "\n",
    "Заказчик — кредитный отдел банка. Нужно разобраться, влияет ли семейное положение и количество детей клиента на факт погашения кредита в срок. Входные данные от банка — статистика о платёжеспособности клиентов.\n",
    "\n",
    "Результаты исследования будут учтены при построении модели **кредитного скоринга** — специальной системы, которая оценивает способность потенциального заёмщика вернуть кредит банку."
   ]
  },
  {
   "cell_type": "markdown",
   "metadata": {},
   "source": [
    "## Обзор данных"
   ]
  },
  {
   "cell_type": "markdown",
   "metadata": {},
   "source": [
    "Составим первое впечатление о таблице с данными:"
   ]
  },
  {
   "cell_type": "code",
   "execution_count": 44,
   "metadata": {},
   "outputs": [
    {
     "data": {
      "text/html": [
       "<div>\n",
       "<style scoped>\n",
       "    .dataframe tbody tr th:only-of-type {\n",
       "        vertical-align: middle;\n",
       "    }\n",
       "\n",
       "    .dataframe tbody tr th {\n",
       "        vertical-align: top;\n",
       "    }\n",
       "\n",
       "    .dataframe thead th {\n",
       "        text-align: right;\n",
       "    }\n",
       "</style>\n",
       "<table border=\"1\" class=\"dataframe\">\n",
       "  <thead>\n",
       "    <tr style=\"text-align: right;\">\n",
       "      <th></th>\n",
       "      <th>children</th>\n",
       "      <th>days_employed</th>\n",
       "      <th>dob_years</th>\n",
       "      <th>education</th>\n",
       "      <th>education_id</th>\n",
       "      <th>family_status</th>\n",
       "      <th>family_status_id</th>\n",
       "      <th>gender</th>\n",
       "      <th>income_type</th>\n",
       "      <th>debt</th>\n",
       "      <th>total_income</th>\n",
       "      <th>purpose</th>\n",
       "    </tr>\n",
       "  </thead>\n",
       "  <tbody>\n",
       "    <tr>\n",
       "      <th>0</th>\n",
       "      <td>1</td>\n",
       "      <td>-8437.673028</td>\n",
       "      <td>42</td>\n",
       "      <td>высшее</td>\n",
       "      <td>0</td>\n",
       "      <td>женат / замужем</td>\n",
       "      <td>0</td>\n",
       "      <td>F</td>\n",
       "      <td>сотрудник</td>\n",
       "      <td>0</td>\n",
       "      <td>253875.639453</td>\n",
       "      <td>покупка жилья</td>\n",
       "    </tr>\n",
       "    <tr>\n",
       "      <th>1</th>\n",
       "      <td>1</td>\n",
       "      <td>-4024.803754</td>\n",
       "      <td>36</td>\n",
       "      <td>среднее</td>\n",
       "      <td>1</td>\n",
       "      <td>женат / замужем</td>\n",
       "      <td>0</td>\n",
       "      <td>F</td>\n",
       "      <td>сотрудник</td>\n",
       "      <td>0</td>\n",
       "      <td>112080.014102</td>\n",
       "      <td>приобретение автомобиля</td>\n",
       "    </tr>\n",
       "    <tr>\n",
       "      <th>2</th>\n",
       "      <td>0</td>\n",
       "      <td>-5623.422610</td>\n",
       "      <td>33</td>\n",
       "      <td>Среднее</td>\n",
       "      <td>1</td>\n",
       "      <td>женат / замужем</td>\n",
       "      <td>0</td>\n",
       "      <td>M</td>\n",
       "      <td>сотрудник</td>\n",
       "      <td>0</td>\n",
       "      <td>145885.952297</td>\n",
       "      <td>покупка жилья</td>\n",
       "    </tr>\n",
       "    <tr>\n",
       "      <th>3</th>\n",
       "      <td>3</td>\n",
       "      <td>-4124.747207</td>\n",
       "      <td>32</td>\n",
       "      <td>среднее</td>\n",
       "      <td>1</td>\n",
       "      <td>женат / замужем</td>\n",
       "      <td>0</td>\n",
       "      <td>M</td>\n",
       "      <td>сотрудник</td>\n",
       "      <td>0</td>\n",
       "      <td>267628.550329</td>\n",
       "      <td>дополнительное образование</td>\n",
       "    </tr>\n",
       "    <tr>\n",
       "      <th>4</th>\n",
       "      <td>0</td>\n",
       "      <td>340266.072047</td>\n",
       "      <td>53</td>\n",
       "      <td>среднее</td>\n",
       "      <td>1</td>\n",
       "      <td>гражданский брак</td>\n",
       "      <td>1</td>\n",
       "      <td>F</td>\n",
       "      <td>пенсионер</td>\n",
       "      <td>0</td>\n",
       "      <td>158616.077870</td>\n",
       "      <td>сыграть свадьбу</td>\n",
       "    </tr>\n",
       "    <tr>\n",
       "      <th>5</th>\n",
       "      <td>0</td>\n",
       "      <td>-926.185831</td>\n",
       "      <td>27</td>\n",
       "      <td>высшее</td>\n",
       "      <td>0</td>\n",
       "      <td>гражданский брак</td>\n",
       "      <td>1</td>\n",
       "      <td>M</td>\n",
       "      <td>компаньон</td>\n",
       "      <td>0</td>\n",
       "      <td>255763.565419</td>\n",
       "      <td>покупка жилья</td>\n",
       "    </tr>\n",
       "    <tr>\n",
       "      <th>6</th>\n",
       "      <td>0</td>\n",
       "      <td>-2879.202052</td>\n",
       "      <td>43</td>\n",
       "      <td>высшее</td>\n",
       "      <td>0</td>\n",
       "      <td>женат / замужем</td>\n",
       "      <td>0</td>\n",
       "      <td>F</td>\n",
       "      <td>компаньон</td>\n",
       "      <td>0</td>\n",
       "      <td>240525.971920</td>\n",
       "      <td>операции с жильем</td>\n",
       "    </tr>\n",
       "    <tr>\n",
       "      <th>7</th>\n",
       "      <td>0</td>\n",
       "      <td>-152.779569</td>\n",
       "      <td>50</td>\n",
       "      <td>СРЕДНЕЕ</td>\n",
       "      <td>1</td>\n",
       "      <td>женат / замужем</td>\n",
       "      <td>0</td>\n",
       "      <td>M</td>\n",
       "      <td>сотрудник</td>\n",
       "      <td>0</td>\n",
       "      <td>135823.934197</td>\n",
       "      <td>образование</td>\n",
       "    </tr>\n",
       "    <tr>\n",
       "      <th>8</th>\n",
       "      <td>2</td>\n",
       "      <td>-6929.865299</td>\n",
       "      <td>35</td>\n",
       "      <td>ВЫСШЕЕ</td>\n",
       "      <td>0</td>\n",
       "      <td>гражданский брак</td>\n",
       "      <td>1</td>\n",
       "      <td>F</td>\n",
       "      <td>сотрудник</td>\n",
       "      <td>0</td>\n",
       "      <td>95856.832424</td>\n",
       "      <td>на проведение свадьбы</td>\n",
       "    </tr>\n",
       "    <tr>\n",
       "      <th>9</th>\n",
       "      <td>0</td>\n",
       "      <td>-2188.756445</td>\n",
       "      <td>41</td>\n",
       "      <td>среднее</td>\n",
       "      <td>1</td>\n",
       "      <td>женат / замужем</td>\n",
       "      <td>0</td>\n",
       "      <td>M</td>\n",
       "      <td>сотрудник</td>\n",
       "      <td>0</td>\n",
       "      <td>144425.938277</td>\n",
       "      <td>покупка жилья для семьи</td>\n",
       "    </tr>\n",
       "  </tbody>\n",
       "</table>\n",
       "</div>"
      ],
      "text/plain": [
       "   children  days_employed  dob_years education  education_id  \\\n",
       "0         1   -8437.673028         42    высшее             0   \n",
       "1         1   -4024.803754         36   среднее             1   \n",
       "2         0   -5623.422610         33   Среднее             1   \n",
       "3         3   -4124.747207         32   среднее             1   \n",
       "4         0  340266.072047         53   среднее             1   \n",
       "5         0    -926.185831         27    высшее             0   \n",
       "6         0   -2879.202052         43    высшее             0   \n",
       "7         0    -152.779569         50   СРЕДНЕЕ             1   \n",
       "8         2   -6929.865299         35    ВЫСШЕЕ             0   \n",
       "9         0   -2188.756445         41   среднее             1   \n",
       "\n",
       "      family_status  family_status_id gender income_type  debt   total_income  \\\n",
       "0   женат / замужем                 0      F   сотрудник     0  253875.639453   \n",
       "1   женат / замужем                 0      F   сотрудник     0  112080.014102   \n",
       "2   женат / замужем                 0      M   сотрудник     0  145885.952297   \n",
       "3   женат / замужем                 0      M   сотрудник     0  267628.550329   \n",
       "4  гражданский брак                 1      F   пенсионер     0  158616.077870   \n",
       "5  гражданский брак                 1      M   компаньон     0  255763.565419   \n",
       "6   женат / замужем                 0      F   компаньон     0  240525.971920   \n",
       "7   женат / замужем                 0      M   сотрудник     0  135823.934197   \n",
       "8  гражданский брак                 1      F   сотрудник     0   95856.832424   \n",
       "9   женат / замужем                 0      M   сотрудник     0  144425.938277   \n",
       "\n",
       "                      purpose  \n",
       "0               покупка жилья  \n",
       "1     приобретение автомобиля  \n",
       "2               покупка жилья  \n",
       "3  дополнительное образование  \n",
       "4             сыграть свадьбу  \n",
       "5               покупка жилья  \n",
       "6           операции с жильем  \n",
       "7                 образование  \n",
       "8       на проведение свадьбы  \n",
       "9     покупка жилья для семьи  "
      ]
     },
     "execution_count": 44,
     "metadata": {},
     "output_type": "execute_result"
    }
   ],
   "source": [
    "# импортируем библиотеку pandas\n",
    "import pandas as pd\n",
    "\n",
    "# читаем и сохраняем файл с данными в df\n",
    "df = pd.read_csv('/datasets/data.csv')\n",
    "\n",
    "# выводим на экран первые 10 строк таблицы для ознакомления\n",
    "df.head(10)"
   ]
  },
  {
   "cell_type": "code",
   "execution_count": 45,
   "metadata": {},
   "outputs": [
    {
     "name": "stdout",
     "output_type": "stream",
     "text": [
      "<class 'pandas.core.frame.DataFrame'>\n",
      "RangeIndex: 21525 entries, 0 to 21524\n",
      "Data columns (total 12 columns):\n",
      " #   Column            Non-Null Count  Dtype  \n",
      "---  ------            --------------  -----  \n",
      " 0   children          21525 non-null  int64  \n",
      " 1   days_employed     19351 non-null  float64\n",
      " 2   dob_years         21525 non-null  int64  \n",
      " 3   education         21525 non-null  object \n",
      " 4   education_id      21525 non-null  int64  \n",
      " 5   family_status     21525 non-null  object \n",
      " 6   family_status_id  21525 non-null  int64  \n",
      " 7   gender            21525 non-null  object \n",
      " 8   income_type       21525 non-null  object \n",
      " 9   debt              21525 non-null  int64  \n",
      " 10  total_income      19351 non-null  float64\n",
      " 11  purpose           21525 non-null  object \n",
      "dtypes: float64(2), int64(5), object(5)\n",
      "memory usage: 2.0+ MB\n"
     ]
    }
   ],
   "source": [
    "# получим общую информацию о таблице\n",
    "df.info()"
   ]
  },
  {
   "cell_type": "markdown",
   "metadata": {},
   "source": [
    "В таблице 12 столбцов.\n",
    "\n",
    "Согласно документации к данным:\n",
    "- children — количество детей в семье\n",
    "- days_employed — общий трудовой стаж в днях\n",
    "- dob_years — возраст клиента в годах\n",
    "- education — уровень образования клиента\n",
    "- education_id — идентификатор уровня образования\n",
    "- family_status — семейное положение\n",
    "- family_status_id — идентификатор семейного положения\n",
    "- gender — пол клиента\n",
    "- income_type — тип занятости\n",
    "- debt — имел ли задолженность по возврату кредитов\n",
    "- total_income — ежемесячный доход\n",
    "- purpose — цель получения кредита\n",
    "\n",
    "Количество значений в стобцах различается, значит в данных есть пропуски."
   ]
  },
  {
   "cell_type": "markdown",
   "metadata": {},
   "source": [
    "**Вывод**\n",
    "\n",
    "В каждой строке таблицы находится информация о клиентах, которым ранее был одобрен кредит. Для того, чтобы далее работать с данными и проверять гипотезы, данные необходимо обработать: устранить пропуски и дубликаты (если они имеются), заменить некорректные значения и типы данных."
   ]
  },
  {
   "cell_type": "markdown",
   "metadata": {},
   "source": [
    "## Шаг 2. Предобработка данных"
   ]
  },
  {
   "cell_type": "markdown",
   "metadata": {},
   "source": [
    "### Обработка пропусков"
   ]
  },
  {
   "cell_type": "markdown",
   "metadata": {},
   "source": [
    "В столбцах days_employed (общий трудовой стаж в днях) и total_income (ежемесячный доход) имеются пропущенные значения. "
   ]
  },
  {
   "cell_type": "code",
   "execution_count": 46,
   "metadata": {},
   "outputs": [
    {
     "data": {
      "text/html": [
       "<div>\n",
       "<style scoped>\n",
       "    .dataframe tbody tr th:only-of-type {\n",
       "        vertical-align: middle;\n",
       "    }\n",
       "\n",
       "    .dataframe tbody tr th {\n",
       "        vertical-align: top;\n",
       "    }\n",
       "\n",
       "    .dataframe thead th {\n",
       "        text-align: right;\n",
       "    }\n",
       "</style>\n",
       "<table border=\"1\" class=\"dataframe\">\n",
       "  <thead>\n",
       "    <tr style=\"text-align: right;\">\n",
       "      <th></th>\n",
       "      <th>children</th>\n",
       "      <th>days_employed</th>\n",
       "      <th>dob_years</th>\n",
       "      <th>education</th>\n",
       "      <th>education_id</th>\n",
       "      <th>family_status</th>\n",
       "      <th>family_status_id</th>\n",
       "      <th>gender</th>\n",
       "      <th>income_type</th>\n",
       "      <th>debt</th>\n",
       "      <th>total_income</th>\n",
       "      <th>purpose</th>\n",
       "    </tr>\n",
       "  </thead>\n",
       "  <tbody>\n",
       "    <tr>\n",
       "      <th>12</th>\n",
       "      <td>0</td>\n",
       "      <td>NaN</td>\n",
       "      <td>65</td>\n",
       "      <td>среднее</td>\n",
       "      <td>1</td>\n",
       "      <td>гражданский брак</td>\n",
       "      <td>1</td>\n",
       "      <td>M</td>\n",
       "      <td>пенсионер</td>\n",
       "      <td>0</td>\n",
       "      <td>NaN</td>\n",
       "      <td>сыграть свадьбу</td>\n",
       "    </tr>\n",
       "    <tr>\n",
       "      <th>26</th>\n",
       "      <td>0</td>\n",
       "      <td>NaN</td>\n",
       "      <td>41</td>\n",
       "      <td>среднее</td>\n",
       "      <td>1</td>\n",
       "      <td>женат / замужем</td>\n",
       "      <td>0</td>\n",
       "      <td>M</td>\n",
       "      <td>госслужащий</td>\n",
       "      <td>0</td>\n",
       "      <td>NaN</td>\n",
       "      <td>образование</td>\n",
       "    </tr>\n",
       "    <tr>\n",
       "      <th>29</th>\n",
       "      <td>0</td>\n",
       "      <td>NaN</td>\n",
       "      <td>63</td>\n",
       "      <td>среднее</td>\n",
       "      <td>1</td>\n",
       "      <td>Не женат / не замужем</td>\n",
       "      <td>4</td>\n",
       "      <td>F</td>\n",
       "      <td>пенсионер</td>\n",
       "      <td>0</td>\n",
       "      <td>NaN</td>\n",
       "      <td>строительство жилой недвижимости</td>\n",
       "    </tr>\n",
       "    <tr>\n",
       "      <th>41</th>\n",
       "      <td>0</td>\n",
       "      <td>NaN</td>\n",
       "      <td>50</td>\n",
       "      <td>среднее</td>\n",
       "      <td>1</td>\n",
       "      <td>женат / замужем</td>\n",
       "      <td>0</td>\n",
       "      <td>F</td>\n",
       "      <td>госслужащий</td>\n",
       "      <td>0</td>\n",
       "      <td>NaN</td>\n",
       "      <td>сделка с подержанным автомобилем</td>\n",
       "    </tr>\n",
       "    <tr>\n",
       "      <th>55</th>\n",
       "      <td>0</td>\n",
       "      <td>NaN</td>\n",
       "      <td>54</td>\n",
       "      <td>среднее</td>\n",
       "      <td>1</td>\n",
       "      <td>гражданский брак</td>\n",
       "      <td>1</td>\n",
       "      <td>F</td>\n",
       "      <td>пенсионер</td>\n",
       "      <td>1</td>\n",
       "      <td>NaN</td>\n",
       "      <td>сыграть свадьбу</td>\n",
       "    </tr>\n",
       "    <tr>\n",
       "      <th>...</th>\n",
       "      <td>...</td>\n",
       "      <td>...</td>\n",
       "      <td>...</td>\n",
       "      <td>...</td>\n",
       "      <td>...</td>\n",
       "      <td>...</td>\n",
       "      <td>...</td>\n",
       "      <td>...</td>\n",
       "      <td>...</td>\n",
       "      <td>...</td>\n",
       "      <td>...</td>\n",
       "      <td>...</td>\n",
       "    </tr>\n",
       "    <tr>\n",
       "      <th>21489</th>\n",
       "      <td>2</td>\n",
       "      <td>NaN</td>\n",
       "      <td>47</td>\n",
       "      <td>Среднее</td>\n",
       "      <td>1</td>\n",
       "      <td>женат / замужем</td>\n",
       "      <td>0</td>\n",
       "      <td>M</td>\n",
       "      <td>компаньон</td>\n",
       "      <td>0</td>\n",
       "      <td>NaN</td>\n",
       "      <td>сделка с автомобилем</td>\n",
       "    </tr>\n",
       "    <tr>\n",
       "      <th>21495</th>\n",
       "      <td>1</td>\n",
       "      <td>NaN</td>\n",
       "      <td>50</td>\n",
       "      <td>среднее</td>\n",
       "      <td>1</td>\n",
       "      <td>гражданский брак</td>\n",
       "      <td>1</td>\n",
       "      <td>F</td>\n",
       "      <td>сотрудник</td>\n",
       "      <td>0</td>\n",
       "      <td>NaN</td>\n",
       "      <td>свадьба</td>\n",
       "    </tr>\n",
       "    <tr>\n",
       "      <th>21497</th>\n",
       "      <td>0</td>\n",
       "      <td>NaN</td>\n",
       "      <td>48</td>\n",
       "      <td>ВЫСШЕЕ</td>\n",
       "      <td>0</td>\n",
       "      <td>женат / замужем</td>\n",
       "      <td>0</td>\n",
       "      <td>F</td>\n",
       "      <td>компаньон</td>\n",
       "      <td>0</td>\n",
       "      <td>NaN</td>\n",
       "      <td>строительство недвижимости</td>\n",
       "    </tr>\n",
       "    <tr>\n",
       "      <th>21502</th>\n",
       "      <td>1</td>\n",
       "      <td>NaN</td>\n",
       "      <td>42</td>\n",
       "      <td>среднее</td>\n",
       "      <td>1</td>\n",
       "      <td>женат / замужем</td>\n",
       "      <td>0</td>\n",
       "      <td>F</td>\n",
       "      <td>сотрудник</td>\n",
       "      <td>0</td>\n",
       "      <td>NaN</td>\n",
       "      <td>строительство жилой недвижимости</td>\n",
       "    </tr>\n",
       "    <tr>\n",
       "      <th>21510</th>\n",
       "      <td>2</td>\n",
       "      <td>NaN</td>\n",
       "      <td>28</td>\n",
       "      <td>среднее</td>\n",
       "      <td>1</td>\n",
       "      <td>женат / замужем</td>\n",
       "      <td>0</td>\n",
       "      <td>F</td>\n",
       "      <td>сотрудник</td>\n",
       "      <td>0</td>\n",
       "      <td>NaN</td>\n",
       "      <td>приобретение автомобиля</td>\n",
       "    </tr>\n",
       "  </tbody>\n",
       "</table>\n",
       "<p>2174 rows × 12 columns</p>\n",
       "</div>"
      ],
      "text/plain": [
       "       children  days_employed  dob_years education  education_id  \\\n",
       "12            0            NaN         65   среднее             1   \n",
       "26            0            NaN         41   среднее             1   \n",
       "29            0            NaN         63   среднее             1   \n",
       "41            0            NaN         50   среднее             1   \n",
       "55            0            NaN         54   среднее             1   \n",
       "...         ...            ...        ...       ...           ...   \n",
       "21489         2            NaN         47   Среднее             1   \n",
       "21495         1            NaN         50   среднее             1   \n",
       "21497         0            NaN         48    ВЫСШЕЕ             0   \n",
       "21502         1            NaN         42   среднее             1   \n",
       "21510         2            NaN         28   среднее             1   \n",
       "\n",
       "               family_status  family_status_id gender  income_type  debt  \\\n",
       "12          гражданский брак                 1      M    пенсионер     0   \n",
       "26           женат / замужем                 0      M  госслужащий     0   \n",
       "29     Не женат / не замужем                 4      F    пенсионер     0   \n",
       "41           женат / замужем                 0      F  госслужащий     0   \n",
       "55          гражданский брак                 1      F    пенсионер     1   \n",
       "...                      ...               ...    ...          ...   ...   \n",
       "21489        женат / замужем                 0      M    компаньон     0   \n",
       "21495       гражданский брак                 1      F    сотрудник     0   \n",
       "21497        женат / замужем                 0      F    компаньон     0   \n",
       "21502        женат / замужем                 0      F    сотрудник     0   \n",
       "21510        женат / замужем                 0      F    сотрудник     0   \n",
       "\n",
       "       total_income                           purpose  \n",
       "12              NaN                   сыграть свадьбу  \n",
       "26              NaN                       образование  \n",
       "29              NaN  строительство жилой недвижимости  \n",
       "41              NaN  сделка с подержанным автомобилем  \n",
       "55              NaN                   сыграть свадьбу  \n",
       "...             ...                               ...  \n",
       "21489           NaN              сделка с автомобилем  \n",
       "21495           NaN                           свадьба  \n",
       "21497           NaN        строительство недвижимости  \n",
       "21502           NaN  строительство жилой недвижимости  \n",
       "21510           NaN           приобретение автомобиля  \n",
       "\n",
       "[2174 rows x 12 columns]"
      ]
     },
     "execution_count": 46,
     "metadata": {},
     "output_type": "execute_result"
    }
   ],
   "source": [
    "df[df['days_employed'].isna()]"
   ]
  },
  {
   "cell_type": "code",
   "execution_count": 47,
   "metadata": {},
   "outputs": [
    {
     "name": "stdout",
     "output_type": "stream",
     "text": [
      "2174\n"
     ]
    }
   ],
   "source": [
    "# посчитаем количество пропущенных значений в колонке total_income\n",
    "count_missing_value = df[df['days_employed'].isna()]['total_income'].isna().count()\n",
    "print(count_missing_value)"
   ]
  },
  {
   "cell_type": "code",
   "execution_count": 48,
   "metadata": {},
   "outputs": [
    {
     "name": "stdout",
     "output_type": "stream",
     "text": [
      "Пропущенные значения составляют 10% данных\n"
     ]
    }
   ],
   "source": [
    "# посчитаем какой процент пропущенные строки занимают в общем массиве данных\n",
    "missing_value = count_missing_value / len(df)\n",
    "print(f\"Пропущенные значения составляют {missing_value:.0%} данных\")"
   ]
  },
  {
   "cell_type": "markdown",
   "metadata": {},
   "source": [
    "Данные в столбцах days_employed и total_income пропущенны в одних и тех же строках, и эти строки составляют 10% от всего массива данных, значит удалять их нежелательно. \n",
    "Следовательно эти пропуски необходимо заполнить. \n",
    "\n",
    "Есть гипотеза, что ежемесячный доход и стаж зависит от типа занятости. Сгруппируем столбцы и найдем средние значения/медиану по ним, чтобы заполнить пропуски наиболее корректными значениями."
   ]
  },
  {
   "cell_type": "code",
   "execution_count": 49,
   "metadata": {
    "scrolled": true
   },
   "outputs": [
    {
     "data": {
      "text/html": [
       "<div>\n",
       "<style scoped>\n",
       "    .dataframe tbody tr th:only-of-type {\n",
       "        vertical-align: middle;\n",
       "    }\n",
       "\n",
       "    .dataframe tbody tr th {\n",
       "        vertical-align: top;\n",
       "    }\n",
       "\n",
       "    .dataframe thead tr th {\n",
       "        text-align: left;\n",
       "    }\n",
       "\n",
       "    .dataframe thead tr:last-of-type th {\n",
       "        text-align: right;\n",
       "    }\n",
       "</style>\n",
       "<table border=\"1\" class=\"dataframe\">\n",
       "  <thead>\n",
       "    <tr>\n",
       "      <th></th>\n",
       "      <th colspan=\"2\" halign=\"left\">total_income</th>\n",
       "    </tr>\n",
       "    <tr>\n",
       "      <th></th>\n",
       "      <th>mean</th>\n",
       "      <th>median</th>\n",
       "    </tr>\n",
       "    <tr>\n",
       "      <th>income_type</th>\n",
       "      <th></th>\n",
       "      <th></th>\n",
       "    </tr>\n",
       "  </thead>\n",
       "  <tbody>\n",
       "    <tr>\n",
       "      <th>безработный</th>\n",
       "      <td>131339.751676</td>\n",
       "      <td>131339.751676</td>\n",
       "    </tr>\n",
       "    <tr>\n",
       "      <th>в декрете</th>\n",
       "      <td>53829.130729</td>\n",
       "      <td>53829.130729</td>\n",
       "    </tr>\n",
       "    <tr>\n",
       "      <th>госслужащий</th>\n",
       "      <td>170898.309923</td>\n",
       "      <td>150447.935283</td>\n",
       "    </tr>\n",
       "    <tr>\n",
       "      <th>компаньон</th>\n",
       "      <td>202417.461462</td>\n",
       "      <td>172357.950966</td>\n",
       "    </tr>\n",
       "    <tr>\n",
       "      <th>пенсионер</th>\n",
       "      <td>137127.465690</td>\n",
       "      <td>118514.486412</td>\n",
       "    </tr>\n",
       "    <tr>\n",
       "      <th>предприниматель</th>\n",
       "      <td>499163.144947</td>\n",
       "      <td>499163.144947</td>\n",
       "    </tr>\n",
       "    <tr>\n",
       "      <th>сотрудник</th>\n",
       "      <td>161380.260488</td>\n",
       "      <td>142594.396847</td>\n",
       "    </tr>\n",
       "    <tr>\n",
       "      <th>студент</th>\n",
       "      <td>98201.625314</td>\n",
       "      <td>98201.625314</td>\n",
       "    </tr>\n",
       "  </tbody>\n",
       "</table>\n",
       "</div>"
      ],
      "text/plain": [
       "                  total_income               \n",
       "                          mean         median\n",
       "income_type                                  \n",
       "безработный      131339.751676  131339.751676\n",
       "в декрете         53829.130729   53829.130729\n",
       "госслужащий      170898.309923  150447.935283\n",
       "компаньон        202417.461462  172357.950966\n",
       "пенсионер        137127.465690  118514.486412\n",
       "предприниматель  499163.144947  499163.144947\n",
       "сотрудник        161380.260488  142594.396847\n",
       "студент           98201.625314   98201.625314"
      ]
     },
     "execution_count": 49,
     "metadata": {},
     "output_type": "execute_result"
    }
   ],
   "source": [
    "# сгруппируем столбцы по типу занятости, для нахождения среднего значения и медианы по графе ежемесячный доход\n",
    "df.groupby('income_type').agg({'total_income':['mean', 'median']})"
   ]
  },
  {
   "cell_type": "markdown",
   "metadata": {},
   "source": [
    "Судя по таблице, по некоторым типам занятости среднее значение заработной платы равно медианному, а по другим типам - медианное значение меньше среднего (но ни в одном случае не наоборот). Так как среднее значение больше подвержено искажению ввиду выбросов - заполним пропущенные значения в графе 'income_type' медианой по типам занятости."
   ]
  },
  {
   "cell_type": "code",
   "execution_count": 50,
   "metadata": {},
   "outputs": [
    {
     "name": "stdout",
     "output_type": "stream",
     "text": [
      "Пропуски до обработки: 2174\n",
      "Пропуски после обработки: 0\n"
     ]
    }
   ],
   "source": [
    "# выведем значение пропусков по столбцу total_income до обработки\n",
    "print('Пропуски до обработки:', df['total_income'].isna().sum())\n",
    "\n",
    "# напишем цикл, который меняет пустые значения в графе total_income на медиану, по типу занятости\n",
    "for income_type in df['income_type'].unique():\n",
    "    median = df.loc[df['income_type'] == income_type, 'total_income'].median()\n",
    "    df.loc[(df['total_income'].isna()) & (df['income_type'] == income_type), 'total_income'] = median\n",
    "    \n",
    "print('Пропуски после обработки:', df['income_type'].isna().sum())\n",
    "\n"
   ]
  },
  {
   "cell_type": "markdown",
   "metadata": {},
   "source": [
    "В графе 'days_employed' встречаются отрицательные значения - заменим их на положительные, равные по модулю. И переведем трудовой стаж в количество лет, чтобы проверить, не выбиваются ли еще какие-то данные."
   ]
  },
  {
   "cell_type": "code",
   "execution_count": 51,
   "metadata": {},
   "outputs": [
    {
     "name": "stdout",
     "output_type": "stream",
     "text": [
      "0     23.116912\n",
      "1     11.026860\n",
      "2     15.406637\n",
      "3     11.300677\n",
      "4    932.235814\n",
      "Name: years_employed, dtype: float64\n",
      "1100.6997273296713\n"
     ]
    }
   ],
   "source": [
    "# заменяем отрицателные значения в столбце 'days_employed'на положительные\n",
    "df['days_employed'] = df['days_employed'].abs()\n",
    "\n",
    "# добавим в таблицу столбец с переводом трудового стажа из дней в годы\n",
    "df['years_employed'] = df['days_employed']/365\n",
    "\n",
    "# выведем первые 5 строк нового столбца на экран и его максимальное значение\n",
    "print(df['years_employed'].head())\n",
    "print(df['years_employed'].max())"
   ]
  },
  {
   "cell_type": "markdown",
   "metadata": {},
   "source": [
    "Очевидно, что в данных есть ошибка, т.к. трудовой стаж человека не может быть равен 1100 годам. Можем предположить, что данные в таблицу попали из разных источников, и часть из них была введена не в часах, а в днях. Т.к. трудовой стаж человека в годах редко превышает 45 лет, предположим, что все значения, которые больше этого числа - были введены в часах, а не сутках, и заменим их."
   ]
  },
  {
   "cell_type": "code",
   "execution_count": 52,
   "metadata": {},
   "outputs": [
    {
     "name": "stdout",
     "output_type": "stream",
     "text": [
      "Среднее значение трудового стажа в годах до обработки 183.32802440225305\n",
      "Среднее значение трудового стажа в годах после обработки 12.70968857183236\n"
     ]
    }
   ],
   "source": [
    "print('Среднее значение трудового стажа в годах до обработки',df['years_employed'].mean())\n",
    "\n",
    "# переведем в сутки данные, трудовой стаж которых был введен ранее в часах\n",
    "df.loc[df['years_employed'] > 45, 'years_employed'] = df.loc[df['years_employed'] > 45, 'years_employed']/24\n",
    "\n",
    "print('Среднее значение трудового стажа в годах после обработки',df['years_employed'].mean())\n",
    "   "
   ]
  },
  {
   "cell_type": "markdown",
   "metadata": {},
   "source": [
    "Теперь в столбце со стажем работы не осталось отрицательных значений и выборосов, стаж переведен в часы. Но остались строки с пустыми значениями - заполним их средним значением по типу занятости."
   ]
  },
  {
   "cell_type": "code",
   "execution_count": 53,
   "metadata": {},
   "outputs": [
    {
     "name": "stdout",
     "output_type": "stream",
     "text": [
      "Пропуски до обработки: 2174\n",
      "Пропуски после обработки: 0\n"
     ]
    }
   ],
   "source": [
    "# выведем значение пропусков по столбцу years_employed до обработки\n",
    "print('Пропуски до обработки:', df['years_employed'].isna().sum())\n",
    "\n",
    "# напишем цикл, который меняет пустые значения в графе total_income на медиану, по типу занятости\n",
    "for income_type in df['income_type'].unique():\n",
    "    median = df.loc[df['income_type'] == income_type, 'years_employed'].median()\n",
    "    df.loc[(df['years_employed'].isna()) & (df['income_type'] == income_type), 'years_employed'] = median\n",
    "    \n",
    "print('Пропуски после обработки:', df['income_type'].isna().sum())\n",
    "\n",
    "# заполним значения в колонце days_employed на корректные\n",
    "df['days_employed'] = df['years_employed']*365\n"
   ]
  },
  {
   "cell_type": "code",
   "execution_count": 54,
   "metadata": {},
   "outputs": [
    {
     "name": "stdout",
     "output_type": "stream",
     "text": [
      "<class 'pandas.core.frame.DataFrame'>\n",
      "RangeIndex: 21525 entries, 0 to 21524\n",
      "Data columns (total 13 columns):\n",
      " #   Column            Non-Null Count  Dtype  \n",
      "---  ------            --------------  -----  \n",
      " 0   children          21525 non-null  int64  \n",
      " 1   days_employed     21525 non-null  float64\n",
      " 2   dob_years         21525 non-null  int64  \n",
      " 3   education         21525 non-null  object \n",
      " 4   education_id      21525 non-null  int64  \n",
      " 5   family_status     21525 non-null  object \n",
      " 6   family_status_id  21525 non-null  int64  \n",
      " 7   gender            21525 non-null  object \n",
      " 8   income_type       21525 non-null  object \n",
      " 9   debt              21525 non-null  int64  \n",
      " 10  total_income      21525 non-null  float64\n",
      " 11  purpose           21525 non-null  object \n",
      " 12  years_employed    21525 non-null  float64\n",
      "dtypes: float64(3), int64(5), object(5)\n",
      "memory usage: 2.1+ MB\n"
     ]
    }
   ],
   "source": [
    "# выведем информацию о таблице, чтобы убедиться, что в ней не осталось пропусков\n",
    "df.info()"
   ]
  },
  {
   "cell_type": "markdown",
   "metadata": {},
   "source": [
    "**Вывод**"
   ]
  },
  {
   "cell_type": "markdown",
   "metadata": {},
   "source": [
    "В таблице имелись пропущенные данные в столбцах:\n",
    "- с ежемесячным доходом (заменили пустоты на медианное значение дохода по типу занятости)\n",
    "- со стажем работника (заменили отрицательные значения на положительные, пустоты заменили на медианное значение дохода по типу занятости)\n",
    "\n",
    "После обработки в таблице не осталось пропущенных значений, но имеются колонки, в которых необходимо заменить тип данных."
   ]
  },
  {
   "cell_type": "markdown",
   "metadata": {},
   "source": [
    "### Замена типа данных"
   ]
  },
  {
   "cell_type": "markdown",
   "metadata": {},
   "source": [
    "В таблице имеются колонки days_employed, years_employed, total_income с вещественным типом данных, это не совсем корректно/удобно, т.к. дни и годы в жизни определяются целыми числами - переведем их в целочесленный тип данных int, использую метод astype."
   ]
  },
  {
   "cell_type": "code",
   "execution_count": 55,
   "metadata": {},
   "outputs": [
    {
     "data": {
      "text/plain": [
       "children             int64\n",
       "days_employed        int64\n",
       "dob_years            int64\n",
       "education           object\n",
       "education_id         int64\n",
       "family_status       object\n",
       "family_status_id     int64\n",
       "gender              object\n",
       "income_type         object\n",
       "debt                 int64\n",
       "total_income         int64\n",
       "purpose             object\n",
       "years_employed       int64\n",
       "dtype: object"
      ]
     },
     "execution_count": 55,
     "metadata": {},
     "output_type": "execute_result"
    }
   ],
   "source": [
    "# перевод значений в столбцах days_employed и years_employed в целочисенный тип данных\n",
    "df['days_employed'] = df['days_employed'].astype(int)\n",
    "df['years_employed'] = df['years_employed'].astype(int)\n",
    "df['total_income'] = df['total_income'].astype(int)\n",
    "\n",
    "# вывод информации о данных столбцах\n",
    "df.dtypes"
   ]
  },
  {
   "cell_type": "markdown",
   "metadata": {},
   "source": [
    "**Вывод**"
   ]
  },
  {
   "cell_type": "markdown",
   "metadata": {},
   "source": [
    "Все столцы теперь имеют корректный тип данных для работы с ними и можно переходить к обработке дубликатов."
   ]
  },
  {
   "cell_type": "markdown",
   "metadata": {},
   "source": [
    "### Обработка дубликатов"
   ]
  },
  {
   "cell_type": "markdown",
   "metadata": {},
   "source": [
    "Проверим, имеются ли в табице дубликаты."
   ]
  },
  {
   "cell_type": "code",
   "execution_count": 56,
   "metadata": {},
   "outputs": [
    {
     "name": "stdout",
     "output_type": "stream",
     "text": [
      "Дубликатов в таблице: 54\n"
     ]
    }
   ],
   "source": [
    "# проверка дубликатов в таблице\n",
    "print(\"Дубликатов в таблице:\", df.duplicated().sum())"
   ]
  },
  {
   "cell_type": "code",
   "execution_count": 57,
   "metadata": {},
   "outputs": [
    {
     "data": {
      "text/html": [
       "<div>\n",
       "<style scoped>\n",
       "    .dataframe tbody tr th:only-of-type {\n",
       "        vertical-align: middle;\n",
       "    }\n",
       "\n",
       "    .dataframe tbody tr th {\n",
       "        vertical-align: top;\n",
       "    }\n",
       "\n",
       "    .dataframe thead th {\n",
       "        text-align: right;\n",
       "    }\n",
       "</style>\n",
       "<table border=\"1\" class=\"dataframe\">\n",
       "  <thead>\n",
       "    <tr style=\"text-align: right;\">\n",
       "      <th></th>\n",
       "      <th>children</th>\n",
       "      <th>days_employed</th>\n",
       "      <th>dob_years</th>\n",
       "      <th>education</th>\n",
       "      <th>education_id</th>\n",
       "      <th>family_status</th>\n",
       "      <th>family_status_id</th>\n",
       "      <th>gender</th>\n",
       "      <th>income_type</th>\n",
       "      <th>debt</th>\n",
       "      <th>total_income</th>\n",
       "      <th>purpose</th>\n",
       "      <th>years_employed</th>\n",
       "    </tr>\n",
       "  </thead>\n",
       "  <tbody>\n",
       "    <tr>\n",
       "      <th>2849</th>\n",
       "      <td>0</td>\n",
       "      <td>1573</td>\n",
       "      <td>41</td>\n",
       "      <td>среднее</td>\n",
       "      <td>1</td>\n",
       "      <td>женат / замужем</td>\n",
       "      <td>0</td>\n",
       "      <td>F</td>\n",
       "      <td>сотрудник</td>\n",
       "      <td>0</td>\n",
       "      <td>142594</td>\n",
       "      <td>покупка жилья для семьи</td>\n",
       "      <td>4</td>\n",
       "    </tr>\n",
       "    <tr>\n",
       "      <th>4182</th>\n",
       "      <td>1</td>\n",
       "      <td>1573</td>\n",
       "      <td>34</td>\n",
       "      <td>ВЫСШЕЕ</td>\n",
       "      <td>0</td>\n",
       "      <td>гражданский брак</td>\n",
       "      <td>1</td>\n",
       "      <td>F</td>\n",
       "      <td>сотрудник</td>\n",
       "      <td>0</td>\n",
       "      <td>142594</td>\n",
       "      <td>свадьба</td>\n",
       "      <td>4</td>\n",
       "    </tr>\n",
       "    <tr>\n",
       "      <th>4851</th>\n",
       "      <td>0</td>\n",
       "      <td>15217</td>\n",
       "      <td>60</td>\n",
       "      <td>среднее</td>\n",
       "      <td>1</td>\n",
       "      <td>гражданский брак</td>\n",
       "      <td>1</td>\n",
       "      <td>F</td>\n",
       "      <td>пенсионер</td>\n",
       "      <td>0</td>\n",
       "      <td>118514</td>\n",
       "      <td>свадьба</td>\n",
       "      <td>41</td>\n",
       "    </tr>\n",
       "    <tr>\n",
       "      <th>5557</th>\n",
       "      <td>0</td>\n",
       "      <td>15217</td>\n",
       "      <td>58</td>\n",
       "      <td>среднее</td>\n",
       "      <td>1</td>\n",
       "      <td>гражданский брак</td>\n",
       "      <td>1</td>\n",
       "      <td>F</td>\n",
       "      <td>пенсионер</td>\n",
       "      <td>0</td>\n",
       "      <td>118514</td>\n",
       "      <td>сыграть свадьбу</td>\n",
       "      <td>41</td>\n",
       "    </tr>\n",
       "    <tr>\n",
       "      <th>7808</th>\n",
       "      <td>0</td>\n",
       "      <td>15217</td>\n",
       "      <td>57</td>\n",
       "      <td>среднее</td>\n",
       "      <td>1</td>\n",
       "      <td>гражданский брак</td>\n",
       "      <td>1</td>\n",
       "      <td>F</td>\n",
       "      <td>пенсионер</td>\n",
       "      <td>0</td>\n",
       "      <td>118514</td>\n",
       "      <td>на проведение свадьбы</td>\n",
       "      <td>41</td>\n",
       "    </tr>\n",
       "    <tr>\n",
       "      <th>8583</th>\n",
       "      <td>0</td>\n",
       "      <td>15217</td>\n",
       "      <td>58</td>\n",
       "      <td>высшее</td>\n",
       "      <td>0</td>\n",
       "      <td>Не женат / не замужем</td>\n",
       "      <td>4</td>\n",
       "      <td>F</td>\n",
       "      <td>пенсионер</td>\n",
       "      <td>0</td>\n",
       "      <td>118514</td>\n",
       "      <td>дополнительное образование</td>\n",
       "      <td>41</td>\n",
       "    </tr>\n",
       "    <tr>\n",
       "      <th>9238</th>\n",
       "      <td>2</td>\n",
       "      <td>1573</td>\n",
       "      <td>34</td>\n",
       "      <td>среднее</td>\n",
       "      <td>1</td>\n",
       "      <td>женат / замужем</td>\n",
       "      <td>0</td>\n",
       "      <td>F</td>\n",
       "      <td>сотрудник</td>\n",
       "      <td>0</td>\n",
       "      <td>142594</td>\n",
       "      <td>покупка жилья для сдачи</td>\n",
       "      <td>4</td>\n",
       "    </tr>\n",
       "    <tr>\n",
       "      <th>9528</th>\n",
       "      <td>0</td>\n",
       "      <td>15217</td>\n",
       "      <td>66</td>\n",
       "      <td>среднее</td>\n",
       "      <td>1</td>\n",
       "      <td>вдовец / вдова</td>\n",
       "      <td>2</td>\n",
       "      <td>F</td>\n",
       "      <td>пенсионер</td>\n",
       "      <td>0</td>\n",
       "      <td>118514</td>\n",
       "      <td>операции со своей недвижимостью</td>\n",
       "      <td>41</td>\n",
       "    </tr>\n",
       "    <tr>\n",
       "      <th>9627</th>\n",
       "      <td>0</td>\n",
       "      <td>15217</td>\n",
       "      <td>56</td>\n",
       "      <td>среднее</td>\n",
       "      <td>1</td>\n",
       "      <td>женат / замужем</td>\n",
       "      <td>0</td>\n",
       "      <td>F</td>\n",
       "      <td>пенсионер</td>\n",
       "      <td>0</td>\n",
       "      <td>118514</td>\n",
       "      <td>операции со своей недвижимостью</td>\n",
       "      <td>41</td>\n",
       "    </tr>\n",
       "    <tr>\n",
       "      <th>10462</th>\n",
       "      <td>0</td>\n",
       "      <td>15217</td>\n",
       "      <td>62</td>\n",
       "      <td>среднее</td>\n",
       "      <td>1</td>\n",
       "      <td>женат / замужем</td>\n",
       "      <td>0</td>\n",
       "      <td>F</td>\n",
       "      <td>пенсионер</td>\n",
       "      <td>0</td>\n",
       "      <td>118514</td>\n",
       "      <td>покупка коммерческой недвижимости</td>\n",
       "      <td>41</td>\n",
       "    </tr>\n",
       "  </tbody>\n",
       "</table>\n",
       "</div>"
      ],
      "text/plain": [
       "       children  days_employed  dob_years education  education_id  \\\n",
       "2849          0           1573         41   среднее             1   \n",
       "4182          1           1573         34    ВЫСШЕЕ             0   \n",
       "4851          0          15217         60   среднее             1   \n",
       "5557          0          15217         58   среднее             1   \n",
       "7808          0          15217         57   среднее             1   \n",
       "8583          0          15217         58    высшее             0   \n",
       "9238          2           1573         34   среднее             1   \n",
       "9528          0          15217         66   среднее             1   \n",
       "9627          0          15217         56   среднее             1   \n",
       "10462         0          15217         62   среднее             1   \n",
       "\n",
       "               family_status  family_status_id gender income_type  debt  \\\n",
       "2849         женат / замужем                 0      F   сотрудник     0   \n",
       "4182        гражданский брак                 1      F   сотрудник     0   \n",
       "4851        гражданский брак                 1      F   пенсионер     0   \n",
       "5557        гражданский брак                 1      F   пенсионер     0   \n",
       "7808        гражданский брак                 1      F   пенсионер     0   \n",
       "8583   Не женат / не замужем                 4      F   пенсионер     0   \n",
       "9238         женат / замужем                 0      F   сотрудник     0   \n",
       "9528          вдовец / вдова                 2      F   пенсионер     0   \n",
       "9627         женат / замужем                 0      F   пенсионер     0   \n",
       "10462        женат / замужем                 0      F   пенсионер     0   \n",
       "\n",
       "       total_income                            purpose  years_employed  \n",
       "2849         142594            покупка жилья для семьи               4  \n",
       "4182         142594                            свадьба               4  \n",
       "4851         118514                            свадьба              41  \n",
       "5557         118514                    сыграть свадьбу              41  \n",
       "7808         118514              на проведение свадьбы              41  \n",
       "8583         118514         дополнительное образование              41  \n",
       "9238         142594            покупка жилья для сдачи               4  \n",
       "9528         118514    операции со своей недвижимостью              41  \n",
       "9627         118514    операции со своей недвижимостью              41  \n",
       "10462        118514  покупка коммерческой недвижимости              41  "
      ]
     },
     "execution_count": 57,
     "metadata": {},
     "output_type": "execute_result"
    }
   ],
   "source": [
    "# посмотрим на строчки, где встречаются дубликаты\n",
    "df[df.duplicated()].head(10)"
   ]
  },
  {
   "cell_type": "markdown",
   "metadata": {},
   "source": [
    "В стобце education есть данные, которые написаны в разных регистрах, следовательно они не попадают в категории дубликаты, хотя должны. Проверим все уникальные значения в столбцах, имеющих строковый тип данных, чтобы, при необходимости перевести данные в нижний регистр и удалить все дубликаты."
   ]
  },
  {
   "cell_type": "code",
   "execution_count": 58,
   "metadata": {},
   "outputs": [
    {
     "data": {
      "text/plain": [
       "среднее                13750\n",
       "высшее                  4718\n",
       "СРЕДНЕЕ                  772\n",
       "Среднее                  711\n",
       "неоконченное высшее      668\n",
       "ВЫСШЕЕ                   274\n",
       "Высшее                   268\n",
       "начальное                250\n",
       "Неоконченное высшее       47\n",
       "НЕОКОНЧЕННОЕ ВЫСШЕЕ       29\n",
       "НАЧАЛЬНОЕ                 17\n",
       "Начальное                 15\n",
       "ученая степень             4\n",
       "Ученая степень             1\n",
       "УЧЕНАЯ СТЕПЕНЬ             1\n",
       "Name: education, dtype: int64"
      ]
     },
     "execution_count": 58,
     "metadata": {},
     "output_type": "execute_result"
    }
   ],
   "source": [
    "# выведем уникальные значения для столбца education\n",
    "df['education'].value_counts()"
   ]
  },
  {
   "cell_type": "code",
   "execution_count": 59,
   "metadata": {},
   "outputs": [
    {
     "data": {
      "text/plain": [
       "F      14236\n",
       "M       7288\n",
       "XNA        1\n",
       "Name: gender, dtype: int64"
      ]
     },
     "execution_count": 59,
     "metadata": {},
     "output_type": "execute_result"
    }
   ],
   "source": [
    "# выведем уникальные значения для столбца gender\n",
    "df['gender'].value_counts()"
   ]
  },
  {
   "cell_type": "code",
   "execution_count": 60,
   "metadata": {},
   "outputs": [
    {
     "data": {
      "text/plain": [
       "сотрудник          11119\n",
       "компаньон           5085\n",
       "пенсионер           3856\n",
       "госслужащий         1459\n",
       "безработный            2\n",
       "предприниматель        2\n",
       "студент                1\n",
       "в декрете              1\n",
       "Name: income_type, dtype: int64"
      ]
     },
     "execution_count": 60,
     "metadata": {},
     "output_type": "execute_result"
    }
   ],
   "source": [
    "# выведем уникальные значения для столбца income_type\n",
    "df['income_type'].value_counts()"
   ]
  },
  {
   "cell_type": "code",
   "execution_count": 61,
   "metadata": {},
   "outputs": [
    {
     "data": {
      "text/plain": [
       "женат / замужем          12380\n",
       "гражданский брак          4177\n",
       "Не женат / не замужем     2813\n",
       "в разводе                 1195\n",
       "вдовец / вдова             960\n",
       "Name: family_status, dtype: int64"
      ]
     },
     "execution_count": 61,
     "metadata": {},
     "output_type": "execute_result"
    }
   ],
   "source": [
    "# выведем уникальные значения для столбца family_status\n",
    "df['family_status'].value_counts()"
   ]
  },
  {
   "cell_type": "code",
   "execution_count": 62,
   "metadata": {},
   "outputs": [
    {
     "data": {
      "text/plain": [
       "свадьба                                   797\n",
       "на проведение свадьбы                     777\n",
       "сыграть свадьбу                           774\n",
       "операции с недвижимостью                  676\n",
       "покупка коммерческой недвижимости         664\n",
       "покупка жилья для сдачи                   653\n",
       "операции с жильем                         653\n",
       "операции с коммерческой недвижимостью     651\n",
       "жилье                                     647\n",
       "покупка жилья                             647\n",
       "покупка жилья для семьи                   641\n",
       "строительство собственной недвижимости    635\n",
       "недвижимость                              634\n",
       "операции со своей недвижимостью           630\n",
       "строительство жилой недвижимости          626\n",
       "покупка недвижимости                      624\n",
       "покупка своего жилья                      620\n",
       "строительство недвижимости                620\n",
       "ремонт жилью                              612\n",
       "покупка жилой недвижимости                607\n",
       "на покупку своего автомобиля              505\n",
       "заняться высшим образованием              496\n",
       "автомобиль                                495\n",
       "сделка с подержанным автомобилем          489\n",
       "свой автомобиль                           480\n",
       "на покупку подержанного автомобиля        479\n",
       "автомобили                                478\n",
       "на покупку автомобиля                     472\n",
       "дополнительное образование                462\n",
       "приобретение автомобиля                   462\n",
       "сделка с автомобилем                      455\n",
       "высшее образование                        453\n",
       "получение дополнительного образования     447\n",
       "образование                               447\n",
       "получение образования                     443\n",
       "профильное образование                    436\n",
       "получение высшего образования             426\n",
       "заняться образованием                     412\n",
       "Name: purpose, dtype: int64"
      ]
     },
     "execution_count": 62,
     "metadata": {},
     "output_type": "execute_result"
    }
   ],
   "source": [
    "# выведем уникальные значения для столбца purpose\n",
    "df['purpose'].value_counts()"
   ]
  },
  {
   "cell_type": "markdown",
   "metadata": {},
   "source": [
    "После проверки уникальных значений во всех столбцах со строковыми данными видим, что необходимость к переводу данных в один регистр имеется только для столбца education. После этого еще раз проверим количество дубликатов (их может стать больше) и удалим их методом drop_duplicates.\n",
    "\n",
    "Для столбца purpose требуется лемматизация (исполним в следующем блоке). "
   ]
  },
  {
   "cell_type": "code",
   "execution_count": 63,
   "metadata": {},
   "outputs": [
    {
     "data": {
      "text/plain": [
       "среднее                15233\n",
       "высшее                  5260\n",
       "неоконченное высшее      744\n",
       "начальное                282\n",
       "ученая степень             6\n",
       "Name: education, dtype: int64"
      ]
     },
     "execution_count": 63,
     "metadata": {},
     "output_type": "execute_result"
    }
   ],
   "source": [
    "# переведем все значения столбца education в нижний регистр\n",
    "df['education'] = df['education'].str.lower()\n",
    "\n",
    "# проверим уникальные значения для столбца education\n",
    "df['education'].value_counts()"
   ]
  },
  {
   "cell_type": "markdown",
   "metadata": {},
   "source": [
    "В столбце gender имеется значение XNA, которое не относится ни мужскому, ни к женсому полу - удалим строку с этим значением, чтобы она не мешала дальнейшей обработке."
   ]
  },
  {
   "cell_type": "code",
   "execution_count": 64,
   "metadata": {},
   "outputs": [],
   "source": [
    "# удалим строку со значение гендера XNA\n",
    "df = df.drop(df[df['gender'] == 'XNA'].index)\n"
   ]
  },
  {
   "cell_type": "markdown",
   "metadata": {},
   "source": [
    "Проверим на аномалии столбцы с числовыми значениями"
   ]
  },
  {
   "cell_type": "code",
   "execution_count": 65,
   "metadata": {},
   "outputs": [
    {
     "data": {
      "text/plain": [
       " 0     14148\n",
       " 1      4818\n",
       " 2      2055\n",
       " 3       330\n",
       " 20       76\n",
       "-1        47\n",
       " 4        41\n",
       " 5         9\n",
       "Name: children, dtype: int64"
      ]
     },
     "execution_count": 65,
     "metadata": {},
     "output_type": "execute_result"
    }
   ],
   "source": [
    "# проверим уникальные значения для столбца education\n",
    "df['children'].value_counts()"
   ]
  },
  {
   "cell_type": "markdown",
   "metadata": {},
   "source": [
    "В столбце есть значение \"20\" детей, что врядли соответствует истине. \n",
    "Также не может быть -1 ребенок. Посчитаем долю некорректных значений, и если она меньше 5% - удалим эти строки.\n"
   ]
  },
  {
   "cell_type": "code",
   "execution_count": 66,
   "metadata": {},
   "outputs": [
    {
     "data": {
      "text/plain": [
       "0.5714551198661958"
      ]
     },
     "execution_count": 66,
     "metadata": {},
     "output_type": "execute_result"
    }
   ],
   "source": [
    "# посчитаем долю некорреткных значений\n",
    "(len(df[df['children'] == 20])+len(df[df['children'] == -1]))/len(df)*100"
   ]
  },
  {
   "cell_type": "code",
   "execution_count": 67,
   "metadata": {},
   "outputs": [],
   "source": [
    "# удаляем строки с 20 и -1 детьми.\n",
    "df = df.drop(df[df['children'] == 20].index)\n",
    "df = df.drop(df[df['children'] == -1].index)"
   ]
  },
  {
   "cell_type": "code",
   "execution_count": 68,
   "metadata": {},
   "outputs": [
    {
     "name": "stdout",
     "output_type": "stream",
     "text": [
      "Дубликатов в таблице: 71\n"
     ]
    }
   ],
   "source": [
    "# проверка дубликатов в таблице\n",
    "print(\"Дубликатов в таблице:\", df.duplicated().sum())"
   ]
  },
  {
   "cell_type": "code",
   "execution_count": 69,
   "metadata": {},
   "outputs": [
    {
     "name": "stdout",
     "output_type": "stream",
     "text": [
      "Дубликатов в таблице после: 0\n"
     ]
    }
   ],
   "source": [
    "# удалим дубликаты в таблице\n",
    "df = df.drop_duplicates().reset_index(drop=True)\n",
    "\n",
    "# проверка дубликатов в таблице после удаления\n",
    "print(\"Дубликатов в таблице после:\", df.duplicated().sum())"
   ]
  },
  {
   "cell_type": "markdown",
   "metadata": {},
   "source": [
    "**Вывод**"
   ]
  },
  {
   "cell_type": "markdown",
   "metadata": {},
   "source": [
    "В таблице с исходными данными имелись явные дубликаты в столбце с образованием клиента. После приведения значений из этого столбца к нижниему регистру - удлось избавиться от всех явных дубликатов.\n"
   ]
  },
  {
   "cell_type": "markdown",
   "metadata": {},
   "source": [
    "### Лемматизация"
   ]
  },
  {
   "cell_type": "markdown",
   "metadata": {},
   "source": [
    "В столбце purpose имеются значения с однокоренными словами, которые необходимо обработать, для дальнейшей категоризации и анализа. Исползуем метод лемматизации.\n",
    "\n",
    "Получим уникальные значения столбца purpose, склеим их в одну строку и лемматизируем с помощью библиотеки PyMystem."
   ]
  },
  {
   "cell_type": "code",
   "execution_count": 70,
   "metadata": {},
   "outputs": [
    {
     "name": "stdout",
     "output_type": "stream",
     "text": [
      "Counter({' ': 96, 'покупка': 10, 'недвижимость': 10, 'автомобиль': 9, 'образование': 9, 'жилье': 7, 'с': 5, 'операция': 4, 'на': 4, 'свой': 4, 'свадьба': 3, 'строительство': 3, 'получение': 3, 'высокий': 3, 'дополнительный': 2, 'для': 2, 'коммерческий': 2, 'жилой': 2, 'подержать': 2, 'заниматься': 2, 'сделка': 2, 'приобретение': 1, 'сыграть': 1, 'проведение': 1, 'семья': 1, 'собственный': 1, 'со': 1, 'профильный': 1, 'сдача': 1, 'ремонт': 1, '\\n': 1})\n"
     ]
    }
   ],
   "source": [
    "# получим уникальные значения столбца purpose и в всиде строки присвоим их переменной unique_purpose_str\n",
    "unique_purpose_str = ' '.join(df['purpose'].unique())\n",
    "\n",
    "# импортируем библиотеку pymystem3 для лемматизаци\n",
    "from pymystem3 import Mystem\n",
    "m = Mystem()\n",
    "lemmas = m.lemmatize(unique_purpose_str)\n",
    "\n",
    "# посчитаем, сколько раз встречаются уникальные слова с переменной unique_purpose_str\n",
    "from collections import Counter\n",
    "print(Counter(lemmas))"
   ]
  },
  {
   "cell_type": "markdown",
   "metadata": {},
   "source": [
    "Чаще всего в полученном списке встречается слово покупка, но оно может относиться, как к автомобилю, так и к недвижимости, поэтому для дальнейшей категоризации не подойдет. Жильё можно условно приравнять к недвижимости. Слова: строительство, получение, сдача, ремонт также относятся к недвижимости.\n",
    "\n",
    "Таким образом, из списка получится всего 4 категории: недвижимость, автомобиль, образование и свадьба.\n",
    "\n",
    "Напишем функцию, которая будет лематизировать последовательно каждую ячейку столбца purpose и проверять, к какой категрии относится каждая строка."
   ]
  },
  {
   "cell_type": "code",
   "execution_count": 71,
   "metadata": {},
   "outputs": [
    {
     "data": {
      "text/plain": [
       "'недвижимость'"
      ]
     },
     "execution_count": 71,
     "metadata": {},
     "output_type": "execute_result"
    }
   ],
   "source": [
    "def lemmas_purpose(purpose):\n",
    "    purpose_lemmas = m.lemmatize(purpose)\n",
    "    if 'недвижимость' in purpose_lemmas or 'жилье' in purpose_lemmas:\n",
    "        return 'недвижимость'\n",
    "    if 'автомобиль' in purpose_lemmas:\n",
    "        return 'автомобиль'\n",
    "    if 'образование' in purpose_lemmas:\n",
    "        return 'образование'\n",
    "    if 'свадьба' in purpose_lemmas:\n",
    "        return 'свадьба'\n",
    "\n",
    "# проверим, как работает функция\n",
    "lemmas_purpose('ремонт жилью')\n"
   ]
  },
  {
   "cell_type": "markdown",
   "metadata": {},
   "source": [
    "Создадим в таблице столбец lemmas_purpose с лемматизированными данными по столбцу purpose и проверим, все ли значения в этом стобце попали под ту или иную категорию."
   ]
  },
  {
   "cell_type": "code",
   "execution_count": 72,
   "metadata": {},
   "outputs": [
    {
     "name": "stdout",
     "output_type": "stream",
     "text": [
      "Количество пропусков в стобце 0\n"
     ]
    },
    {
     "data": {
      "text/plain": [
       "недвижимость    10750\n",
       "автомобиль       4279\n",
       "образование      3988\n",
       "свадьба          2313\n",
       "Name: lemmas_purpose, dtype: int64"
      ]
     },
     "execution_count": 72,
     "metadata": {},
     "output_type": "execute_result"
    }
   ],
   "source": [
    "df['lemmas_purpose'] = df['purpose'].apply(lemmas_purpose)\n",
    "\n",
    "print('Количество пропусков в стобце',df['lemmas_purpose'].isna().sum())\n",
    "\n",
    "df['lemmas_purpose'].value_counts()"
   ]
  },
  {
   "cell_type": "markdown",
   "metadata": {},
   "source": [
    "**Вывод**"
   ]
  },
  {
   "cell_type": "markdown",
   "metadata": {},
   "source": [
    "В столбце purpose данные записаны разными спосабами, что может помешать дальнейшей категоризации. Для того, чтобы устранить эту проблему, мы, с помощью лемматизации, создали функцию, которая обрабатывает данные этого столбца и вносит новые данные в столбец lemmas_purpose.\n",
    "\n",
    "Теперь можно перейти к категоризации данных по другим столбцам."
   ]
  },
  {
   "cell_type": "markdown",
   "metadata": {},
   "source": [
    "### Категоризация данных"
   ]
  },
  {
   "cell_type": "markdown",
   "metadata": {},
   "source": [
    "Для того, чтобы быстро и качественно отвечать на вопросы бизнеса, наши данные должны быть структурированы и разбиты на категории.\n",
    "\n",
    "Один из вопросов, на которые в последствии нам нужно будет ответить: \"есть ли зависимость между наличием детей и возвратом кредита в срок?\" Значит нужно категоризировать данные по количеству детей. Но для начала проверим, корректные ли данные находятся в стобце children."
   ]
  },
  {
   "cell_type": "markdown",
   "metadata": {},
   "source": [
    "Добавим столбец having_children, который будет принимать значения 0 - если детей нет, и 1 - если дети есть (в любом количестве)"
   ]
  },
  {
   "cell_type": "code",
   "execution_count": 73,
   "metadata": {},
   "outputs": [],
   "source": [
    "df.loc[df['children'] == 20,'children'] = 2\n",
    "df.loc[df['children'] == -1, 'children'] = 0\n",
    "\n",
    "def having_children(children):\n",
    "    if children == 0:\n",
    "        return 0\n",
    "    else:\n",
    "        return 1\n",
    "    \n",
    "df['having_children'] = df['children'].apply(having_children)\n"
   ]
  },
  {
   "cell_type": "markdown",
   "metadata": {},
   "source": [
    "В таблице имеется 2 столбца education и education_id, данные в которых должны быть между собой связаны. Проверим, так ли это."
   ]
  },
  {
   "cell_type": "code",
   "execution_count": 74,
   "metadata": {},
   "outputs": [
    {
     "data": {
      "text/html": [
       "<div>\n",
       "<style scoped>\n",
       "    .dataframe tbody tr th:only-of-type {\n",
       "        vertical-align: middle;\n",
       "    }\n",
       "\n",
       "    .dataframe tbody tr th {\n",
       "        vertical-align: top;\n",
       "    }\n",
       "\n",
       "    .dataframe thead th {\n",
       "        text-align: right;\n",
       "    }\n",
       "</style>\n",
       "<table border=\"1\" class=\"dataframe\">\n",
       "  <thead>\n",
       "    <tr style=\"text-align: right;\">\n",
       "      <th></th>\n",
       "      <th>education</th>\n",
       "    </tr>\n",
       "    <tr>\n",
       "      <th>education_id</th>\n",
       "      <th></th>\n",
       "    </tr>\n",
       "  </thead>\n",
       "  <tbody>\n",
       "    <tr>\n",
       "      <th>0</th>\n",
       "      <td>высшее</td>\n",
       "    </tr>\n",
       "    <tr>\n",
       "      <th>1</th>\n",
       "      <td>среднее</td>\n",
       "    </tr>\n",
       "    <tr>\n",
       "      <th>2</th>\n",
       "      <td>неоконченное высшее</td>\n",
       "    </tr>\n",
       "    <tr>\n",
       "      <th>3</th>\n",
       "      <td>начальное</td>\n",
       "    </tr>\n",
       "    <tr>\n",
       "      <th>4</th>\n",
       "      <td>ученая степень</td>\n",
       "    </tr>\n",
       "  </tbody>\n",
       "</table>\n",
       "</div>"
      ],
      "text/plain": [
       "                        education\n",
       "education_id                     \n",
       "0                          высшее\n",
       "1                         среднее\n",
       "2             неоконченное высшее\n",
       "3                       начальное\n",
       "4                  ученая степень"
      ]
     },
     "execution_count": 74,
     "metadata": {},
     "output_type": "execute_result"
    }
   ],
   "source": [
    "df[['education', 'education_id']].drop_duplicates().set_index('education_id')"
   ]
  },
  {
   "cell_type": "markdown",
   "metadata": {},
   "source": [
    "В столбцах, приведенных выше, нет расхождений между данными. Проверим таким же образом столбцы family_status и family_status_id."
   ]
  },
  {
   "cell_type": "code",
   "execution_count": 75,
   "metadata": {},
   "outputs": [
    {
     "data": {
      "text/html": [
       "<div>\n",
       "<style scoped>\n",
       "    .dataframe tbody tr th:only-of-type {\n",
       "        vertical-align: middle;\n",
       "    }\n",
       "\n",
       "    .dataframe tbody tr th {\n",
       "        vertical-align: top;\n",
       "    }\n",
       "\n",
       "    .dataframe thead th {\n",
       "        text-align: right;\n",
       "    }\n",
       "</style>\n",
       "<table border=\"1\" class=\"dataframe\">\n",
       "  <thead>\n",
       "    <tr style=\"text-align: right;\">\n",
       "      <th></th>\n",
       "      <th>family_status</th>\n",
       "    </tr>\n",
       "    <tr>\n",
       "      <th>family_status_id</th>\n",
       "      <th></th>\n",
       "    </tr>\n",
       "  </thead>\n",
       "  <tbody>\n",
       "    <tr>\n",
       "      <th>0</th>\n",
       "      <td>женат / замужем</td>\n",
       "    </tr>\n",
       "    <tr>\n",
       "      <th>1</th>\n",
       "      <td>гражданский брак</td>\n",
       "    </tr>\n",
       "    <tr>\n",
       "      <th>2</th>\n",
       "      <td>вдовец / вдова</td>\n",
       "    </tr>\n",
       "    <tr>\n",
       "      <th>3</th>\n",
       "      <td>в разводе</td>\n",
       "    </tr>\n",
       "    <tr>\n",
       "      <th>4</th>\n",
       "      <td>Не женат / не замужем</td>\n",
       "    </tr>\n",
       "  </tbody>\n",
       "</table>\n",
       "</div>"
      ],
      "text/plain": [
       "                          family_status\n",
       "family_status_id                       \n",
       "0                       женат / замужем\n",
       "1                      гражданский брак\n",
       "2                        вдовец / вдова\n",
       "3                             в разводе\n",
       "4                 Не женат / не замужем"
      ]
     },
     "execution_count": 75,
     "metadata": {},
     "output_type": "execute_result"
    }
   ],
   "source": [
    "df[['family_status', \"family_status_id\"]].drop_duplicates().set_index('family_status_id')"
   ]
  },
  {
   "cell_type": "markdown",
   "metadata": {},
   "source": [
    "В столбцах, приведенных выше, также нет расхождений между данными."
   ]
  },
  {
   "cell_type": "markdown",
   "metadata": {},
   "source": [
    "Категоризируем уровень дохода на: меньше среднего, средний, выше среднего и занесем эти данные в таблицу income."
   ]
  },
  {
   "cell_type": "code",
   "execution_count": 76,
   "metadata": {},
   "outputs": [
    {
     "data": {
      "text/plain": [
       "ниже среднего    9717\n",
       "выше среднего    8126\n",
       "средний          3487\n",
       "Name: income, dtype: int64"
      ]
     },
     "execution_count": 76,
     "metadata": {},
     "output_type": "execute_result"
    }
   ],
   "source": [
    "# присвоим переменным income_mean и income_median среднее и медианное значение столбца total_income соответственно\n",
    "income_mean = df['total_income'].mean()\n",
    "income_median = df['total_income'].median()\n",
    "\n",
    "# напишем функцию, которая категоризирует уровень дохода\n",
    "def income(total_income):\n",
    "    if total_income < income_median:\n",
    "        return \"ниже среднего\"\n",
    "    if income_median <= total_income <= income_mean:\n",
    "        return \"средний\"\n",
    "    else:\n",
    "        return \"выше среднего\"\n",
    "    \n",
    "# пишем столбец, который показывает категоризированный уровень дохода\n",
    "df['income'] = df['total_income'].apply(income)\n",
    "\n",
    "df['income'].value_counts()\n"
   ]
  },
  {
   "cell_type": "markdown",
   "metadata": {},
   "source": [
    "Категоризируем людей по возрасту, для этого посмотрим на данные по этому столбцу"
   ]
  },
  {
   "cell_type": "code",
   "execution_count": 77,
   "metadata": {},
   "outputs": [
    {
     "data": {
      "text/plain": [
       "array([42, 36, 33, 32, 53, 27, 43, 50, 35, 41, 40, 65, 54, 56, 26, 48, 24,\n",
       "       21, 57, 67, 28, 63, 62, 47, 34, 68, 25, 31, 30, 20, 49, 37, 45, 61,\n",
       "       64, 44, 52, 46, 23, 38, 39, 51,  0, 59, 29, 60, 55, 58, 71, 22, 73,\n",
       "       66, 69, 19, 72, 70, 74, 75])"
      ]
     },
     "execution_count": 77,
     "metadata": {},
     "output_type": "execute_result"
    }
   ],
   "source": [
    "df['dob_years'].unique()"
   ]
  },
  {
   "cell_type": "markdown",
   "metadata": {},
   "source": [
    "В столбце имеются нулевые значения - заменим их на сумму трудового стажа в годах и 18 + 3 (возраст, когда человек после обучения в среднем начинает трудовую карьеру)."
   ]
  },
  {
   "cell_type": "code",
   "execution_count": 78,
   "metadata": {},
   "outputs": [],
   "source": [
    "df.loc[df['dob_years'] == 0, 'dob_years'] = (df['years_employed'] + 18 + 3)"
   ]
  },
  {
   "cell_type": "code",
   "execution_count": 79,
   "metadata": {},
   "outputs": [],
   "source": [
    "def age(dob_years):\n",
    "    if dob_years <= 18:\n",
    "        return \"18\"\n",
    "    if 18 < dob_years <= 25:\n",
    "        return \"19-25\"\n",
    "    if 25 < dob_years <= 35:\n",
    "        return \"26-35\"\n",
    "    if 35 < dob_years <= 45:\n",
    "        return \"36-45\"\n",
    "    if 45 < dob_years <= 60:\n",
    "        return \"46-60\"\n",
    "    else:\n",
    "        return \"> 60\"\n",
    "    \n",
    "df['age'] = df['dob_years'].apply(age)\n"
   ]
  },
  {
   "cell_type": "code",
   "execution_count": 80,
   "metadata": {},
   "outputs": [
    {
     "data": {
      "text/html": [
       "<div>\n",
       "<style scoped>\n",
       "    .dataframe tbody tr th:only-of-type {\n",
       "        vertical-align: middle;\n",
       "    }\n",
       "\n",
       "    .dataframe tbody tr th {\n",
       "        vertical-align: top;\n",
       "    }\n",
       "\n",
       "    .dataframe thead th {\n",
       "        text-align: right;\n",
       "    }\n",
       "</style>\n",
       "<table border=\"1\" class=\"dataframe\">\n",
       "  <thead>\n",
       "    <tr style=\"text-align: right;\">\n",
       "      <th></th>\n",
       "      <th>children</th>\n",
       "      <th>days_employed</th>\n",
       "      <th>dob_years</th>\n",
       "      <th>education</th>\n",
       "      <th>education_id</th>\n",
       "      <th>family_status</th>\n",
       "      <th>family_status_id</th>\n",
       "      <th>gender</th>\n",
       "      <th>income_type</th>\n",
       "      <th>debt</th>\n",
       "      <th>total_income</th>\n",
       "      <th>purpose</th>\n",
       "      <th>years_employed</th>\n",
       "      <th>lemmas_purpose</th>\n",
       "      <th>having_children</th>\n",
       "      <th>income</th>\n",
       "      <th>age</th>\n",
       "    </tr>\n",
       "  </thead>\n",
       "  <tbody>\n",
       "    <tr>\n",
       "      <th>0</th>\n",
       "      <td>1</td>\n",
       "      <td>8437</td>\n",
       "      <td>42</td>\n",
       "      <td>высшее</td>\n",
       "      <td>0</td>\n",
       "      <td>женат / замужем</td>\n",
       "      <td>0</td>\n",
       "      <td>F</td>\n",
       "      <td>сотрудник</td>\n",
       "      <td>0</td>\n",
       "      <td>253875</td>\n",
       "      <td>покупка жилья</td>\n",
       "      <td>23</td>\n",
       "      <td>недвижимость</td>\n",
       "      <td>1</td>\n",
       "      <td>выше среднего</td>\n",
       "      <td>36-45</td>\n",
       "    </tr>\n",
       "    <tr>\n",
       "      <th>1</th>\n",
       "      <td>1</td>\n",
       "      <td>4024</td>\n",
       "      <td>36</td>\n",
       "      <td>среднее</td>\n",
       "      <td>1</td>\n",
       "      <td>женат / замужем</td>\n",
       "      <td>0</td>\n",
       "      <td>F</td>\n",
       "      <td>сотрудник</td>\n",
       "      <td>0</td>\n",
       "      <td>112080</td>\n",
       "      <td>приобретение автомобиля</td>\n",
       "      <td>11</td>\n",
       "      <td>автомобиль</td>\n",
       "      <td>1</td>\n",
       "      <td>ниже среднего</td>\n",
       "      <td>36-45</td>\n",
       "    </tr>\n",
       "    <tr>\n",
       "      <th>2</th>\n",
       "      <td>0</td>\n",
       "      <td>5623</td>\n",
       "      <td>33</td>\n",
       "      <td>среднее</td>\n",
       "      <td>1</td>\n",
       "      <td>женат / замужем</td>\n",
       "      <td>0</td>\n",
       "      <td>M</td>\n",
       "      <td>сотрудник</td>\n",
       "      <td>0</td>\n",
       "      <td>145885</td>\n",
       "      <td>покупка жилья</td>\n",
       "      <td>15</td>\n",
       "      <td>недвижимость</td>\n",
       "      <td>0</td>\n",
       "      <td>средний</td>\n",
       "      <td>26-35</td>\n",
       "    </tr>\n",
       "    <tr>\n",
       "      <th>3</th>\n",
       "      <td>3</td>\n",
       "      <td>4124</td>\n",
       "      <td>32</td>\n",
       "      <td>среднее</td>\n",
       "      <td>1</td>\n",
       "      <td>женат / замужем</td>\n",
       "      <td>0</td>\n",
       "      <td>M</td>\n",
       "      <td>сотрудник</td>\n",
       "      <td>0</td>\n",
       "      <td>267628</td>\n",
       "      <td>дополнительное образование</td>\n",
       "      <td>11</td>\n",
       "      <td>образование</td>\n",
       "      <td>1</td>\n",
       "      <td>выше среднего</td>\n",
       "      <td>26-35</td>\n",
       "    </tr>\n",
       "    <tr>\n",
       "      <th>4</th>\n",
       "      <td>0</td>\n",
       "      <td>14177</td>\n",
       "      <td>53</td>\n",
       "      <td>среднее</td>\n",
       "      <td>1</td>\n",
       "      <td>гражданский брак</td>\n",
       "      <td>1</td>\n",
       "      <td>F</td>\n",
       "      <td>пенсионер</td>\n",
       "      <td>0</td>\n",
       "      <td>158616</td>\n",
       "      <td>сыграть свадьбу</td>\n",
       "      <td>38</td>\n",
       "      <td>свадьба</td>\n",
       "      <td>0</td>\n",
       "      <td>средний</td>\n",
       "      <td>46-60</td>\n",
       "    </tr>\n",
       "    <tr>\n",
       "      <th>5</th>\n",
       "      <td>0</td>\n",
       "      <td>926</td>\n",
       "      <td>27</td>\n",
       "      <td>высшее</td>\n",
       "      <td>0</td>\n",
       "      <td>гражданский брак</td>\n",
       "      <td>1</td>\n",
       "      <td>M</td>\n",
       "      <td>компаньон</td>\n",
       "      <td>0</td>\n",
       "      <td>255763</td>\n",
       "      <td>покупка жилья</td>\n",
       "      <td>2</td>\n",
       "      <td>недвижимость</td>\n",
       "      <td>0</td>\n",
       "      <td>выше среднего</td>\n",
       "      <td>26-35</td>\n",
       "    </tr>\n",
       "    <tr>\n",
       "      <th>6</th>\n",
       "      <td>0</td>\n",
       "      <td>2879</td>\n",
       "      <td>43</td>\n",
       "      <td>высшее</td>\n",
       "      <td>0</td>\n",
       "      <td>женат / замужем</td>\n",
       "      <td>0</td>\n",
       "      <td>F</td>\n",
       "      <td>компаньон</td>\n",
       "      <td>0</td>\n",
       "      <td>240525</td>\n",
       "      <td>операции с жильем</td>\n",
       "      <td>7</td>\n",
       "      <td>недвижимость</td>\n",
       "      <td>0</td>\n",
       "      <td>выше среднего</td>\n",
       "      <td>36-45</td>\n",
       "    </tr>\n",
       "    <tr>\n",
       "      <th>7</th>\n",
       "      <td>0</td>\n",
       "      <td>152</td>\n",
       "      <td>50</td>\n",
       "      <td>среднее</td>\n",
       "      <td>1</td>\n",
       "      <td>женат / замужем</td>\n",
       "      <td>0</td>\n",
       "      <td>M</td>\n",
       "      <td>сотрудник</td>\n",
       "      <td>0</td>\n",
       "      <td>135823</td>\n",
       "      <td>образование</td>\n",
       "      <td>0</td>\n",
       "      <td>образование</td>\n",
       "      <td>0</td>\n",
       "      <td>ниже среднего</td>\n",
       "      <td>46-60</td>\n",
       "    </tr>\n",
       "    <tr>\n",
       "      <th>8</th>\n",
       "      <td>2</td>\n",
       "      <td>6929</td>\n",
       "      <td>35</td>\n",
       "      <td>высшее</td>\n",
       "      <td>0</td>\n",
       "      <td>гражданский брак</td>\n",
       "      <td>1</td>\n",
       "      <td>F</td>\n",
       "      <td>сотрудник</td>\n",
       "      <td>0</td>\n",
       "      <td>95856</td>\n",
       "      <td>на проведение свадьбы</td>\n",
       "      <td>18</td>\n",
       "      <td>свадьба</td>\n",
       "      <td>1</td>\n",
       "      <td>ниже среднего</td>\n",
       "      <td>26-35</td>\n",
       "    </tr>\n",
       "    <tr>\n",
       "      <th>9</th>\n",
       "      <td>0</td>\n",
       "      <td>2188</td>\n",
       "      <td>41</td>\n",
       "      <td>среднее</td>\n",
       "      <td>1</td>\n",
       "      <td>женат / замужем</td>\n",
       "      <td>0</td>\n",
       "      <td>M</td>\n",
       "      <td>сотрудник</td>\n",
       "      <td>0</td>\n",
       "      <td>144425</td>\n",
       "      <td>покупка жилья для семьи</td>\n",
       "      <td>5</td>\n",
       "      <td>недвижимость</td>\n",
       "      <td>0</td>\n",
       "      <td>средний</td>\n",
       "      <td>36-45</td>\n",
       "    </tr>\n",
       "  </tbody>\n",
       "</table>\n",
       "</div>"
      ],
      "text/plain": [
       "   children  days_employed  dob_years education  education_id  \\\n",
       "0         1           8437         42    высшее             0   \n",
       "1         1           4024         36   среднее             1   \n",
       "2         0           5623         33   среднее             1   \n",
       "3         3           4124         32   среднее             1   \n",
       "4         0          14177         53   среднее             1   \n",
       "5         0            926         27    высшее             0   \n",
       "6         0           2879         43    высшее             0   \n",
       "7         0            152         50   среднее             1   \n",
       "8         2           6929         35    высшее             0   \n",
       "9         0           2188         41   среднее             1   \n",
       "\n",
       "      family_status  family_status_id gender income_type  debt  total_income  \\\n",
       "0   женат / замужем                 0      F   сотрудник     0        253875   \n",
       "1   женат / замужем                 0      F   сотрудник     0        112080   \n",
       "2   женат / замужем                 0      M   сотрудник     0        145885   \n",
       "3   женат / замужем                 0      M   сотрудник     0        267628   \n",
       "4  гражданский брак                 1      F   пенсионер     0        158616   \n",
       "5  гражданский брак                 1      M   компаньон     0        255763   \n",
       "6   женат / замужем                 0      F   компаньон     0        240525   \n",
       "7   женат / замужем                 0      M   сотрудник     0        135823   \n",
       "8  гражданский брак                 1      F   сотрудник     0         95856   \n",
       "9   женат / замужем                 0      M   сотрудник     0        144425   \n",
       "\n",
       "                      purpose  years_employed lemmas_purpose  having_children  \\\n",
       "0               покупка жилья              23   недвижимость                1   \n",
       "1     приобретение автомобиля              11     автомобиль                1   \n",
       "2               покупка жилья              15   недвижимость                0   \n",
       "3  дополнительное образование              11    образование                1   \n",
       "4             сыграть свадьбу              38        свадьба                0   \n",
       "5               покупка жилья               2   недвижимость                0   \n",
       "6           операции с жильем               7   недвижимость                0   \n",
       "7                 образование               0    образование                0   \n",
       "8       на проведение свадьбы              18        свадьба                1   \n",
       "9     покупка жилья для семьи               5   недвижимость                0   \n",
       "\n",
       "          income    age  \n",
       "0  выше среднего  36-45  \n",
       "1  ниже среднего  36-45  \n",
       "2        средний  26-35  \n",
       "3  выше среднего  26-35  \n",
       "4        средний  46-60  \n",
       "5  выше среднего  26-35  \n",
       "6  выше среднего  36-45  \n",
       "7  ниже среднего  46-60  \n",
       "8  ниже среднего  26-35  \n",
       "9        средний  36-45  "
      ]
     },
     "execution_count": 80,
     "metadata": {},
     "output_type": "execute_result"
    }
   ],
   "source": [
    "# выведем первые 10 строк таблицы, чтобы проверить корректность данных и решить,\n",
    "# всей ли информации нам хватает для провери гипотез\n",
    "df.head(10)"
   ]
  },
  {
   "cell_type": "markdown",
   "metadata": {},
   "source": [
    "**Вывод**"
   ]
  },
  {
   "cell_type": "markdown",
   "metadata": {},
   "source": [
    "Мы категоризировали данные по количеству детей, семейному положению, уровню дохода, целей на получение кредита и образованию.\n",
    "\n",
    "Можно приступать к проверке гипотез."
   ]
  },
  {
   "cell_type": "markdown",
   "metadata": {},
   "source": [
    "## Шаг 3. Проверка гипотез"
   ]
  },
  {
   "cell_type": "markdown",
   "metadata": {},
   "source": [
    "- Есть ли зависимость между наличием детей и возвратом кредита в срок?"
   ]
  },
  {
   "cell_type": "code",
   "execution_count": 81,
   "metadata": {},
   "outputs": [
    {
     "data": {
      "text/html": [
       "<div>\n",
       "<style scoped>\n",
       "    .dataframe tbody tr th:only-of-type {\n",
       "        vertical-align: middle;\n",
       "    }\n",
       "\n",
       "    .dataframe tbody tr th {\n",
       "        vertical-align: top;\n",
       "    }\n",
       "\n",
       "    .dataframe thead th {\n",
       "        text-align: right;\n",
       "    }\n",
       "</style>\n",
       "<table border=\"1\" class=\"dataframe\">\n",
       "  <thead>\n",
       "    <tr style=\"text-align: right;\">\n",
       "      <th></th>\n",
       "      <th></th>\n",
       "      <th>has_debt</th>\n",
       "      <th>total</th>\n",
       "      <th>%</th>\n",
       "    </tr>\n",
       "    <tr>\n",
       "      <th>having_children</th>\n",
       "      <th>children</th>\n",
       "      <th></th>\n",
       "      <th></th>\n",
       "      <th></th>\n",
       "    </tr>\n",
       "  </thead>\n",
       "  <tbody>\n",
       "    <tr>\n",
       "      <th>0</th>\n",
       "      <th>0</th>\n",
       "      <td>1063</td>\n",
       "      <td>14090</td>\n",
       "      <td>7.54</td>\n",
       "    </tr>\n",
       "    <tr>\n",
       "      <th rowspan=\"5\" valign=\"top\">1</th>\n",
       "      <th>1</th>\n",
       "      <td>444</td>\n",
       "      <td>4808</td>\n",
       "      <td>9.23</td>\n",
       "    </tr>\n",
       "    <tr>\n",
       "      <th>2</th>\n",
       "      <td>194</td>\n",
       "      <td>2052</td>\n",
       "      <td>9.45</td>\n",
       "    </tr>\n",
       "    <tr>\n",
       "      <th>3</th>\n",
       "      <td>27</td>\n",
       "      <td>330</td>\n",
       "      <td>8.18</td>\n",
       "    </tr>\n",
       "    <tr>\n",
       "      <th>4</th>\n",
       "      <td>4</td>\n",
       "      <td>41</td>\n",
       "      <td>9.76</td>\n",
       "    </tr>\n",
       "    <tr>\n",
       "      <th>5</th>\n",
       "      <td>0</td>\n",
       "      <td>9</td>\n",
       "      <td>0.00</td>\n",
       "    </tr>\n",
       "  </tbody>\n",
       "</table>\n",
       "</div>"
      ],
      "text/plain": [
       "                          has_debt  total     %\n",
       "having_children children                       \n",
       "0               0             1063  14090  7.54\n",
       "1               1              444   4808  9.23\n",
       "                2              194   2052  9.45\n",
       "                3               27    330  8.18\n",
       "                4                4     41  9.76\n",
       "                5                0      9  0.00"
      ]
     },
     "execution_count": 81,
     "metadata": {},
     "output_type": "execute_result"
    }
   ],
   "source": [
    "# формируем сводную таблицу по столбцам having_children и children\n",
    "# значения сводной таблицы берем из столбца debt\n",
    "# применяем функции sum, count, mean\n",
    "pivot_children = df.pivot_table(index=['having_children', 'children'], values='debt', aggfunc=['sum', 'count', 'mean'])\n",
    "\n",
    "# приводим значение среднего к процентам\n",
    "pivot_children['mean'] = (pivot_children['mean']*100).round(2)\n",
    "\n",
    "# переименовываем столбцы\n",
    "pivot_children.columns = ['has_debt', 'total', '%']\n",
    "\n",
    "pivot_children"
   ]
  },
  {
   "cell_type": "markdown",
   "metadata": {},
   "source": [
    "**Вывод**"
   ]
  },
  {
   "cell_type": "markdown",
   "metadata": {},
   "source": [
    "Из таблицы следует, что люди с наличием детей(до 5), в среднем чаще имеют задолженость по кредиту, чем бездетные. Люди с 5 детьми задолженностей не имели вовсе, но т.к. их всего 9 человек(менее 0,04% от всей выборки) - считаю данный результат не показательным."
   ]
  },
  {
   "cell_type": "markdown",
   "metadata": {},
   "source": [
    "- Есть ли зависимость между семейным положением и возвратом кредита в срок?"
   ]
  },
  {
   "cell_type": "code",
   "execution_count": 82,
   "metadata": {},
   "outputs": [
    {
     "data": {
      "text/html": [
       "<div>\n",
       "<style scoped>\n",
       "    .dataframe tbody tr th:only-of-type {\n",
       "        vertical-align: middle;\n",
       "    }\n",
       "\n",
       "    .dataframe tbody tr th {\n",
       "        vertical-align: top;\n",
       "    }\n",
       "\n",
       "    .dataframe thead th {\n",
       "        text-align: right;\n",
       "    }\n",
       "</style>\n",
       "<table border=\"1\" class=\"dataframe\">\n",
       "  <thead>\n",
       "    <tr style=\"text-align: right;\">\n",
       "      <th></th>\n",
       "      <th>has_debt</th>\n",
       "      <th>total</th>\n",
       "      <th>% debt</th>\n",
       "      <th>% total</th>\n",
       "    </tr>\n",
       "    <tr>\n",
       "      <th>family_status</th>\n",
       "      <th></th>\n",
       "      <th></th>\n",
       "      <th></th>\n",
       "      <th></th>\n",
       "    </tr>\n",
       "  </thead>\n",
       "  <tbody>\n",
       "    <tr>\n",
       "      <th>Не женат / не замужем</th>\n",
       "      <td>273</td>\n",
       "      <td>2796</td>\n",
       "      <td>9.76</td>\n",
       "      <td>13.11</td>\n",
       "    </tr>\n",
       "    <tr>\n",
       "      <th>гражданский брак</th>\n",
       "      <td>385</td>\n",
       "      <td>4133</td>\n",
       "      <td>9.32</td>\n",
       "      <td>19.38</td>\n",
       "    </tr>\n",
       "    <tr>\n",
       "      <th>женат / замужем</th>\n",
       "      <td>927</td>\n",
       "      <td>12261</td>\n",
       "      <td>7.56</td>\n",
       "      <td>57.48</td>\n",
       "    </tr>\n",
       "    <tr>\n",
       "      <th>в разводе</th>\n",
       "      <td>84</td>\n",
       "      <td>1189</td>\n",
       "      <td>7.06</td>\n",
       "      <td>5.57</td>\n",
       "    </tr>\n",
       "    <tr>\n",
       "      <th>вдовец / вдова</th>\n",
       "      <td>63</td>\n",
       "      <td>951</td>\n",
       "      <td>6.62</td>\n",
       "      <td>4.46</td>\n",
       "    </tr>\n",
       "  </tbody>\n",
       "</table>\n",
       "</div>"
      ],
      "text/plain": [
       "                       has_debt  total  % debt  % total\n",
       "family_status                                          \n",
       "Не женат / не замужем       273   2796    9.76    13.11\n",
       "гражданский брак            385   4133    9.32    19.38\n",
       "женат / замужем             927  12261    7.56    57.48\n",
       "в разводе                    84   1189    7.06     5.57\n",
       "вдовец / вдова               63    951    6.62     4.46"
      ]
     },
     "execution_count": 82,
     "metadata": {},
     "output_type": "execute_result"
    }
   ],
   "source": [
    "# формируем сводную таблицу по столбцу family_status\n",
    "# значения сводной таблицы берем из столбца debt\n",
    "# применяем функции sum, count, mean\n",
    "pivot_family_status = df.pivot_table(index=['family_status'], values='debt', aggfunc=['sum', 'count', 'mean'])\n",
    "\n",
    "# приводим значение среднего к процентам\n",
    "pivot_family_status['mean'] = (pivot_family_status['mean']*100).round(2)\n",
    "\n",
    "# переименовываем столбцы\n",
    "pivot_family_status.columns = ['has_debt', 'total', '% debt']\n",
    "\n",
    "pivot_family_status['% total'] = (pivot_family_status['total']/pivot_family_status['total'].sum()*100).round(2)\n",
    "\n",
    "# отсортируем данные по столбцу '%'\n",
    "pivot_family_status = pivot_family_status.sort_values(by='% debt', ascending=False)\n",
    "\n",
    "pivot_family_status"
   ]
  },
  {
   "cell_type": "markdown",
   "metadata": {},
   "source": [
    "**Вывод**"
   ]
  },
  {
   "cell_type": "markdown",
   "metadata": {},
   "source": [
    "Из таблицы видно, что не женатые/не замужние люди, и люди, живущие в гражданском браке чаще имеют задолженности по кредитам, чем другие категории людей. Разведенные люди и вдовцы реже имеют кредитную задоженность. Возможно это как-то связано с возрастом, ведь разводят и вдовеют люди позже, чем женятся."
   ]
  },
  {
   "cell_type": "markdown",
   "metadata": {},
   "source": [
    "- Есть ли зависимость между возрастом человека и возвратом кредита в срок?"
   ]
  },
  {
   "cell_type": "code",
   "execution_count": 83,
   "metadata": {},
   "outputs": [
    {
     "data": {
      "text/html": [
       "<div>\n",
       "<style scoped>\n",
       "    .dataframe tbody tr th:only-of-type {\n",
       "        vertical-align: middle;\n",
       "    }\n",
       "\n",
       "    .dataframe tbody tr th {\n",
       "        vertical-align: top;\n",
       "    }\n",
       "\n",
       "    .dataframe thead th {\n",
       "        text-align: right;\n",
       "    }\n",
       "</style>\n",
       "<table border=\"1\" class=\"dataframe\">\n",
       "  <thead>\n",
       "    <tr style=\"text-align: right;\">\n",
       "      <th></th>\n",
       "      <th>has_debt</th>\n",
       "      <th>total</th>\n",
       "      <th>% debt</th>\n",
       "      <th>% total</th>\n",
       "    </tr>\n",
       "    <tr>\n",
       "      <th>age</th>\n",
       "      <th></th>\n",
       "      <th></th>\n",
       "      <th></th>\n",
       "      <th></th>\n",
       "    </tr>\n",
       "  </thead>\n",
       "  <tbody>\n",
       "    <tr>\n",
       "      <th>19-25</th>\n",
       "      <td>136</td>\n",
       "      <td>1279</td>\n",
       "      <td>10.63</td>\n",
       "      <td>6.00</td>\n",
       "    </tr>\n",
       "    <tr>\n",
       "      <th>26-35</th>\n",
       "      <td>566</td>\n",
       "      <td>5339</td>\n",
       "      <td>10.60</td>\n",
       "      <td>25.03</td>\n",
       "    </tr>\n",
       "    <tr>\n",
       "      <th>36-45</th>\n",
       "      <td>464</td>\n",
       "      <td>5586</td>\n",
       "      <td>8.31</td>\n",
       "      <td>26.19</td>\n",
       "    </tr>\n",
       "    <tr>\n",
       "      <th>46-60</th>\n",
       "      <td>465</td>\n",
       "      <td>6994</td>\n",
       "      <td>6.65</td>\n",
       "      <td>32.79</td>\n",
       "    </tr>\n",
       "    <tr>\n",
       "      <th>&gt; 60</th>\n",
       "      <td>101</td>\n",
       "      <td>2132</td>\n",
       "      <td>4.74</td>\n",
       "      <td>10.00</td>\n",
       "    </tr>\n",
       "  </tbody>\n",
       "</table>\n",
       "</div>"
      ],
      "text/plain": [
       "       has_debt  total  % debt  % total\n",
       "age                                    \n",
       "19-25       136   1279   10.63     6.00\n",
       "26-35       566   5339   10.60    25.03\n",
       "36-45       464   5586    8.31    26.19\n",
       "46-60       465   6994    6.65    32.79\n",
       "> 60        101   2132    4.74    10.00"
      ]
     },
     "execution_count": 83,
     "metadata": {},
     "output_type": "execute_result"
    }
   ],
   "source": [
    "# формируем сводную таблицу по столбцу age\n",
    "# значения сводной таблицы берем из столбца debt\n",
    "# применяем функции sum, count, mean\n",
    "pivot_age = df.pivot_table(index=['age'], values='debt', aggfunc=['sum', 'count', 'mean'])\n",
    "\n",
    "# приводим значение среднего к процентам\n",
    "pivot_age['mean'] = (pivot_age['mean']*100).round(2)\n",
    "\n",
    "# переименовываем столбцы\n",
    "pivot_age.columns = ['has_debt', 'total', '% debt']\n",
    "\n",
    "pivot_age['% total'] = (pivot_age['total']/pivot_age['total'].sum()*100).round(2)\n",
    "\n",
    "# отсортируем данные по столбцу '%'\n",
    "pivot_age = pivot_age.sort_values(by='% debt', ascending=False)\n",
    "\n",
    "pivot_age"
   ]
  },
  {
   "cell_type": "markdown",
   "metadata": {},
   "source": [
    "**Вывод**"
   ]
  },
  {
   "cell_type": "markdown",
   "metadata": {},
   "source": [
    "Людии более старшего возраста (от 36 лет) в среднем реже имеют кредитную задолженность. Значит гипотеза подтвердилась."
   ]
  },
  {
   "cell_type": "markdown",
   "metadata": {},
   "source": [
    "- Есть ли зависимость между уровнем дохода и возвратом кредита в срок?"
   ]
  },
  {
   "cell_type": "code",
   "execution_count": 84,
   "metadata": {},
   "outputs": [
    {
     "data": {
      "text/html": [
       "<div>\n",
       "<style scoped>\n",
       "    .dataframe tbody tr th:only-of-type {\n",
       "        vertical-align: middle;\n",
       "    }\n",
       "\n",
       "    .dataframe tbody tr th {\n",
       "        vertical-align: top;\n",
       "    }\n",
       "\n",
       "    .dataframe thead th {\n",
       "        text-align: right;\n",
       "    }\n",
       "</style>\n",
       "<table border=\"1\" class=\"dataframe\">\n",
       "  <thead>\n",
       "    <tr style=\"text-align: right;\">\n",
       "      <th></th>\n",
       "      <th>has_debt</th>\n",
       "      <th>total</th>\n",
       "      <th>% debt</th>\n",
       "    </tr>\n",
       "    <tr>\n",
       "      <th>income</th>\n",
       "      <th></th>\n",
       "      <th></th>\n",
       "      <th></th>\n",
       "    </tr>\n",
       "  </thead>\n",
       "  <tbody>\n",
       "    <tr>\n",
       "      <th>средний</th>\n",
       "      <td>304</td>\n",
       "      <td>3487</td>\n",
       "      <td>8.72</td>\n",
       "    </tr>\n",
       "    <tr>\n",
       "      <th>ниже среднего</th>\n",
       "      <td>809</td>\n",
       "      <td>9717</td>\n",
       "      <td>8.33</td>\n",
       "    </tr>\n",
       "    <tr>\n",
       "      <th>выше среднего</th>\n",
       "      <td>619</td>\n",
       "      <td>8126</td>\n",
       "      <td>7.62</td>\n",
       "    </tr>\n",
       "  </tbody>\n",
       "</table>\n",
       "</div>"
      ],
      "text/plain": [
       "               has_debt  total  % debt\n",
       "income                                \n",
       "средний             304   3487    8.72\n",
       "ниже среднего       809   9717    8.33\n",
       "выше среднего       619   8126    7.62"
      ]
     },
     "execution_count": 84,
     "metadata": {},
     "output_type": "execute_result"
    }
   ],
   "source": [
    "# формируем сводную таблицу по столбцу income\n",
    "# значения сводной таблицы берем из столбца debt\n",
    "# применяем функции sum, count, mean\n",
    "pivot_income = df.pivot_table(index=['income'], values='debt', aggfunc=['sum', 'count', 'mean'])\n",
    "\n",
    "# приводим значение среднего к процентам\n",
    "pivot_income['mean'] = (pivot_income['mean']*100).round(2)\n",
    "\n",
    "# переименовываем столбцы\n",
    "pivot_income.columns = ['has_debt', 'total', '% debt']\n",
    "\n",
    "# отсортируем данные по столбцу '% debt'\n",
    "pivot_income = pivot_income.sort_values(by='% debt', ascending=False)\n",
    "\n",
    "pivot_income"
   ]
  },
  {
   "cell_type": "markdown",
   "metadata": {},
   "source": [
    "**Вывод**"
   ]
  },
  {
   "cell_type": "markdown",
   "metadata": {},
   "source": [
    "Люди, с уровем дохода выше среднего чаще возвращают кредит в срок."
   ]
  },
  {
   "cell_type": "markdown",
   "metadata": {},
   "source": [
    "- Как разные цели кредита влияют на его возврат в срок?"
   ]
  },
  {
   "cell_type": "code",
   "execution_count": 85,
   "metadata": {},
   "outputs": [
    {
     "data": {
      "text/html": [
       "<div>\n",
       "<style scoped>\n",
       "    .dataframe tbody tr th:only-of-type {\n",
       "        vertical-align: middle;\n",
       "    }\n",
       "\n",
       "    .dataframe tbody tr th {\n",
       "        vertical-align: top;\n",
       "    }\n",
       "\n",
       "    .dataframe thead th {\n",
       "        text-align: right;\n",
       "    }\n",
       "</style>\n",
       "<table border=\"1\" class=\"dataframe\">\n",
       "  <thead>\n",
       "    <tr style=\"text-align: right;\">\n",
       "      <th></th>\n",
       "      <th>has_debt</th>\n",
       "      <th>total</th>\n",
       "      <th>% debt</th>\n",
       "      <th>% total</th>\n",
       "    </tr>\n",
       "    <tr>\n",
       "      <th>lemmas_purpose</th>\n",
       "      <th></th>\n",
       "      <th></th>\n",
       "      <th></th>\n",
       "      <th></th>\n",
       "    </tr>\n",
       "  </thead>\n",
       "  <tbody>\n",
       "    <tr>\n",
       "      <th>автомобиль</th>\n",
       "      <td>400</td>\n",
       "      <td>4279</td>\n",
       "      <td>9.35</td>\n",
       "      <td>20.06</td>\n",
       "    </tr>\n",
       "    <tr>\n",
       "      <th>образование</th>\n",
       "      <td>369</td>\n",
       "      <td>3988</td>\n",
       "      <td>9.25</td>\n",
       "      <td>18.70</td>\n",
       "    </tr>\n",
       "    <tr>\n",
       "      <th>свадьба</th>\n",
       "      <td>183</td>\n",
       "      <td>2313</td>\n",
       "      <td>7.91</td>\n",
       "      <td>10.84</td>\n",
       "    </tr>\n",
       "    <tr>\n",
       "      <th>недвижимость</th>\n",
       "      <td>780</td>\n",
       "      <td>10750</td>\n",
       "      <td>7.26</td>\n",
       "      <td>50.40</td>\n",
       "    </tr>\n",
       "  </tbody>\n",
       "</table>\n",
       "</div>"
      ],
      "text/plain": [
       "                has_debt  total  % debt  % total\n",
       "lemmas_purpose                                  \n",
       "автомобиль           400   4279    9.35    20.06\n",
       "образование          369   3988    9.25    18.70\n",
       "свадьба              183   2313    7.91    10.84\n",
       "недвижимость         780  10750    7.26    50.40"
      ]
     },
     "execution_count": 85,
     "metadata": {},
     "output_type": "execute_result"
    }
   ],
   "source": [
    "# формируем сводную таблицу по столбцу purpose\n",
    "# значения сводной таблицы берем из столбца debt\n",
    "# применяем функции sum, count, mean\n",
    "pivot_lemmas_purpose = df.pivot_table(index=['lemmas_purpose'], values='debt', aggfunc=['sum', 'count', 'mean'])\n",
    "\n",
    "# приводим значение среднего к процентам\n",
    "pivot_lemmas_purpose['mean'] = (pivot_lemmas_purpose['mean']*100).round(2)\n",
    "\n",
    "# переименовываем столбцы\n",
    "pivot_lemmas_purpose.columns = ['has_debt', 'total', '% debt']\n",
    "pivot_lemmas_purpose['% total'] = (pivot_lemmas_purpose['total']/pivot_lemmas_purpose['total'].sum()*100).round(2)\n",
    "\n",
    "# отсортируем данные по столбцу '% debt'\n",
    "pivot_lemmas_purpose = pivot_lemmas_purpose.sort_values(by='% debt', ascending=False)\n",
    "\n",
    "pivot_lemmas_purpose"
   ]
  },
  {
   "cell_type": "markdown",
   "metadata": {},
   "source": [
    "**Вывод**"
   ]
  },
  {
   "cell_type": "markdown",
   "metadata": {},
   "source": [
    "Люди, берущие кредит на недвижимость - чаще возвращают его в срок. Кредиты на автомобиль имеют больше всего рисков."
   ]
  },
  {
   "cell_type": "markdown",
   "metadata": {},
   "source": [
    "- Как уровень образования влияет на возврат кредита в срок?"
   ]
  },
  {
   "cell_type": "code",
   "execution_count": 86,
   "metadata": {},
   "outputs": [
    {
     "data": {
      "text/html": [
       "<div>\n",
       "<style scoped>\n",
       "    .dataframe tbody tr th:only-of-type {\n",
       "        vertical-align: middle;\n",
       "    }\n",
       "\n",
       "    .dataframe tbody tr th {\n",
       "        vertical-align: top;\n",
       "    }\n",
       "\n",
       "    .dataframe thead th {\n",
       "        text-align: right;\n",
       "    }\n",
       "</style>\n",
       "<table border=\"1\" class=\"dataframe\">\n",
       "  <thead>\n",
       "    <tr style=\"text-align: right;\">\n",
       "      <th></th>\n",
       "      <th>has_debt</th>\n",
       "      <th>total</th>\n",
       "      <th>% debt</th>\n",
       "      <th>% total</th>\n",
       "    </tr>\n",
       "    <tr>\n",
       "      <th>education</th>\n",
       "      <th></th>\n",
       "      <th></th>\n",
       "      <th></th>\n",
       "      <th></th>\n",
       "    </tr>\n",
       "  </thead>\n",
       "  <tbody>\n",
       "    <tr>\n",
       "      <th>начальное</th>\n",
       "      <td>31</td>\n",
       "      <td>282</td>\n",
       "      <td>10.99</td>\n",
       "      <td>1.32</td>\n",
       "    </tr>\n",
       "    <tr>\n",
       "      <th>неоконченное высшее</th>\n",
       "      <td>68</td>\n",
       "      <td>740</td>\n",
       "      <td>9.19</td>\n",
       "      <td>3.47</td>\n",
       "    </tr>\n",
       "    <tr>\n",
       "      <th>среднее</th>\n",
       "      <td>1355</td>\n",
       "      <td>15075</td>\n",
       "      <td>8.99</td>\n",
       "      <td>70.68</td>\n",
       "    </tr>\n",
       "    <tr>\n",
       "      <th>высшее</th>\n",
       "      <td>278</td>\n",
       "      <td>5227</td>\n",
       "      <td>5.32</td>\n",
       "      <td>24.51</td>\n",
       "    </tr>\n",
       "    <tr>\n",
       "      <th>ученая степень</th>\n",
       "      <td>0</td>\n",
       "      <td>6</td>\n",
       "      <td>0.00</td>\n",
       "      <td>0.03</td>\n",
       "    </tr>\n",
       "  </tbody>\n",
       "</table>\n",
       "</div>"
      ],
      "text/plain": [
       "                     has_debt  total  % debt  % total\n",
       "education                                            \n",
       "начальное                  31    282   10.99     1.32\n",
       "неоконченное высшее        68    740    9.19     3.47\n",
       "среднее                  1355  15075    8.99    70.68\n",
       "высшее                    278   5227    5.32    24.51\n",
       "ученая степень              0      6    0.00     0.03"
      ]
     },
     "execution_count": 86,
     "metadata": {},
     "output_type": "execute_result"
    }
   ],
   "source": [
    "# формируем сводную таблицу по столбцу education\n",
    "# значения сводной таблицы берем из столбца debt\n",
    "# применяем функции sum, count, mean\n",
    "pivot_education = df.pivot_table(index=['education'], values='debt', aggfunc=['sum', 'count', 'mean'])\n",
    "\n",
    "# приводим значение среднего к процентам\n",
    "pivot_education['mean'] = (pivot_education['mean']*100).round(2)\n",
    "\n",
    "# переименовываем столбцы\n",
    "pivot_education.columns = ['has_debt', 'total', '% debt']\n",
    "pivot_education['% total'] = (pivot_education['total']/pivot_education['total'].sum()*100).round(2)\n",
    "\n",
    "# отсортируем данные по столбцу '% debt'\n",
    "pivot_education = pivot_education.sort_values(by='% debt', ascending=False)\n",
    "\n",
    "pivot_education"
   ]
  },
  {
   "cell_type": "markdown",
   "metadata": {},
   "source": [
    "**Вывод**"
   ]
  },
  {
   "cell_type": "markdown",
   "metadata": {},
   "source": [
    "Чем полнее у человека образования - тем больше вероятность возврата кредита в срок."
   ]
  },
  {
   "cell_type": "markdown",
   "metadata": {},
   "source": [
    "## Шаг 4. Общий вывод"
   ]
  },
  {
   "cell_type": "markdown",
   "metadata": {},
   "source": [
    "Для того, чтобы анализировать данные в таблице - мы их обработали, а именно:\n",
    "- В столбцах days_employed (общий трудовой стаж в днях) и total_income (ежемесячный доход) имелись пропущенные значения - мы заменили их на медианные значения по типу занятости;\n",
    "- Обнаружили, что в столбце days_employed - не все значения были проставлены в днях, имелись также значения и в часах. Добавили стобец years_employed, где привели все значения в корректную форму - трудовой стаж в годах;\n",
    "- Для более корректной дальнейшей работы с данными, перевели из вещественного типа в целочисленные следующие столбцы: days_employed, years_employed, total_income;\n",
    "- Данные столбца education перевели в нижний регистр, чтобы избежать задвоек;\n",
    "- Обнаружили в графе children аномальные значения: 20 и -1 ребенок, и, т.к. эти значения составляли 0,5% от выборки - удалили данные строки;\n",
    "- В столбце gender обнаружился пол XNA (1 строка), которые не относился ни к женскому, ни к мужскому - эту строку также удалили;\n",
    "- Избавились от дубликатов в таблице;\n",
    "- Выделили с помощью лемматизации 4 основные цели, на которые клиенты брали кредиты: недвижимость, свадьба, образование, автомобили;\n",
    "- Заполнили нулевые значения в графе с возрастом, как \"18 + 3 + стаж работы в годах\" и поделили возраст на категории: до 18 лет, 19-25 лет, 26-35 лет, 36 - 45 лет, 46 - 60 лет, >60 лет;\n",
    "- Распределили клиентов по 3 группам, в зависимости от уровня дохода.\n",
    "    "
   ]
  },
  {
   "cell_type": "markdown",
   "metadata": {},
   "source": [
    "После того, как даные были обработаны, мы проверили ряд гипотез и пришли к следующим выводам:\n",
    "- люди в разводе и вдовцы чаще возвращают кредит в срок, возможно это связано с возрастом, т.к.\n",
    "- люди старшего возраста (от 36 лет и более) более аккуратны при выполнении кредитных обязательств\n",
    "- бездетные люди чаще соблюдают кредитные обязательство, чем люди с детьми;\n",
    "- на недвижимость приходится 50% всех кредитов и выплачиваются они с наименьшими рисками, в отличает от кредитов на автомобили и образование.\n",
    "- уровень образования также влияет на вероятность возврата кредита в срок: чем образование полнее, чем больше вероятность.\n",
    "\n",
    "Таким образом, наиболее благоприятными клиентами являются лица старше 36 лет, с хорошим образование, которые берут кредит на недвижимость/свадьбу. Самая потенциально опасная группа - молодые люди, с начальным/средним/неоконченным высшим образованием, берущие кредит на автомобиль."
   ]
  }
 ],
 "metadata": {
  "ExecuteTimeLog": [
   {
    "duration": 1204,
    "start_time": "2021-12-07T18:01:39.648Z"
   },
   {
    "duration": 63,
    "start_time": "2021-12-07T18:01:47.007Z"
   },
   {
    "duration": 110,
    "start_time": "2021-12-07T18:03:20.137Z"
   },
   {
    "duration": 17,
    "start_time": "2021-12-07T18:13:35.131Z"
   },
   {
    "duration": 78,
    "start_time": "2021-12-07T18:39:29.463Z"
   },
   {
    "duration": 328,
    "start_time": "2021-12-07T18:58:16.005Z"
   },
   {
    "duration": 40,
    "start_time": "2021-12-07T19:08:29.912Z"
   },
   {
    "duration": 97,
    "start_time": "2021-12-08T11:14:56.711Z"
   },
   {
    "duration": 359,
    "start_time": "2021-12-08T11:15:03.639Z"
   },
   {
    "duration": 883,
    "start_time": "2021-12-08T11:15:26.509Z"
   },
   {
    "duration": 17,
    "start_time": "2021-12-08T11:15:30.619Z"
   },
   {
    "duration": 32,
    "start_time": "2021-12-08T11:15:33.684Z"
   },
   {
    "duration": 368,
    "start_time": "2021-12-08T11:15:36.075Z"
   },
   {
    "duration": 13,
    "start_time": "2021-12-08T11:15:53.795Z"
   },
   {
    "duration": 12,
    "start_time": "2021-12-08T11:16:42.590Z"
   },
   {
    "duration": 11,
    "start_time": "2021-12-08T11:17:09.469Z"
   },
   {
    "duration": 8,
    "start_time": "2021-12-08T11:23:25.494Z"
   },
   {
    "duration": 10,
    "start_time": "2021-12-08T11:23:29.371Z"
   },
   {
    "duration": 314,
    "start_time": "2021-12-08T11:23:38.143Z"
   },
   {
    "duration": 8,
    "start_time": "2021-12-08T11:23:43.414Z"
   },
   {
    "duration": 8,
    "start_time": "2021-12-08T11:24:35.953Z"
   },
   {
    "duration": 97,
    "start_time": "2021-12-08T11:24:50.896Z"
   },
   {
    "duration": 9,
    "start_time": "2021-12-08T11:24:55.801Z"
   },
   {
    "duration": 7,
    "start_time": "2021-12-08T11:26:46.140Z"
   },
   {
    "duration": 6,
    "start_time": "2021-12-08T11:26:47.787Z"
   },
   {
    "duration": 17,
    "start_time": "2021-12-08T11:46:08.561Z"
   },
   {
    "duration": 5,
    "start_time": "2021-12-08T11:54:04.525Z"
   },
   {
    "duration": 6,
    "start_time": "2021-12-08T11:54:16.933Z"
   },
   {
    "duration": 731,
    "start_time": "2021-12-08T11:57:37.043Z"
   },
   {
    "duration": 277,
    "start_time": "2021-12-08T11:58:33.540Z"
   },
   {
    "duration": 296,
    "start_time": "2021-12-08T11:58:54.589Z"
   },
   {
    "duration": 10,
    "start_time": "2021-12-08T11:59:21.110Z"
   },
   {
    "duration": 9,
    "start_time": "2021-12-08T11:59:32.213Z"
   },
   {
    "duration": 298,
    "start_time": "2021-12-08T11:59:50.605Z"
   },
   {
    "duration": 13,
    "start_time": "2021-12-08T12:00:03.088Z"
   },
   {
    "duration": 10,
    "start_time": "2021-12-08T12:02:37.962Z"
   },
   {
    "duration": 10,
    "start_time": "2021-12-08T12:02:44.658Z"
   },
   {
    "duration": 244,
    "start_time": "2021-12-08T12:07:45.875Z"
   },
   {
    "duration": 9,
    "start_time": "2021-12-08T12:07:49.444Z"
   },
   {
    "duration": 106,
    "start_time": "2021-12-08T12:12:07.313Z"
   },
   {
    "duration": 294,
    "start_time": "2021-12-08T12:12:14.096Z"
   },
   {
    "duration": 338,
    "start_time": "2021-12-08T12:12:25.625Z"
   },
   {
    "duration": 578,
    "start_time": "2021-12-08T12:13:36.650Z"
   },
   {
    "duration": 346,
    "start_time": "2021-12-08T12:15:01.270Z"
   },
   {
    "duration": 9,
    "start_time": "2021-12-08T12:15:37.389Z"
   },
   {
    "duration": 9,
    "start_time": "2021-12-08T12:15:45.797Z"
   },
   {
    "duration": 9,
    "start_time": "2021-12-08T12:15:51.789Z"
   },
   {
    "duration": 10,
    "start_time": "2021-12-08T12:15:58.461Z"
   },
   {
    "duration": 321,
    "start_time": "2021-12-08T12:16:40.630Z"
   },
   {
    "duration": 10,
    "start_time": "2021-12-08T12:16:49.519Z"
   },
   {
    "duration": 7,
    "start_time": "2021-12-08T12:17:16.839Z"
   },
   {
    "duration": 6,
    "start_time": "2021-12-08T12:17:33.648Z"
   },
   {
    "duration": 7,
    "start_time": "2021-12-08T12:18:54.746Z"
   },
   {
    "duration": 86,
    "start_time": "2021-12-08T12:19:27.026Z"
   },
   {
    "duration": 106,
    "start_time": "2021-12-08T12:19:39.227Z"
   },
   {
    "duration": 6,
    "start_time": "2021-12-08T12:19:48.004Z"
   },
   {
    "duration": 7,
    "start_time": "2021-12-08T12:20:17.668Z"
   },
   {
    "duration": 6,
    "start_time": "2021-12-08T12:20:27.181Z"
   },
   {
    "duration": 7,
    "start_time": "2021-12-08T12:21:26.366Z"
   },
   {
    "duration": 7,
    "start_time": "2021-12-08T12:21:42.759Z"
   },
   {
    "duration": 8,
    "start_time": "2021-12-08T12:22:05.855Z"
   },
   {
    "duration": 7,
    "start_time": "2021-12-08T12:22:13.879Z"
   },
   {
    "duration": 8,
    "start_time": "2021-12-08T12:22:24.695Z"
   },
   {
    "duration": 27,
    "start_time": "2021-12-08T12:22:40.791Z"
   },
   {
    "duration": 697,
    "start_time": "2021-12-08T12:23:29.185Z"
   },
   {
    "duration": 29,
    "start_time": "2021-12-08T12:24:10.169Z"
   },
   {
    "duration": 702,
    "start_time": "2021-12-08T12:24:56.452Z"
   },
   {
    "duration": 24,
    "start_time": "2021-12-08T12:27:47.744Z"
   },
   {
    "duration": 31,
    "start_time": "2021-12-08T12:28:03.544Z"
   },
   {
    "duration": 29,
    "start_time": "2021-12-08T12:31:26.069Z"
   },
   {
    "duration": 64,
    "start_time": "2021-12-08T12:32:16.831Z"
   },
   {
    "duration": 54,
    "start_time": "2021-12-08T12:32:54.304Z"
   },
   {
    "duration": 84,
    "start_time": "2021-12-08T12:34:23.554Z"
   },
   {
    "duration": 55,
    "start_time": "2021-12-08T12:35:16.347Z"
   },
   {
    "duration": 60,
    "start_time": "2021-12-08T12:35:45.765Z"
   },
   {
    "duration": 19,
    "start_time": "2021-12-08T12:36:34.548Z"
   },
   {
    "duration": 3837,
    "start_time": "2021-12-08T12:36:37.277Z"
   },
   {
    "duration": 55,
    "start_time": "2021-12-08T12:36:50.735Z"
   },
   {
    "duration": 84,
    "start_time": "2021-12-08T12:37:22.855Z"
   },
   {
    "duration": 7449,
    "start_time": "2021-12-08T12:38:48.834Z"
   },
   {
    "duration": 56,
    "start_time": "2021-12-08T12:39:09.530Z"
   },
   {
    "duration": 31,
    "start_time": "2021-12-08T12:40:42.747Z"
   },
   {
    "duration": 105,
    "start_time": "2021-12-08T12:48:08.367Z"
   },
   {
    "duration": 67,
    "start_time": "2021-12-08T12:48:16.902Z"
   },
   {
    "duration": 65,
    "start_time": "2021-12-08T12:48:47.704Z"
   },
   {
    "duration": 70,
    "start_time": "2021-12-08T12:49:07.039Z"
   },
   {
    "duration": 72,
    "start_time": "2021-12-08T12:51:09.754Z"
   },
   {
    "duration": 71,
    "start_time": "2021-12-08T12:57:35.246Z"
   },
   {
    "duration": 70,
    "start_time": "2021-12-08T12:58:09.094Z"
   },
   {
    "duration": 57,
    "start_time": "2021-12-08T12:59:08.703Z"
   },
   {
    "duration": 51,
    "start_time": "2021-12-08T13:00:24.377Z"
   },
   {
    "duration": 78,
    "start_time": "2021-12-08T13:00:35.258Z"
   },
   {
    "duration": 48,
    "start_time": "2021-12-08T13:01:03.923Z"
   },
   {
    "duration": 43,
    "start_time": "2021-12-08T13:01:32.787Z"
   },
   {
    "duration": 40,
    "start_time": "2021-12-08T13:01:36.307Z"
   },
   {
    "duration": 41,
    "start_time": "2021-12-08T13:01:48.251Z"
   },
   {
    "duration": 40,
    "start_time": "2021-12-08T13:02:53.422Z"
   },
   {
    "duration": 42,
    "start_time": "2021-12-08T13:03:00.116Z"
   },
   {
    "duration": 40,
    "start_time": "2021-12-08T13:04:03.127Z"
   },
   {
    "duration": 42,
    "start_time": "2021-12-08T13:05:15.025Z"
   },
   {
    "duration": 42,
    "start_time": "2021-12-08T13:06:09.130Z"
   },
   {
    "duration": 40,
    "start_time": "2021-12-08T13:07:16.820Z"
   },
   {
    "duration": 61,
    "start_time": "2021-12-08T13:07:29.043Z"
   },
   {
    "duration": 40,
    "start_time": "2021-12-08T13:07:49.005Z"
   },
   {
    "duration": 44,
    "start_time": "2021-12-08T13:07:57.228Z"
   },
   {
    "duration": 42,
    "start_time": "2021-12-08T13:08:02.332Z"
   },
   {
    "duration": 42,
    "start_time": "2021-12-08T13:09:26.423Z"
   },
   {
    "duration": 41,
    "start_time": "2021-12-08T13:09:31.103Z"
   },
   {
    "duration": 45,
    "start_time": "2021-12-08T13:10:18.673Z"
   },
   {
    "duration": 46,
    "start_time": "2021-12-08T13:11:03.178Z"
   },
   {
    "duration": 40,
    "start_time": "2021-12-08T13:12:32.172Z"
   },
   {
    "duration": 40,
    "start_time": "2021-12-08T13:13:49.374Z"
   },
   {
    "duration": 57,
    "start_time": "2021-12-08T13:14:41.914Z"
   },
   {
    "duration": 60,
    "start_time": "2021-12-08T13:42:10.051Z"
   },
   {
    "duration": 58,
    "start_time": "2021-12-08T13:45:21.688Z"
   },
   {
    "duration": 56,
    "start_time": "2021-12-08T13:46:02.177Z"
   },
   {
    "duration": 66,
    "start_time": "2021-12-08T13:46:44.658Z"
   },
   {
    "duration": 70,
    "start_time": "2021-12-08T13:47:22.115Z"
   },
   {
    "duration": 64,
    "start_time": "2021-12-08T13:47:34.035Z"
   },
   {
    "duration": 74,
    "start_time": "2021-12-08T13:47:45.923Z"
   },
   {
    "duration": 35,
    "start_time": "2021-12-08T13:47:53.980Z"
   },
   {
    "duration": 7,
    "start_time": "2021-12-08T13:47:56.811Z"
   },
   {
    "duration": 4,
    "start_time": "2021-12-08T13:48:00.451Z"
   },
   {
    "duration": 20,
    "start_time": "2021-12-08T13:48:02.659Z"
   },
   {
    "duration": 105,
    "start_time": "2021-12-08T13:48:05.044Z"
   },
   {
    "duration": 62,
    "start_time": "2021-12-08T13:48:13.332Z"
   },
   {
    "duration": 58,
    "start_time": "2021-12-08T13:48:20.644Z"
   },
   {
    "duration": 63,
    "start_time": "2021-12-08T13:48:37.229Z"
   },
   {
    "duration": 8,
    "start_time": "2021-12-08T13:48:56.692Z"
   },
   {
    "duration": 4,
    "start_time": "2021-12-08T13:48:58.164Z"
   },
   {
    "duration": 21,
    "start_time": "2021-12-08T13:49:00.437Z"
   },
   {
    "duration": 67,
    "start_time": "2021-12-08T13:49:04.997Z"
   },
   {
    "duration": 60,
    "start_time": "2021-12-08T13:49:08.861Z"
   },
   {
    "duration": 64,
    "start_time": "2021-12-08T13:49:35.374Z"
   },
   {
    "duration": 59,
    "start_time": "2021-12-08T13:49:41.214Z"
   },
   {
    "duration": 31,
    "start_time": "2021-12-08T13:53:42.556Z"
   },
   {
    "duration": 646,
    "start_time": "2021-12-08T18:14:29.872Z"
   },
   {
    "duration": 11,
    "start_time": "2021-12-08T18:14:30.520Z"
   },
   {
    "duration": 21,
    "start_time": "2021-12-08T18:14:30.533Z"
   },
   {
    "duration": 5,
    "start_time": "2021-12-08T18:14:30.556Z"
   },
   {
    "duration": 29,
    "start_time": "2021-12-08T18:14:30.562Z"
   },
   {
    "duration": 13,
    "start_time": "2021-12-08T18:14:30.593Z"
   },
   {
    "duration": 42,
    "start_time": "2021-12-08T18:14:30.608Z"
   },
   {
    "duration": 3,
    "start_time": "2021-12-08T18:25:16.319Z"
   },
   {
    "duration": 6,
    "start_time": "2021-12-08T18:25:27.879Z"
   },
   {
    "duration": 7,
    "start_time": "2021-12-08T18:29:49.381Z"
   },
   {
    "duration": 6,
    "start_time": "2021-12-08T18:29:59.642Z"
   },
   {
    "duration": 62,
    "start_time": "2021-12-08T18:31:01.116Z"
   },
   {
    "duration": 7,
    "start_time": "2021-12-08T18:31:04.252Z"
   },
   {
    "duration": 6,
    "start_time": "2021-12-08T18:31:30.440Z"
   },
   {
    "duration": 6,
    "start_time": "2021-12-08T18:31:43.927Z"
   },
   {
    "duration": 8,
    "start_time": "2021-12-08T18:32:24.076Z"
   },
   {
    "duration": 57,
    "start_time": "2021-12-08T18:33:49.744Z"
   },
   {
    "duration": 6,
    "start_time": "2021-12-08T18:35:21.392Z"
   },
   {
    "duration": 260,
    "start_time": "2021-12-08T18:37:16.974Z"
   },
   {
    "duration": 508,
    "start_time": "2021-12-08T18:38:19.965Z"
   },
   {
    "duration": 6,
    "start_time": "2021-12-08T18:39:35.596Z"
   },
   {
    "duration": 6,
    "start_time": "2021-12-08T18:39:43.715Z"
   },
   {
    "duration": 1306,
    "start_time": "2021-12-08T18:41:39.256Z"
   },
   {
    "duration": 196,
    "start_time": "2021-12-08T18:43:02.697Z"
   },
   {
    "duration": 7,
    "start_time": "2021-12-08T18:43:16.959Z"
   },
   {
    "duration": 7,
    "start_time": "2021-12-08T18:43:20.167Z"
   },
   {
    "duration": 10,
    "start_time": "2021-12-08T18:43:37.592Z"
   },
   {
    "duration": 10,
    "start_time": "2021-12-08T18:43:55.272Z"
   },
   {
    "duration": 179,
    "start_time": "2021-12-08T18:44:21.390Z"
   },
   {
    "duration": 202,
    "start_time": "2021-12-08T18:45:01.305Z"
   },
   {
    "duration": 11,
    "start_time": "2021-12-08T18:45:04.752Z"
   },
   {
    "duration": 11,
    "start_time": "2021-12-08T18:46:28.206Z"
   },
   {
    "duration": 12,
    "start_time": "2021-12-08T18:46:31.912Z"
   },
   {
    "duration": 176,
    "start_time": "2021-12-08T19:00:05.875Z"
   },
   {
    "duration": 64,
    "start_time": "2021-12-08T19:00:51.047Z"
   },
   {
    "duration": 180,
    "start_time": "2021-12-08T19:00:56.968Z"
   },
   {
    "duration": 11,
    "start_time": "2021-12-08T19:03:09.430Z"
   },
   {
    "duration": 9,
    "start_time": "2021-12-08T19:04:17.333Z"
   },
   {
    "duration": 8,
    "start_time": "2021-12-08T19:05:20.596Z"
   },
   {
    "duration": 62,
    "start_time": "2021-12-08T19:06:12.280Z"
   },
   {
    "duration": 10,
    "start_time": "2021-12-08T19:06:12.344Z"
   },
   {
    "duration": 40,
    "start_time": "2021-12-08T19:06:12.356Z"
   },
   {
    "duration": 5,
    "start_time": "2021-12-08T19:06:12.398Z"
   },
   {
    "duration": 5,
    "start_time": "2021-12-08T19:06:12.404Z"
   },
   {
    "duration": 14,
    "start_time": "2021-12-08T19:06:12.411Z"
   },
   {
    "duration": 71,
    "start_time": "2021-12-08T19:06:12.427Z"
   },
   {
    "duration": 7,
    "start_time": "2021-12-08T19:06:12.501Z"
   },
   {
    "duration": 9,
    "start_time": "2021-12-08T19:06:12.510Z"
   },
   {
    "duration": 5,
    "start_time": "2021-12-08T19:07:40.499Z"
   },
   {
    "duration": 7,
    "start_time": "2021-12-08T19:09:28.617Z"
   },
   {
    "duration": 8,
    "start_time": "2021-12-08T19:11:04.750Z"
   },
   {
    "duration": 9,
    "start_time": "2021-12-08T19:11:18.242Z"
   },
   {
    "duration": 8,
    "start_time": "2021-12-08T19:11:45.780Z"
   },
   {
    "duration": 8,
    "start_time": "2021-12-08T19:12:03.884Z"
   },
   {
    "duration": 182,
    "start_time": "2021-12-08T19:25:00.360Z"
   },
   {
    "duration": 62,
    "start_time": "2021-12-08T19:25:15.581Z"
   },
   {
    "duration": 12,
    "start_time": "2021-12-08T19:25:23.642Z"
   },
   {
    "duration": 52,
    "start_time": "2021-12-08T19:27:47.409Z"
   },
   {
    "duration": 16,
    "start_time": "2021-12-08T19:28:48.379Z"
   },
   {
    "duration": 42,
    "start_time": "2021-12-08T19:30:47.862Z"
   },
   {
    "duration": 10,
    "start_time": "2021-12-08T19:30:51.612Z"
   },
   {
    "duration": 910,
    "start_time": "2021-12-11T10:04:31.063Z"
   },
   {
    "duration": 18,
    "start_time": "2021-12-11T10:04:31.975Z"
   },
   {
    "duration": 52,
    "start_time": "2021-12-11T10:04:31.997Z"
   },
   {
    "duration": 22,
    "start_time": "2021-12-11T10:04:32.052Z"
   },
   {
    "duration": 13,
    "start_time": "2021-12-11T10:04:32.076Z"
   },
   {
    "duration": 37,
    "start_time": "2021-12-11T10:04:32.092Z"
   },
   {
    "duration": 85,
    "start_time": "2021-12-11T10:04:32.131Z"
   },
   {
    "duration": 16,
    "start_time": "2021-12-11T10:04:32.218Z"
   },
   {
    "duration": 44,
    "start_time": "2021-12-11T10:04:32.237Z"
   },
   {
    "duration": 83,
    "start_time": "2021-12-11T10:04:32.283Z"
   },
   {
    "duration": 14,
    "start_time": "2021-12-11T10:04:32.368Z"
   },
   {
    "duration": 9,
    "start_time": "2021-12-11T10:23:36.806Z"
   },
   {
    "duration": 13,
    "start_time": "2021-12-11T10:24:00.233Z"
   },
   {
    "duration": 13,
    "start_time": "2021-12-11T10:24:07.582Z"
   },
   {
    "duration": 26,
    "start_time": "2021-12-11T10:42:06.337Z"
   },
   {
    "duration": 54,
    "start_time": "2021-12-11T10:43:00.812Z"
   },
   {
    "duration": 24,
    "start_time": "2021-12-11T10:44:39.019Z"
   },
   {
    "duration": 47,
    "start_time": "2021-12-11T10:51:04.863Z"
   },
   {
    "duration": 42,
    "start_time": "2021-12-11T10:51:35.770Z"
   },
   {
    "duration": 398,
    "start_time": "2021-12-11T10:55:48.583Z"
   },
   {
    "duration": 12,
    "start_time": "2021-12-11T10:57:07.198Z"
   },
   {
    "duration": 500,
    "start_time": "2021-12-11T10:59:26.390Z"
   },
   {
    "duration": 311,
    "start_time": "2021-12-11T10:59:38.492Z"
   },
   {
    "duration": 18,
    "start_time": "2021-12-11T11:00:31.416Z"
   },
   {
    "duration": 27,
    "start_time": "2021-12-11T11:00:41.819Z"
   },
   {
    "duration": 10,
    "start_time": "2021-12-11T11:02:08.650Z"
   },
   {
    "duration": 20,
    "start_time": "2021-12-11T11:03:12.842Z"
   },
   {
    "duration": 11,
    "start_time": "2021-12-11T11:04:06.713Z"
   },
   {
    "duration": 11,
    "start_time": "2021-12-11T11:04:38.470Z"
   },
   {
    "duration": 12,
    "start_time": "2021-12-11T11:06:00.440Z"
   },
   {
    "duration": 11,
    "start_time": "2021-12-11T11:06:07.262Z"
   },
   {
    "duration": 25,
    "start_time": "2021-12-11T11:09:31.890Z"
   },
   {
    "duration": 24,
    "start_time": "2021-12-11T11:11:50.797Z"
   },
   {
    "duration": 334,
    "start_time": "2021-12-11T11:14:42.829Z"
   },
   {
    "duration": 42,
    "start_time": "2021-12-11T11:15:13.066Z"
   },
   {
    "duration": 43,
    "start_time": "2021-12-11T11:15:19.332Z"
   },
   {
    "duration": 44,
    "start_time": "2021-12-11T11:15:29.997Z"
   },
   {
    "duration": 10,
    "start_time": "2021-12-11T11:38:41.551Z"
   },
   {
    "duration": 298,
    "start_time": "2021-12-11T11:39:24.180Z"
   },
   {
    "duration": 11,
    "start_time": "2021-12-11T11:41:02.445Z"
   },
   {
    "duration": 8,
    "start_time": "2021-12-11T11:41:23.702Z"
   },
   {
    "duration": 275,
    "start_time": "2021-12-11T11:41:38.724Z"
   },
   {
    "duration": 8,
    "start_time": "2021-12-11T11:41:45.485Z"
   },
   {
    "duration": 6,
    "start_time": "2021-12-11T11:42:01.929Z"
   },
   {
    "duration": 8,
    "start_time": "2021-12-11T11:42:08.067Z"
   },
   {
    "duration": 305,
    "start_time": "2021-12-11T11:42:37.648Z"
   },
   {
    "duration": 8,
    "start_time": "2021-12-11T11:42:46.569Z"
   },
   {
    "duration": 8,
    "start_time": "2021-12-11T11:42:53.557Z"
   },
   {
    "duration": 16,
    "start_time": "2021-12-11T11:43:21.482Z"
   },
   {
    "duration": 13,
    "start_time": "2021-12-11T11:43:29.199Z"
   },
   {
    "duration": 8,
    "start_time": "2021-12-11T11:44:31.090Z"
   },
   {
    "duration": 938,
    "start_time": "2021-12-11T11:51:36.096Z"
   },
   {
    "duration": 954,
    "start_time": "2021-12-11T11:51:45.351Z"
   },
   {
    "duration": 950,
    "start_time": "2021-12-11T11:52:50.127Z"
   },
   {
    "duration": 940,
    "start_time": "2021-12-11T11:55:04.850Z"
   },
   {
    "duration": 54,
    "start_time": "2021-12-11T12:08:52.240Z"
   },
   {
    "duration": 5,
    "start_time": "2021-12-11T12:35:52.965Z"
   },
   {
    "duration": 95,
    "start_time": "2021-12-11T12:36:18.633Z"
   },
   {
    "duration": 9,
    "start_time": "2021-12-11T12:36:26.363Z"
   },
   {
    "duration": 8,
    "start_time": "2021-12-11T12:36:57.576Z"
   },
   {
    "duration": 168,
    "start_time": "2021-12-11T12:37:35.276Z"
   },
   {
    "duration": 8,
    "start_time": "2021-12-11T12:37:38.824Z"
   },
   {
    "duration": 3640,
    "start_time": "2021-12-11T12:39:06.983Z"
   },
   {
    "duration": 3794,
    "start_time": "2021-12-11T12:39:17.474Z"
   },
   {
    "duration": 3851,
    "start_time": "2021-12-11T12:39:39.122Z"
   },
   {
    "duration": 8,
    "start_time": "2021-12-11T12:40:45.600Z"
   },
   {
    "duration": 3914,
    "start_time": "2021-12-11T12:41:45.934Z"
   },
   {
    "duration": 3777,
    "start_time": "2021-12-11T12:41:57.073Z"
   },
   {
    "duration": 3695,
    "start_time": "2021-12-11T13:03:48.900Z"
   },
   {
    "duration": 3702,
    "start_time": "2021-12-11T13:04:07.368Z"
   },
   {
    "duration": 3681,
    "start_time": "2021-12-11T13:04:17.048Z"
   },
   {
    "duration": 3678,
    "start_time": "2021-12-11T13:04:41.212Z"
   },
   {
    "duration": 4007,
    "start_time": "2021-12-11T13:05:09.998Z"
   },
   {
    "duration": 3929,
    "start_time": "2021-12-11T13:05:48.269Z"
   },
   {
    "duration": 106,
    "start_time": "2021-12-11T13:06:08.327Z"
   },
   {
    "duration": 121,
    "start_time": "2021-12-11T13:06:26.950Z"
   },
   {
    "duration": 141,
    "start_time": "2021-12-11T13:06:39.616Z"
   },
   {
    "duration": 3727,
    "start_time": "2021-12-11T13:06:44.092Z"
   },
   {
    "duration": 3813,
    "start_time": "2021-12-11T13:06:57.400Z"
   },
   {
    "duration": 8,
    "start_time": "2021-12-11T14:39:10.898Z"
   },
   {
    "duration": 9,
    "start_time": "2021-12-11T14:46:24.586Z"
   },
   {
    "duration": 29,
    "start_time": "2021-12-11T14:51:02.719Z"
   },
   {
    "duration": 26,
    "start_time": "2021-12-11T14:51:07.702Z"
   },
   {
    "duration": 51,
    "start_time": "2021-12-11T14:51:19.505Z"
   },
   {
    "duration": 52,
    "start_time": "2021-12-11T14:54:30.234Z"
   },
   {
    "duration": 10,
    "start_time": "2021-12-11T14:55:06.610Z"
   },
   {
    "duration": 9,
    "start_time": "2021-12-11T14:55:22.158Z"
   },
   {
    "duration": 58,
    "start_time": "2021-12-11T14:55:23.232Z"
   },
   {
    "duration": 10,
    "start_time": "2021-12-11T14:55:24.770Z"
   },
   {
    "duration": 52,
    "start_time": "2021-12-11T14:55:33.991Z"
   },
   {
    "duration": 9,
    "start_time": "2021-12-11T14:55:34.357Z"
   },
   {
    "duration": 62,
    "start_time": "2021-12-11T14:55:44.434Z"
   },
   {
    "duration": 8,
    "start_time": "2021-12-11T14:55:48.623Z"
   },
   {
    "duration": 21,
    "start_time": "2021-12-11T15:01:40.306Z"
   },
   {
    "duration": 321,
    "start_time": "2021-12-11T15:02:56.369Z"
   },
   {
    "duration": 67,
    "start_time": "2021-12-11T15:03:03.202Z"
   },
   {
    "duration": 80,
    "start_time": "2021-12-11T15:04:52.412Z"
   },
   {
    "duration": 9,
    "start_time": "2021-12-11T15:05:31.728Z"
   },
   {
    "duration": 13,
    "start_time": "2021-12-11T15:05:48.682Z"
   },
   {
    "duration": 74,
    "start_time": "2021-12-11T15:06:32.471Z"
   },
   {
    "duration": 28,
    "start_time": "2021-12-11T15:06:32.547Z"
   },
   {
    "duration": 43,
    "start_time": "2021-12-11T15:06:32.578Z"
   },
   {
    "duration": 7,
    "start_time": "2021-12-11T15:06:32.624Z"
   },
   {
    "duration": 33,
    "start_time": "2021-12-11T15:06:32.634Z"
   },
   {
    "duration": 32,
    "start_time": "2021-12-11T15:06:32.670Z"
   },
   {
    "duration": 89,
    "start_time": "2021-12-11T15:06:32.704Z"
   },
   {
    "duration": 9,
    "start_time": "2021-12-11T15:06:32.796Z"
   },
   {
    "duration": 15,
    "start_time": "2021-12-11T15:06:32.808Z"
   },
   {
    "duration": 99,
    "start_time": "2021-12-11T15:06:32.825Z"
   },
   {
    "duration": 15,
    "start_time": "2021-12-11T15:06:32.927Z"
   },
   {
    "duration": 27,
    "start_time": "2021-12-11T15:06:32.944Z"
   },
   {
    "duration": 40,
    "start_time": "2021-12-11T15:06:32.974Z"
   },
   {
    "duration": 53,
    "start_time": "2021-12-11T15:06:33.016Z"
   },
   {
    "duration": 10,
    "start_time": "2021-12-11T15:06:33.071Z"
   },
   {
    "duration": 33,
    "start_time": "2021-12-11T15:06:33.084Z"
   },
   {
    "duration": 31,
    "start_time": "2021-12-11T15:06:33.119Z"
   },
   {
    "duration": 38,
    "start_time": "2021-12-11T15:06:33.153Z"
   },
   {
    "duration": 47,
    "start_time": "2021-12-11T15:06:33.193Z"
   },
   {
    "duration": 42,
    "start_time": "2021-12-11T15:06:33.242Z"
   },
   {
    "duration": 38,
    "start_time": "2021-12-11T15:06:33.287Z"
   },
   {
    "duration": 61,
    "start_time": "2021-12-11T15:06:33.327Z"
   },
   {
    "duration": 964,
    "start_time": "2021-12-11T15:06:33.392Z"
   },
   {
    "duration": 13,
    "start_time": "2021-12-11T15:06:34.359Z"
   },
   {
    "duration": 3804,
    "start_time": "2021-12-11T15:06:34.374Z"
   },
   {
    "duration": 8,
    "start_time": "2021-12-11T15:06:38.181Z"
   },
   {
    "duration": 86,
    "start_time": "2021-12-11T15:06:38.191Z"
   },
   {
    "duration": 19,
    "start_time": "2021-12-11T15:06:38.279Z"
   },
   {
    "duration": 15,
    "start_time": "2021-12-11T15:06:38.301Z"
   },
   {
    "duration": 19,
    "start_time": "2021-12-11T15:07:19.352Z"
   },
   {
    "duration": 16,
    "start_time": "2021-12-11T15:07:22.533Z"
   },
   {
    "duration": 80,
    "start_time": "2021-12-11T15:07:29.739Z"
   },
   {
    "duration": 15,
    "start_time": "2021-12-11T15:07:29.821Z"
   },
   {
    "duration": 38,
    "start_time": "2021-12-11T15:07:29.867Z"
   },
   {
    "duration": 7,
    "start_time": "2021-12-11T15:07:29.908Z"
   },
   {
    "duration": 26,
    "start_time": "2021-12-11T15:07:29.917Z"
   },
   {
    "duration": 40,
    "start_time": "2021-12-11T15:07:29.945Z"
   },
   {
    "duration": 88,
    "start_time": "2021-12-11T15:07:29.988Z"
   },
   {
    "duration": 10,
    "start_time": "2021-12-11T15:07:30.080Z"
   },
   {
    "duration": 41,
    "start_time": "2021-12-11T15:07:30.093Z"
   },
   {
    "duration": 78,
    "start_time": "2021-12-11T15:07:30.137Z"
   },
   {
    "duration": 15,
    "start_time": "2021-12-11T15:07:30.218Z"
   },
   {
    "duration": 37,
    "start_time": "2021-12-11T15:07:30.236Z"
   },
   {
    "duration": 41,
    "start_time": "2021-12-11T15:07:30.276Z"
   },
   {
    "duration": 53,
    "start_time": "2021-12-11T15:07:30.319Z"
   },
   {
    "duration": 10,
    "start_time": "2021-12-11T15:07:30.375Z"
   },
   {
    "duration": 40,
    "start_time": "2021-12-11T15:07:30.387Z"
   },
   {
    "duration": 28,
    "start_time": "2021-12-11T15:07:30.429Z"
   },
   {
    "duration": 21,
    "start_time": "2021-12-11T15:07:30.459Z"
   },
   {
    "duration": 29,
    "start_time": "2021-12-11T15:07:30.482Z"
   },
   {
    "duration": 41,
    "start_time": "2021-12-11T15:07:30.514Z"
   },
   {
    "duration": 51,
    "start_time": "2021-12-11T15:07:30.557Z"
   },
   {
    "duration": 49,
    "start_time": "2021-12-11T15:07:30.611Z"
   },
   {
    "duration": 961,
    "start_time": "2021-12-11T15:07:30.666Z"
   },
   {
    "duration": 8,
    "start_time": "2021-12-11T15:07:31.630Z"
   },
   {
    "duration": 3805,
    "start_time": "2021-12-11T15:07:31.641Z"
   },
   {
    "duration": 23,
    "start_time": "2021-12-11T15:07:35.449Z"
   },
   {
    "duration": 43,
    "start_time": "2021-12-11T15:07:35.474Z"
   },
   {
    "duration": 23,
    "start_time": "2021-12-11T15:07:35.519Z"
   },
   {
    "duration": 29,
    "start_time": "2021-12-11T15:07:35.545Z"
   },
   {
    "duration": 24,
    "start_time": "2021-12-11T15:08:00.146Z"
   },
   {
    "duration": 16,
    "start_time": "2021-12-11T15:08:03.914Z"
   },
   {
    "duration": 15,
    "start_time": "2021-12-11T15:08:09.263Z"
   },
   {
    "duration": 16,
    "start_time": "2021-12-11T15:08:46.187Z"
   },
   {
    "duration": 15,
    "start_time": "2021-12-11T15:11:14.042Z"
   },
   {
    "duration": 130,
    "start_time": "2021-12-11T15:12:10.255Z"
   },
   {
    "duration": 10,
    "start_time": "2021-12-11T15:13:25.902Z"
   },
   {
    "duration": 12,
    "start_time": "2021-12-11T15:13:42.720Z"
   },
   {
    "duration": 103,
    "start_time": "2021-12-11T15:15:43.374Z"
   },
   {
    "duration": 8358,
    "start_time": "2021-12-11T15:17:38.876Z"
   },
   {
    "duration": 10,
    "start_time": "2021-12-11T15:18:15.616Z"
   },
   {
    "duration": 7,
    "start_time": "2021-12-11T15:18:46.288Z"
   },
   {
    "duration": 6,
    "start_time": "2021-12-11T15:18:46.815Z"
   },
   {
    "duration": 8,
    "start_time": "2021-12-11T15:18:47.217Z"
   },
   {
    "duration": 6,
    "start_time": "2021-12-11T15:18:47.577Z"
   },
   {
    "duration": 9,
    "start_time": "2021-12-11T15:19:36.270Z"
   },
   {
    "duration": 7,
    "start_time": "2021-12-11T15:19:36.695Z"
   },
   {
    "duration": 7,
    "start_time": "2021-12-11T15:19:37.101Z"
   },
   {
    "duration": 6,
    "start_time": "2021-12-11T15:19:37.522Z"
   },
   {
    "duration": 5,
    "start_time": "2021-12-11T15:20:37.993Z"
   },
   {
    "duration": 21,
    "start_time": "2021-12-11T15:23:33.108Z"
   },
   {
    "duration": 28,
    "start_time": "2021-12-11T15:23:56.996Z"
   },
   {
    "duration": 21,
    "start_time": "2021-12-11T15:34:00.406Z"
   },
   {
    "duration": 351,
    "start_time": "2021-12-11T15:34:28.477Z"
   },
   {
    "duration": 28,
    "start_time": "2021-12-11T15:34:33.292Z"
   },
   {
    "duration": 24,
    "start_time": "2021-12-11T15:35:36.708Z"
   },
   {
    "duration": 11,
    "start_time": "2021-12-11T15:49:14.072Z"
   },
   {
    "duration": 23,
    "start_time": "2021-12-11T15:50:41.459Z"
   },
   {
    "duration": 30,
    "start_time": "2021-12-11T15:50:47.867Z"
   },
   {
    "duration": 23,
    "start_time": "2021-12-11T15:51:13.428Z"
   },
   {
    "duration": 24,
    "start_time": "2021-12-11T16:06:24.108Z"
   },
   {
    "duration": 24,
    "start_time": "2021-12-11T16:06:34.795Z"
   },
   {
    "duration": 50,
    "start_time": "2021-12-11T16:07:41.328Z"
   },
   {
    "duration": 56,
    "start_time": "2021-12-11T16:09:44.455Z"
   },
   {
    "duration": 56,
    "start_time": "2021-12-11T16:14:36.076Z"
   },
   {
    "duration": 61,
    "start_time": "2021-12-11T16:14:49.031Z"
   },
   {
    "duration": 114,
    "start_time": "2021-12-11T16:15:57.847Z"
   },
   {
    "duration": 63,
    "start_time": "2021-12-11T16:16:07.515Z"
   },
   {
    "duration": 66,
    "start_time": "2021-12-11T16:16:28.092Z"
   },
   {
    "duration": 79,
    "start_time": "2021-12-11T16:20:33.933Z"
   },
   {
    "duration": 15,
    "start_time": "2021-12-11T16:20:34.014Z"
   },
   {
    "duration": 66,
    "start_time": "2021-12-11T16:20:34.031Z"
   },
   {
    "duration": 11,
    "start_time": "2021-12-11T16:20:34.101Z"
   },
   {
    "duration": 8,
    "start_time": "2021-12-11T16:20:34.114Z"
   },
   {
    "duration": 66,
    "start_time": "2021-12-11T16:20:34.124Z"
   },
   {
    "duration": 77,
    "start_time": "2021-12-11T16:20:34.192Z"
   },
   {
    "duration": 11,
    "start_time": "2021-12-11T16:20:34.274Z"
   },
   {
    "duration": 14,
    "start_time": "2021-12-11T16:20:34.289Z"
   },
   {
    "duration": 110,
    "start_time": "2021-12-11T16:20:34.305Z"
   },
   {
    "duration": 15,
    "start_time": "2021-12-11T16:20:34.418Z"
   },
   {
    "duration": 37,
    "start_time": "2021-12-11T16:20:34.436Z"
   },
   {
    "duration": 26,
    "start_time": "2021-12-11T16:20:34.476Z"
   },
   {
    "duration": 68,
    "start_time": "2021-12-11T16:20:34.505Z"
   },
   {
    "duration": 10,
    "start_time": "2021-12-11T16:20:34.575Z"
   },
   {
    "duration": 15,
    "start_time": "2021-12-11T16:20:34.588Z"
   },
   {
    "duration": 15,
    "start_time": "2021-12-11T16:20:34.606Z"
   },
   {
    "duration": 48,
    "start_time": "2021-12-11T16:20:34.624Z"
   },
   {
    "duration": 13,
    "start_time": "2021-12-11T16:20:34.675Z"
   },
   {
    "duration": 27,
    "start_time": "2021-12-11T16:20:34.691Z"
   },
   {
    "duration": 60,
    "start_time": "2021-12-11T16:20:34.720Z"
   },
   {
    "duration": 46,
    "start_time": "2021-12-11T16:20:34.783Z"
   },
   {
    "duration": 979,
    "start_time": "2021-12-11T16:20:34.834Z"
   },
   {
    "duration": 8,
    "start_time": "2021-12-11T16:20:35.816Z"
   },
   {
    "duration": 3683,
    "start_time": "2021-12-11T16:20:35.826Z"
   },
   {
    "duration": 10,
    "start_time": "2021-12-11T16:20:39.512Z"
   },
   {
    "duration": 56,
    "start_time": "2021-12-11T16:20:39.526Z"
   },
   {
    "duration": 21,
    "start_time": "2021-12-11T16:20:39.585Z"
   },
   {
    "duration": 18,
    "start_time": "2021-12-11T16:20:39.609Z"
   },
   {
    "duration": 76,
    "start_time": "2021-12-11T16:20:39.629Z"
   },
   {
    "duration": 23,
    "start_time": "2021-12-11T16:20:39.708Z"
   },
   {
    "duration": 97,
    "start_time": "2021-12-11T16:20:39.734Z"
   },
   {
    "duration": 59,
    "start_time": "2021-12-11T16:21:06.988Z"
   },
   {
    "duration": 59,
    "start_time": "2021-12-11T16:21:18.560Z"
   },
   {
    "duration": 210,
    "start_time": "2021-12-11T16:21:29.589Z"
   },
   {
    "duration": 56,
    "start_time": "2021-12-11T16:21:37.865Z"
   },
   {
    "duration": 57,
    "start_time": "2021-12-11T16:32:18.555Z"
   },
   {
    "duration": 56,
    "start_time": "2021-12-11T16:32:42.038Z"
   },
   {
    "duration": 60,
    "start_time": "2021-12-11T16:32:45.097Z"
   },
   {
    "duration": 52,
    "start_time": "2021-12-11T16:42:21.673Z"
   },
   {
    "duration": 51,
    "start_time": "2021-12-11T16:43:51.223Z"
   },
   {
    "duration": 53,
    "start_time": "2021-12-11T16:49:00.423Z"
   },
   {
    "duration": 56,
    "start_time": "2021-12-11T16:49:06.084Z"
   },
   {
    "duration": 848,
    "start_time": "2021-12-11T16:49:16.988Z"
   },
   {
    "duration": 56,
    "start_time": "2021-12-11T16:49:20.890Z"
   },
   {
    "duration": 349,
    "start_time": "2021-12-11T16:49:37.915Z"
   },
   {
    "duration": 57,
    "start_time": "2021-12-11T16:50:00.175Z"
   },
   {
    "duration": 9,
    "start_time": "2021-12-11T16:52:42.058Z"
   },
   {
    "duration": 6,
    "start_time": "2021-12-11T16:53:49.977Z"
   },
   {
    "duration": 99,
    "start_time": "2021-12-11T16:54:34.226Z"
   },
   {
    "duration": 8,
    "start_time": "2021-12-11T16:54:34.568Z"
   },
   {
    "duration": 6,
    "start_time": "2021-12-11T16:54:40.939Z"
   },
   {
    "duration": 41,
    "start_time": "2021-12-11T16:55:03.456Z"
   },
   {
    "duration": 12,
    "start_time": "2021-12-11T16:59:34.902Z"
   },
   {
    "duration": 10,
    "start_time": "2021-12-11T16:59:53.971Z"
   },
   {
    "duration": 10,
    "start_time": "2021-12-11T17:00:00.501Z"
   },
   {
    "duration": 9,
    "start_time": "2021-12-11T17:00:35.033Z"
   },
   {
    "duration": 25,
    "start_time": "2021-12-11T17:05:29.317Z"
   },
   {
    "duration": 18,
    "start_time": "2021-12-11T17:05:45.488Z"
   },
   {
    "duration": 25,
    "start_time": "2021-12-11T17:06:03.168Z"
   },
   {
    "duration": 8,
    "start_time": "2021-12-11T17:08:21.153Z"
   },
   {
    "duration": 377,
    "start_time": "2021-12-11T17:09:29.647Z"
   },
   {
    "duration": 55,
    "start_time": "2021-12-11T17:09:38.035Z"
   },
   {
    "duration": 55,
    "start_time": "2021-12-11T17:10:38.844Z"
   },
   {
    "duration": 95,
    "start_time": "2021-12-11T17:10:58.193Z"
   },
   {
    "duration": 7848,
    "start_time": "2021-12-11T17:13:49.096Z"
   },
   {
    "duration": 2039,
    "start_time": "2021-12-11T17:14:30.655Z"
   },
   {
    "duration": 330,
    "start_time": "2021-12-11T17:16:01.851Z"
   },
   {
    "duration": 330,
    "start_time": "2021-12-11T17:16:05.793Z"
   },
   {
    "duration": 48,
    "start_time": "2021-12-11T17:16:29.643Z"
   },
   {
    "duration": 53,
    "start_time": "2021-12-11T17:16:41.989Z"
   },
   {
    "duration": 56,
    "start_time": "2021-12-11T17:17:01.591Z"
   },
   {
    "duration": 53,
    "start_time": "2021-12-11T17:19:10.748Z"
   },
   {
    "duration": 128,
    "start_time": "2021-12-11T17:25:57.742Z"
   },
   {
    "duration": 1290,
    "start_time": "2021-12-11T17:26:06.334Z"
   },
   {
    "duration": 1286,
    "start_time": "2021-12-11T17:26:26.920Z"
   },
   {
    "duration": 354,
    "start_time": "2021-12-11T17:26:44.162Z"
   },
   {
    "duration": 84,
    "start_time": "2021-12-11T17:26:54.646Z"
   },
   {
    "duration": 7552,
    "start_time": "2021-12-11T17:27:49.486Z"
   },
   {
    "duration": 32,
    "start_time": "2021-12-11T17:28:09.157Z"
   },
   {
    "duration": 44,
    "start_time": "2021-12-11T17:29:11.250Z"
   },
   {
    "duration": 105,
    "start_time": "2021-12-11T17:32:47.481Z"
   },
   {
    "duration": 74,
    "start_time": "2021-12-11T17:32:52.425Z"
   },
   {
    "duration": 76,
    "start_time": "2021-12-11T17:33:14.901Z"
   },
   {
    "duration": 80,
    "start_time": "2021-12-11T17:37:15.994Z"
   },
   {
    "duration": 14,
    "start_time": "2021-12-11T17:37:16.077Z"
   },
   {
    "duration": 76,
    "start_time": "2021-12-11T17:37:16.094Z"
   },
   {
    "duration": 8,
    "start_time": "2021-12-11T17:37:16.173Z"
   },
   {
    "duration": 8,
    "start_time": "2021-12-11T17:37:16.184Z"
   },
   {
    "duration": 22,
    "start_time": "2021-12-11T17:37:16.195Z"
   },
   {
    "duration": 112,
    "start_time": "2021-12-11T17:37:16.219Z"
   },
   {
    "duration": 10,
    "start_time": "2021-12-11T17:37:16.335Z"
   },
   {
    "duration": 14,
    "start_time": "2021-12-11T17:37:16.369Z"
   },
   {
    "duration": 92,
    "start_time": "2021-12-11T17:37:16.385Z"
   },
   {
    "duration": 15,
    "start_time": "2021-12-11T17:37:16.479Z"
   },
   {
    "duration": 11,
    "start_time": "2021-12-11T17:37:16.496Z"
   },
   {
    "duration": 25,
    "start_time": "2021-12-11T17:37:16.509Z"
   },
   {
    "duration": 39,
    "start_time": "2021-12-11T17:37:16.568Z"
   },
   {
    "duration": 9,
    "start_time": "2021-12-11T17:37:16.610Z"
   },
   {
    "duration": 49,
    "start_time": "2021-12-11T17:37:16.622Z"
   },
   {
    "duration": 13,
    "start_time": "2021-12-11T17:37:16.674Z"
   },
   {
    "duration": 18,
    "start_time": "2021-12-11T17:37:16.690Z"
   },
   {
    "duration": 14,
    "start_time": "2021-12-11T17:37:16.711Z"
   },
   {
    "duration": 60,
    "start_time": "2021-12-11T17:37:16.728Z"
   },
   {
    "duration": 26,
    "start_time": "2021-12-11T17:37:16.791Z"
   },
   {
    "duration": 74,
    "start_time": "2021-12-11T17:37:16.819Z"
   },
   {
    "duration": 959,
    "start_time": "2021-12-11T17:37:16.898Z"
   },
   {
    "duration": 13,
    "start_time": "2021-12-11T17:37:17.860Z"
   },
   {
    "duration": 3744,
    "start_time": "2021-12-11T17:37:17.876Z"
   },
   {
    "duration": 7,
    "start_time": "2021-12-11T17:37:21.623Z"
   },
   {
    "duration": 53,
    "start_time": "2021-12-11T17:37:21.633Z"
   },
   {
    "duration": 19,
    "start_time": "2021-12-11T17:37:21.689Z"
   },
   {
    "duration": 16,
    "start_time": "2021-12-11T17:37:21.711Z"
   },
   {
    "duration": 64,
    "start_time": "2021-12-11T17:37:21.730Z"
   },
   {
    "duration": 7,
    "start_time": "2021-12-11T17:37:21.796Z"
   },
   {
    "duration": 19,
    "start_time": "2021-12-11T17:37:21.805Z"
   },
   {
    "duration": 42,
    "start_time": "2021-12-11T17:37:21.827Z"
   },
   {
    "duration": 26,
    "start_time": "2021-12-11T17:37:21.871Z"
   },
   {
    "duration": 87,
    "start_time": "2021-12-11T17:37:21.899Z"
   },
   {
    "duration": 54,
    "start_time": "2021-12-11T17:37:21.989Z"
   },
   {
    "duration": 70,
    "start_time": "2021-12-11T17:37:22.046Z"
   },
   {
    "duration": 72,
    "start_time": "2021-12-11T17:37:22.118Z"
   },
   {
    "duration": 50,
    "start_time": "2021-12-11T17:37:22.193Z"
   },
   {
    "duration": 56,
    "start_time": "2021-12-11T17:43:06.783Z"
   },
   {
    "duration": 60,
    "start_time": "2021-12-11T17:45:32.384Z"
   },
   {
    "duration": 51,
    "start_time": "2021-12-11T17:46:29.810Z"
   },
   {
    "duration": 88,
    "start_time": "2021-12-11T17:48:26.720Z"
   },
   {
    "duration": 64,
    "start_time": "2021-12-11T17:49:21.648Z"
   },
   {
    "duration": 81,
    "start_time": "2021-12-11T17:50:13.772Z"
   },
   {
    "duration": 108,
    "start_time": "2021-12-11T17:50:26.427Z"
   },
   {
    "duration": 641,
    "start_time": "2021-12-12T07:40:59.278Z"
   },
   {
    "duration": 10,
    "start_time": "2021-12-12T07:40:59.921Z"
   },
   {
    "duration": 18,
    "start_time": "2021-12-12T07:40:59.933Z"
   },
   {
    "duration": 13,
    "start_time": "2021-12-12T07:40:59.953Z"
   },
   {
    "duration": 7,
    "start_time": "2021-12-12T07:40:59.968Z"
   },
   {
    "duration": 15,
    "start_time": "2021-12-12T07:40:59.977Z"
   },
   {
    "duration": 41,
    "start_time": "2021-12-12T07:40:59.993Z"
   },
   {
    "duration": 28,
    "start_time": "2021-12-12T07:41:00.037Z"
   },
   {
    "duration": 8,
    "start_time": "2021-12-12T07:41:00.067Z"
   },
   {
    "duration": 50,
    "start_time": "2021-12-12T07:41:00.077Z"
   },
   {
    "duration": 10,
    "start_time": "2021-12-12T07:41:00.129Z"
   },
   {
    "duration": 34,
    "start_time": "2021-12-12T07:41:00.140Z"
   },
   {
    "duration": 28,
    "start_time": "2021-12-12T07:41:00.176Z"
   },
   {
    "duration": 27,
    "start_time": "2021-12-12T07:41:00.206Z"
   },
   {
    "duration": 7,
    "start_time": "2021-12-12T07:41:00.235Z"
   },
   {
    "duration": 22,
    "start_time": "2021-12-12T07:41:00.244Z"
   },
   {
    "duration": 8,
    "start_time": "2021-12-12T07:41:00.268Z"
   },
   {
    "duration": 31,
    "start_time": "2021-12-12T07:41:00.277Z"
   },
   {
    "duration": 23,
    "start_time": "2021-12-12T07:41:00.309Z"
   },
   {
    "duration": 38,
    "start_time": "2021-12-12T07:41:00.333Z"
   },
   {
    "duration": 25,
    "start_time": "2021-12-12T07:41:00.373Z"
   },
   {
    "duration": 31,
    "start_time": "2021-12-12T07:41:00.400Z"
   },
   {
    "duration": 648,
    "start_time": "2021-12-12T07:41:00.434Z"
   },
   {
    "duration": 6,
    "start_time": "2021-12-12T07:41:01.084Z"
   },
   {
    "duration": 2843,
    "start_time": "2021-12-12T07:41:01.091Z"
   },
   {
    "duration": 7,
    "start_time": "2021-12-12T07:41:03.936Z"
   },
   {
    "duration": 45,
    "start_time": "2021-12-12T07:41:03.945Z"
   },
   {
    "duration": 20,
    "start_time": "2021-12-12T07:41:03.992Z"
   },
   {
    "duration": 15,
    "start_time": "2021-12-12T07:41:04.014Z"
   },
   {
    "duration": 61,
    "start_time": "2021-12-12T07:41:04.030Z"
   },
   {
    "duration": 5,
    "start_time": "2021-12-12T07:41:04.093Z"
   },
   {
    "duration": 13,
    "start_time": "2021-12-12T07:41:04.100Z"
   },
   {
    "duration": 15,
    "start_time": "2021-12-12T07:41:04.115Z"
   },
   {
    "duration": 39,
    "start_time": "2021-12-12T07:41:04.132Z"
   },
   {
    "duration": 56,
    "start_time": "2021-12-12T07:41:04.173Z"
   },
   {
    "duration": 70,
    "start_time": "2021-12-12T07:41:04.231Z"
   },
   {
    "duration": 46,
    "start_time": "2021-12-12T07:41:04.303Z"
   },
   {
    "duration": 55,
    "start_time": "2021-12-12T07:41:04.351Z"
   },
   {
    "duration": 60,
    "start_time": "2021-12-12T07:41:04.408Z"
   },
   {
    "duration": 32,
    "start_time": "2021-12-12T07:41:04.470Z"
   },
   {
    "duration": 100,
    "start_time": "2021-12-13T18:07:51.125Z"
   },
   {
    "duration": 329,
    "start_time": "2021-12-13T18:19:01.397Z"
   },
   {
    "duration": 807,
    "start_time": "2021-12-13T18:19:06.234Z"
   },
   {
    "duration": 15,
    "start_time": "2021-12-13T18:19:07.044Z"
   },
   {
    "duration": 31,
    "start_time": "2021-12-13T18:19:07.062Z"
   },
   {
    "duration": 31,
    "start_time": "2021-12-13T18:19:07.096Z"
   },
   {
    "duration": 5,
    "start_time": "2021-12-13T18:19:07.130Z"
   },
   {
    "duration": 22,
    "start_time": "2021-12-13T18:19:07.137Z"
   },
   {
    "duration": 94,
    "start_time": "2021-12-13T18:19:07.161Z"
   },
   {
    "duration": 14,
    "start_time": "2021-12-13T18:19:07.259Z"
   },
   {
    "duration": 12,
    "start_time": "2021-12-13T18:19:07.275Z"
   },
   {
    "duration": 85,
    "start_time": "2021-12-13T18:19:07.289Z"
   },
   {
    "duration": 13,
    "start_time": "2021-12-13T18:19:07.376Z"
   },
   {
    "duration": 34,
    "start_time": "2021-12-13T18:19:07.392Z"
   },
   {
    "duration": 27,
    "start_time": "2021-12-13T18:19:07.428Z"
   },
   {
    "duration": 36,
    "start_time": "2021-12-13T18:19:07.458Z"
   },
   {
    "duration": 32,
    "start_time": "2021-12-13T18:19:07.497Z"
   },
   {
    "duration": 12,
    "start_time": "2021-12-13T18:19:07.532Z"
   },
   {
    "duration": 9,
    "start_time": "2021-12-13T18:19:07.547Z"
   },
   {
    "duration": 10,
    "start_time": "2021-12-13T18:19:07.558Z"
   },
   {
    "duration": 13,
    "start_time": "2021-12-13T18:19:07.570Z"
   },
   {
    "duration": 53,
    "start_time": "2021-12-13T18:19:07.585Z"
   },
   {
    "duration": 22,
    "start_time": "2021-12-13T18:19:07.640Z"
   },
   {
    "duration": 24,
    "start_time": "2021-12-13T18:19:07.665Z"
   },
   {
    "duration": 42,
    "start_time": "2021-12-13T18:19:07.725Z"
   },
   {
    "duration": 880,
    "start_time": "2021-12-13T18:19:07.770Z"
   },
   {
    "duration": 8,
    "start_time": "2021-12-13T18:19:08.652Z"
   },
   {
    "duration": 3860,
    "start_time": "2021-12-13T18:19:08.663Z"
   },
   {
    "duration": 8,
    "start_time": "2021-12-13T18:19:12.525Z"
   },
   {
    "duration": 29,
    "start_time": "2021-12-13T18:19:12.535Z"
   },
   {
    "duration": 18,
    "start_time": "2021-12-13T18:19:12.566Z"
   },
   {
    "duration": 46,
    "start_time": "2021-12-13T18:19:12.586Z"
   },
   {
    "duration": 34,
    "start_time": "2021-12-13T18:19:12.635Z"
   },
   {
    "duration": 5,
    "start_time": "2021-12-13T18:19:12.672Z"
   },
   {
    "duration": 47,
    "start_time": "2021-12-13T18:19:12.679Z"
   },
   {
    "duration": 15,
    "start_time": "2021-12-13T18:19:12.728Z"
   },
   {
    "duration": 33,
    "start_time": "2021-12-13T18:19:12.745Z"
   },
   {
    "duration": 74,
    "start_time": "2021-12-13T18:19:12.780Z"
   },
   {
    "duration": 49,
    "start_time": "2021-12-13T18:19:12.856Z"
   },
   {
    "duration": 46,
    "start_time": "2021-12-13T18:19:12.924Z"
   },
   {
    "duration": 72,
    "start_time": "2021-12-13T18:19:12.973Z"
   },
   {
    "duration": 52,
    "start_time": "2021-12-13T18:19:13.047Z"
   },
   {
    "duration": 72,
    "start_time": "2021-12-13T18:19:13.102Z"
   },
   {
    "duration": 400,
    "start_time": "2021-12-13T18:19:51.809Z"
   },
   {
    "duration": 283,
    "start_time": "2021-12-13T18:20:44.270Z"
   },
   {
    "duration": 297,
    "start_time": "2021-12-13T18:29:46.339Z"
   },
   {
    "duration": 275,
    "start_time": "2021-12-13T18:30:14.935Z"
   },
   {
    "duration": 297,
    "start_time": "2021-12-13T18:30:27.763Z"
   },
   {
    "duration": 286,
    "start_time": "2021-12-13T18:30:45.786Z"
   },
   {
    "duration": 270,
    "start_time": "2021-12-13T18:31:34.515Z"
   },
   {
    "duration": 317,
    "start_time": "2021-12-13T18:31:47.959Z"
   },
   {
    "duration": 329,
    "start_time": "2021-12-13T18:31:54.718Z"
   },
   {
    "duration": 74,
    "start_time": "2021-12-13T18:32:13.348Z"
   },
   {
    "duration": 14,
    "start_time": "2021-12-13T18:32:13.424Z"
   },
   {
    "duration": 35,
    "start_time": "2021-12-13T18:32:13.441Z"
   },
   {
    "duration": 7,
    "start_time": "2021-12-13T18:32:13.478Z"
   },
   {
    "duration": 4,
    "start_time": "2021-12-13T18:32:13.524Z"
   },
   {
    "duration": 22,
    "start_time": "2021-12-13T18:32:13.530Z"
   },
   {
    "duration": 96,
    "start_time": "2021-12-13T18:32:13.555Z"
   },
   {
    "duration": 9,
    "start_time": "2021-12-13T18:32:13.656Z"
   },
   {
    "duration": 16,
    "start_time": "2021-12-13T18:32:13.668Z"
   },
   {
    "duration": 101,
    "start_time": "2021-12-13T18:32:13.686Z"
   },
   {
    "duration": 37,
    "start_time": "2021-12-13T18:32:13.790Z"
   },
   {
    "duration": 12,
    "start_time": "2021-12-13T18:32:13.830Z"
   },
   {
    "duration": 30,
    "start_time": "2021-12-13T18:32:13.844Z"
   },
   {
    "duration": 64,
    "start_time": "2021-12-13T18:32:13.877Z"
   },
   {
    "duration": 10,
    "start_time": "2021-12-13T18:32:13.944Z"
   },
   {
    "duration": 19,
    "start_time": "2021-12-13T18:32:13.957Z"
   },
   {
    "duration": 18,
    "start_time": "2021-12-13T18:32:13.979Z"
   },
   {
    "duration": 31,
    "start_time": "2021-12-13T18:32:14.000Z"
   },
   {
    "duration": 27,
    "start_time": "2021-12-13T18:32:14.034Z"
   },
   {
    "duration": 23,
    "start_time": "2021-12-13T18:32:14.064Z"
   },
   {
    "duration": 31,
    "start_time": "2021-12-13T18:32:14.089Z"
   },
   {
    "duration": 36,
    "start_time": "2021-12-13T18:32:14.124Z"
   },
   {
    "duration": 39,
    "start_time": "2021-12-13T18:32:14.165Z"
   },
   {
    "duration": 925,
    "start_time": "2021-12-13T18:32:14.207Z"
   },
   {
    "duration": 8,
    "start_time": "2021-12-13T18:32:15.136Z"
   },
   {
    "duration": 3846,
    "start_time": "2021-12-13T18:32:15.147Z"
   },
   {
    "duration": 8,
    "start_time": "2021-12-13T18:32:18.995Z"
   },
   {
    "duration": 26,
    "start_time": "2021-12-13T18:32:19.024Z"
   },
   {
    "duration": 17,
    "start_time": "2021-12-13T18:32:19.052Z"
   },
   {
    "duration": 16,
    "start_time": "2021-12-13T18:32:19.073Z"
   },
   {
    "duration": 110,
    "start_time": "2021-12-13T18:32:19.123Z"
   },
   {
    "duration": 5,
    "start_time": "2021-12-13T18:32:19.236Z"
   },
   {
    "duration": 12,
    "start_time": "2021-12-13T18:32:19.244Z"
   },
   {
    "duration": 16,
    "start_time": "2021-12-13T18:32:19.258Z"
   },
   {
    "duration": 55,
    "start_time": "2021-12-13T18:32:19.276Z"
   },
   {
    "duration": 60,
    "start_time": "2021-12-13T18:32:19.333Z"
   },
   {
    "duration": 67,
    "start_time": "2021-12-13T18:32:19.396Z"
   },
   {
    "duration": 70,
    "start_time": "2021-12-13T18:32:19.465Z"
   },
   {
    "duration": 51,
    "start_time": "2021-12-13T18:32:19.537Z"
   },
   {
    "duration": 67,
    "start_time": "2021-12-13T18:32:19.591Z"
   },
   {
    "duration": 63,
    "start_time": "2021-12-13T18:32:19.661Z"
   },
   {
    "duration": 29,
    "start_time": "2021-12-13T18:35:06.392Z"
   },
   {
    "duration": 14,
    "start_time": "2021-12-13T18:35:45.790Z"
   },
   {
    "duration": 12,
    "start_time": "2021-12-13T18:35:53.850Z"
   },
   {
    "duration": 8,
    "start_time": "2021-12-13T18:36:40.797Z"
   },
   {
    "duration": 82,
    "start_time": "2021-12-13T18:39:31.031Z"
   },
   {
    "duration": 14,
    "start_time": "2021-12-13T18:39:31.124Z"
   },
   {
    "duration": 126,
    "start_time": "2021-12-13T18:39:31.142Z"
   },
   {
    "duration": 7,
    "start_time": "2021-12-13T18:39:31.271Z"
   },
   {
    "duration": 11,
    "start_time": "2021-12-13T18:39:31.281Z"
   },
   {
    "duration": 46,
    "start_time": "2021-12-13T18:39:31.295Z"
   },
   {
    "duration": 63,
    "start_time": "2021-12-13T18:39:31.343Z"
   },
   {
    "duration": 9,
    "start_time": "2021-12-13T18:39:31.424Z"
   },
   {
    "duration": 28,
    "start_time": "2021-12-13T18:39:31.436Z"
   },
   {
    "duration": 78,
    "start_time": "2021-12-13T18:39:31.467Z"
   },
   {
    "duration": 17,
    "start_time": "2021-12-13T18:39:31.548Z"
   },
   {
    "duration": 21,
    "start_time": "2021-12-13T18:39:31.567Z"
   },
   {
    "duration": 46,
    "start_time": "2021-12-13T18:39:31.590Z"
   },
   {
    "duration": 42,
    "start_time": "2021-12-13T18:39:31.638Z"
   },
   {
    "duration": 9,
    "start_time": "2021-12-13T18:39:31.683Z"
   },
   {
    "duration": 34,
    "start_time": "2021-12-13T18:39:31.695Z"
   },
   {
    "duration": 22,
    "start_time": "2021-12-13T18:39:31.731Z"
   },
   {
    "duration": 27,
    "start_time": "2021-12-13T18:39:31.756Z"
   },
   {
    "duration": 47,
    "start_time": "2021-12-13T18:39:31.785Z"
   },
   {
    "duration": 29,
    "start_time": "2021-12-13T18:39:31.834Z"
   },
   {
    "duration": 15,
    "start_time": "2021-12-13T18:39:31.865Z"
   },
   {
    "duration": 25,
    "start_time": "2021-12-13T18:39:31.883Z"
   },
   {
    "duration": 24,
    "start_time": "2021-12-13T18:39:31.913Z"
   },
   {
    "duration": 40,
    "start_time": "2021-12-13T18:39:31.940Z"
   },
   {
    "duration": 48,
    "start_time": "2021-12-13T18:39:31.983Z"
   },
   {
    "duration": 911,
    "start_time": "2021-12-13T18:39:32.033Z"
   },
   {
    "duration": 8,
    "start_time": "2021-12-13T18:39:32.946Z"
   },
   {
    "duration": 4009,
    "start_time": "2021-12-13T18:39:32.956Z"
   },
   {
    "duration": 26,
    "start_time": "2021-12-13T18:39:36.968Z"
   },
   {
    "duration": 40,
    "start_time": "2021-12-13T18:39:36.996Z"
   },
   {
    "duration": 32,
    "start_time": "2021-12-13T18:39:37.039Z"
   },
   {
    "duration": 53,
    "start_time": "2021-12-13T18:39:37.074Z"
   },
   {
    "duration": 8,
    "start_time": "2021-12-13T18:39:37.130Z"
   },
   {
    "duration": 39,
    "start_time": "2021-12-13T18:39:37.141Z"
   },
   {
    "duration": 133,
    "start_time": "2021-12-13T18:39:37.185Z"
   },
   {
    "duration": 66,
    "start_time": "2021-12-13T18:39:37.321Z"
   },
   {
    "duration": 66,
    "start_time": "2021-12-13T18:39:37.389Z"
   },
   {
    "duration": 50,
    "start_time": "2021-12-13T18:39:37.457Z"
   },
   {
    "duration": 60,
    "start_time": "2021-12-13T18:39:37.509Z"
   },
   {
    "duration": 66,
    "start_time": "2021-12-13T18:39:37.572Z"
   },
   {
    "duration": 49,
    "start_time": "2021-12-13T18:39:37.641Z"
   },
   {
    "duration": 69,
    "start_time": "2021-12-13T18:39:37.692Z"
   },
   {
    "duration": 9,
    "start_time": "2021-12-13T18:41:21.719Z"
   },
   {
    "duration": 12,
    "start_time": "2021-12-13T18:41:36.134Z"
   },
   {
    "duration": 9,
    "start_time": "2021-12-13T18:41:51.368Z"
   },
   {
    "duration": 88,
    "start_time": "2021-12-13T18:41:54.882Z"
   },
   {
    "duration": 18,
    "start_time": "2021-12-13T18:41:54.973Z"
   },
   {
    "duration": 53,
    "start_time": "2021-12-13T18:41:54.994Z"
   },
   {
    "duration": 9,
    "start_time": "2021-12-13T18:41:55.050Z"
   },
   {
    "duration": 22,
    "start_time": "2021-12-13T18:41:55.062Z"
   },
   {
    "duration": 60,
    "start_time": "2021-12-13T18:41:55.087Z"
   },
   {
    "duration": 100,
    "start_time": "2021-12-13T18:41:55.150Z"
   },
   {
    "duration": 12,
    "start_time": "2021-12-13T18:41:55.256Z"
   },
   {
    "duration": 14,
    "start_time": "2021-12-13T18:41:55.271Z"
   },
   {
    "duration": 103,
    "start_time": "2021-12-13T18:41:55.288Z"
   },
   {
    "duration": 38,
    "start_time": "2021-12-13T18:41:55.394Z"
   },
   {
    "duration": 12,
    "start_time": "2021-12-13T18:41:55.435Z"
   },
   {
    "duration": 29,
    "start_time": "2021-12-13T18:41:55.450Z"
   },
   {
    "duration": 81,
    "start_time": "2021-12-13T18:41:55.482Z"
   },
   {
    "duration": 11,
    "start_time": "2021-12-13T18:41:55.567Z"
   },
   {
    "duration": 36,
    "start_time": "2021-12-13T18:41:55.581Z"
   },
   {
    "duration": 36,
    "start_time": "2021-12-13T18:41:55.619Z"
   },
   {
    "duration": 20,
    "start_time": "2021-12-13T18:41:55.657Z"
   },
   {
    "duration": 23,
    "start_time": "2021-12-13T18:41:55.681Z"
   },
   {
    "duration": 17,
    "start_time": "2021-12-13T18:41:55.706Z"
   },
   {
    "duration": 12,
    "start_time": "2021-12-13T18:41:55.725Z"
   },
   {
    "duration": 21,
    "start_time": "2021-12-13T18:41:55.740Z"
   },
   {
    "duration": 22,
    "start_time": "2021-12-13T18:41:55.766Z"
   },
   {
    "duration": 36,
    "start_time": "2021-12-13T18:41:55.791Z"
   },
   {
    "duration": 23,
    "start_time": "2021-12-13T18:41:55.829Z"
   },
   {
    "duration": 70,
    "start_time": "2021-12-13T18:41:55.854Z"
   },
   {
    "duration": 1067,
    "start_time": "2021-12-13T18:41:55.926Z"
   },
   {
    "duration": 9,
    "start_time": "2021-12-13T18:41:56.997Z"
   },
   {
    "duration": 4576,
    "start_time": "2021-12-13T18:41:57.025Z"
   },
   {
    "duration": 45,
    "start_time": "2021-12-13T18:42:01.603Z"
   },
   {
    "duration": 19,
    "start_time": "2021-12-13T18:42:01.651Z"
   },
   {
    "duration": 21,
    "start_time": "2021-12-13T18:42:01.673Z"
   },
   {
    "duration": 37,
    "start_time": "2021-12-13T18:42:01.724Z"
   },
   {
    "duration": 7,
    "start_time": "2021-12-13T18:42:01.764Z"
   },
   {
    "duration": 50,
    "start_time": "2021-12-13T18:42:01.774Z"
   },
   {
    "duration": 18,
    "start_time": "2021-12-13T18:42:01.827Z"
   },
   {
    "duration": 25,
    "start_time": "2021-12-13T18:42:01.849Z"
   },
   {
    "duration": 87,
    "start_time": "2021-12-13T18:42:01.877Z"
   },
   {
    "duration": 70,
    "start_time": "2021-12-13T18:42:01.968Z"
   },
   {
    "duration": 56,
    "start_time": "2021-12-13T18:42:02.040Z"
   },
   {
    "duration": 69,
    "start_time": "2021-12-13T18:42:02.098Z"
   },
   {
    "duration": 65,
    "start_time": "2021-12-13T18:42:02.169Z"
   },
   {
    "duration": 50,
    "start_time": "2021-12-13T18:42:02.237Z"
   },
   {
    "duration": 9,
    "start_time": "2021-12-13T18:42:43.739Z"
   },
   {
    "duration": 88,
    "start_time": "2021-12-13T18:42:47.337Z"
   },
   {
    "duration": 187,
    "start_time": "2021-12-13T18:42:47.428Z"
   },
   {
    "duration": 191,
    "start_time": "2021-12-13T18:42:47.618Z"
   },
   {
    "duration": 58,
    "start_time": "2021-12-13T18:42:47.812Z"
   },
   {
    "duration": 96,
    "start_time": "2021-12-13T18:42:47.873Z"
   },
   {
    "duration": 153,
    "start_time": "2021-12-13T18:42:47.973Z"
   },
   {
    "duration": 190,
    "start_time": "2021-12-13T18:42:48.129Z"
   },
   {
    "duration": 10,
    "start_time": "2021-12-13T18:42:48.321Z"
   },
   {
    "duration": 60,
    "start_time": "2021-12-13T18:42:48.337Z"
   },
   {
    "duration": 145,
    "start_time": "2021-12-13T18:42:48.401Z"
   },
   {
    "duration": 24,
    "start_time": "2021-12-13T18:42:48.549Z"
   },
   {
    "duration": 33,
    "start_time": "2021-12-13T18:42:48.575Z"
   },
   {
    "duration": 84,
    "start_time": "2021-12-13T18:42:48.611Z"
   },
   {
    "duration": 68,
    "start_time": "2021-12-13T18:42:48.698Z"
   },
   {
    "duration": 13,
    "start_time": "2021-12-13T18:42:48.768Z"
   },
   {
    "duration": 51,
    "start_time": "2021-12-13T18:42:48.784Z"
   },
   {
    "duration": 34,
    "start_time": "2021-12-13T18:42:48.838Z"
   },
   {
    "duration": 44,
    "start_time": "2021-12-13T18:42:48.874Z"
   },
   {
    "duration": 13,
    "start_time": "2021-12-13T18:42:48.921Z"
   },
   {
    "duration": 19,
    "start_time": "2021-12-13T18:42:48.937Z"
   },
   {
    "duration": 7,
    "start_time": "2021-12-13T18:42:48.958Z"
   },
   {
    "duration": 9,
    "start_time": "2021-12-13T18:42:48.968Z"
   },
   {
    "duration": 45,
    "start_time": "2021-12-13T18:42:48.979Z"
   },
   {
    "duration": 27,
    "start_time": "2021-12-13T18:42:49.026Z"
   },
   {
    "duration": 26,
    "start_time": "2021-12-13T18:42:49.055Z"
   },
   {
    "duration": 72,
    "start_time": "2021-12-13T18:42:49.083Z"
   },
   {
    "duration": 1056,
    "start_time": "2021-12-13T18:42:49.160Z"
   },
   {
    "duration": 9,
    "start_time": "2021-12-13T18:42:50.223Z"
   },
   {
    "duration": 4538,
    "start_time": "2021-12-13T18:42:50.234Z"
   },
   {
    "duration": 27,
    "start_time": "2021-12-13T18:42:54.774Z"
   },
   {
    "duration": 35,
    "start_time": "2021-12-13T18:42:54.804Z"
   },
   {
    "duration": 14,
    "start_time": "2021-12-13T18:42:54.842Z"
   },
   {
    "duration": 64,
    "start_time": "2021-12-13T18:42:54.858Z"
   },
   {
    "duration": 6,
    "start_time": "2021-12-13T18:42:54.925Z"
   },
   {
    "duration": 17,
    "start_time": "2021-12-13T18:42:54.934Z"
   },
   {
    "duration": 17,
    "start_time": "2021-12-13T18:42:54.954Z"
   },
   {
    "duration": 59,
    "start_time": "2021-12-13T18:42:54.973Z"
   },
   {
    "duration": 73,
    "start_time": "2021-12-13T18:42:55.034Z"
   },
   {
    "duration": 64,
    "start_time": "2021-12-13T18:42:55.109Z"
   },
   {
    "duration": 70,
    "start_time": "2021-12-13T18:42:55.176Z"
   },
   {
    "duration": 54,
    "start_time": "2021-12-13T18:42:55.249Z"
   },
   {
    "duration": 72,
    "start_time": "2021-12-13T18:42:55.306Z"
   },
   {
    "duration": 81,
    "start_time": "2021-12-13T18:42:55.381Z"
   },
   {
    "duration": 8,
    "start_time": "2021-12-13T18:44:17.602Z"
   },
   {
    "duration": 9,
    "start_time": "2021-12-13T18:44:24.338Z"
   },
   {
    "duration": 9,
    "start_time": "2021-12-13T18:44:27.069Z"
   },
   {
    "duration": 84,
    "start_time": "2021-12-13T18:44:41.126Z"
   },
   {
    "duration": 17,
    "start_time": "2021-12-13T18:44:41.224Z"
   },
   {
    "duration": 33,
    "start_time": "2021-12-13T18:44:41.245Z"
   },
   {
    "duration": 7,
    "start_time": "2021-12-13T18:44:41.281Z"
   },
   {
    "duration": 4,
    "start_time": "2021-12-13T18:44:41.324Z"
   },
   {
    "duration": 41,
    "start_time": "2021-12-13T18:44:41.330Z"
   },
   {
    "duration": 85,
    "start_time": "2021-12-13T18:44:41.374Z"
   },
   {
    "duration": 14,
    "start_time": "2021-12-13T18:44:41.463Z"
   },
   {
    "duration": 25,
    "start_time": "2021-12-13T18:44:41.480Z"
   },
   {
    "duration": 76,
    "start_time": "2021-12-13T18:44:41.507Z"
   },
   {
    "duration": 41,
    "start_time": "2021-12-13T18:44:41.586Z"
   },
   {
    "duration": 14,
    "start_time": "2021-12-13T18:44:41.630Z"
   },
   {
    "duration": 51,
    "start_time": "2021-12-13T18:44:41.646Z"
   },
   {
    "duration": 47,
    "start_time": "2021-12-13T18:44:41.699Z"
   },
   {
    "duration": 10,
    "start_time": "2021-12-13T18:44:41.748Z"
   },
   {
    "duration": 23,
    "start_time": "2021-12-13T18:44:41.760Z"
   },
   {
    "duration": 31,
    "start_time": "2021-12-13T18:44:41.785Z"
   },
   {
    "duration": 19,
    "start_time": "2021-12-13T18:44:41.818Z"
   },
   {
    "duration": 28,
    "start_time": "2021-12-13T18:44:41.839Z"
   },
   {
    "duration": 33,
    "start_time": "2021-12-13T18:44:41.869Z"
   },
   {
    "duration": 9,
    "start_time": "2021-12-13T18:44:41.904Z"
   },
   {
    "duration": 77,
    "start_time": "2021-12-13T18:44:48.480Z"
   },
   {
    "duration": 17,
    "start_time": "2021-12-13T18:44:48.560Z"
   },
   {
    "duration": 66,
    "start_time": "2021-12-13T18:44:48.580Z"
   },
   {
    "duration": 8,
    "start_time": "2021-12-13T18:44:48.648Z"
   },
   {
    "duration": 20,
    "start_time": "2021-12-13T18:44:48.658Z"
   },
   {
    "duration": 28,
    "start_time": "2021-12-13T18:44:48.680Z"
   },
   {
    "duration": 64,
    "start_time": "2021-12-13T18:44:48.710Z"
   },
   {
    "duration": 9,
    "start_time": "2021-12-13T18:44:48.778Z"
   },
   {
    "duration": 37,
    "start_time": "2021-12-13T18:44:48.789Z"
   },
   {
    "duration": 65,
    "start_time": "2021-12-13T18:44:48.828Z"
   },
   {
    "duration": 35,
    "start_time": "2021-12-13T18:44:48.895Z"
   },
   {
    "duration": 21,
    "start_time": "2021-12-13T18:44:48.932Z"
   },
   {
    "duration": 24,
    "start_time": "2021-12-13T18:44:48.956Z"
   },
   {
    "duration": 56,
    "start_time": "2021-12-13T18:44:48.982Z"
   },
   {
    "duration": 10,
    "start_time": "2021-12-13T18:44:49.040Z"
   },
   {
    "duration": 18,
    "start_time": "2021-12-13T18:44:49.052Z"
   },
   {
    "duration": 35,
    "start_time": "2021-12-13T18:44:49.072Z"
   },
   {
    "duration": 19,
    "start_time": "2021-12-13T18:44:49.109Z"
   },
   {
    "duration": 36,
    "start_time": "2021-12-13T18:44:49.130Z"
   },
   {
    "duration": 30,
    "start_time": "2021-12-13T18:44:49.168Z"
   },
   {
    "duration": 27,
    "start_time": "2021-12-13T18:44:49.200Z"
   },
   {
    "duration": 92,
    "start_time": "2021-12-13T18:45:11.905Z"
   },
   {
    "duration": 38,
    "start_time": "2021-12-13T18:45:12.001Z"
   },
   {
    "duration": 76,
    "start_time": "2021-12-13T18:45:12.043Z"
   },
   {
    "duration": 367,
    "start_time": "2021-12-13T18:45:12.122Z"
   },
   {
    "duration": 205,
    "start_time": "2021-12-13T18:45:12.492Z"
   },
   {
    "duration": 127,
    "start_time": "2021-12-13T18:45:12.700Z"
   },
   {
    "duration": 313,
    "start_time": "2021-12-13T18:45:12.830Z"
   },
   {
    "duration": 609,
    "start_time": "2021-12-13T18:45:13.149Z"
   },
   {
    "duration": 222,
    "start_time": "2021-12-13T18:45:13.761Z"
   },
   {
    "duration": 146,
    "start_time": "2021-12-13T18:45:13.986Z"
   },
   {
    "duration": 17,
    "start_time": "2021-12-13T18:45:14.135Z"
   },
   {
    "duration": 14,
    "start_time": "2021-12-13T18:45:14.155Z"
   },
   {
    "duration": 56,
    "start_time": "2021-12-13T18:45:14.172Z"
   },
   {
    "duration": 35,
    "start_time": "2021-12-13T18:45:14.230Z"
   },
   {
    "duration": 9,
    "start_time": "2021-12-13T18:45:14.268Z"
   },
   {
    "duration": 10,
    "start_time": "2021-12-13T18:45:14.280Z"
   },
   {
    "duration": 10,
    "start_time": "2021-12-13T18:45:14.324Z"
   },
   {
    "duration": 25,
    "start_time": "2021-12-13T18:45:14.336Z"
   },
   {
    "duration": 24,
    "start_time": "2021-12-13T18:45:14.363Z"
   },
   {
    "duration": 19,
    "start_time": "2021-12-13T18:45:14.390Z"
   },
   {
    "duration": 27,
    "start_time": "2021-12-13T18:45:14.411Z"
   },
   {
    "duration": 17,
    "start_time": "2021-12-13T18:45:14.441Z"
   },
   {
    "duration": 16,
    "start_time": "2021-12-13T18:47:45.161Z"
   },
   {
    "duration": 18,
    "start_time": "2021-12-13T18:48:33.800Z"
   },
   {
    "duration": 21,
    "start_time": "2021-12-13T18:49:41.778Z"
   },
   {
    "duration": 16,
    "start_time": "2021-12-13T18:50:02.293Z"
   },
   {
    "duration": 75,
    "start_time": "2021-12-13T18:53:06.829Z"
   },
   {
    "duration": 302,
    "start_time": "2021-12-13T18:53:06.906Z"
   },
   {
    "duration": 337,
    "start_time": "2021-12-13T18:53:07.212Z"
   },
   {
    "duration": 367,
    "start_time": "2021-12-13T18:53:07.553Z"
   },
   {
    "duration": 331,
    "start_time": "2021-12-13T18:53:07.922Z"
   },
   {
    "duration": 404,
    "start_time": "2021-12-13T18:53:08.255Z"
   },
   {
    "duration": 497,
    "start_time": "2021-12-13T18:53:08.661Z"
   },
   {
    "duration": 201,
    "start_time": "2021-12-13T18:53:09.164Z"
   },
   {
    "duration": 151,
    "start_time": "2021-12-13T18:53:09.368Z"
   },
   {
    "duration": 333,
    "start_time": "2021-12-13T18:53:09.521Z"
   },
   {
    "duration": 406,
    "start_time": "2021-12-13T18:53:09.857Z"
   },
   {
    "duration": 504,
    "start_time": "2021-12-13T18:53:10.265Z"
   },
   {
    "duration": 325,
    "start_time": "2021-12-13T18:53:10.771Z"
   },
   {
    "duration": 529,
    "start_time": "2021-12-13T18:53:11.098Z"
   },
   {
    "duration": 255,
    "start_time": "2021-12-13T18:53:11.629Z"
   },
   {
    "duration": 874,
    "start_time": "2021-12-13T18:53:11.886Z"
   },
   {
    "duration": 289,
    "start_time": "2021-12-13T18:53:12.763Z"
   },
   {
    "duration": 282,
    "start_time": "2021-12-13T18:53:13.054Z"
   },
   {
    "duration": 283,
    "start_time": "2021-12-13T18:53:13.339Z"
   },
   {
    "duration": 248,
    "start_time": "2021-12-13T18:53:13.626Z"
   },
   {
    "duration": 300,
    "start_time": "2021-12-13T18:53:13.877Z"
   },
   {
    "duration": 292,
    "start_time": "2021-12-13T18:53:14.180Z"
   },
   {
    "duration": 268,
    "start_time": "2021-12-13T18:53:14.477Z"
   },
   {
    "duration": 313,
    "start_time": "2021-12-13T18:53:14.748Z"
   },
   {
    "duration": 531,
    "start_time": "2021-12-13T18:53:15.064Z"
   },
   {
    "duration": 297,
    "start_time": "2021-12-13T18:56:32.321Z"
   },
   {
    "duration": 6,
    "start_time": "2021-12-13T18:56:51.444Z"
   },
   {
    "duration": 6,
    "start_time": "2021-12-13T18:57:01.307Z"
   },
   {
    "duration": 5,
    "start_time": "2021-12-13T18:57:07.396Z"
   },
   {
    "duration": 19,
    "start_time": "2021-12-13T18:58:08.553Z"
   },
   {
    "duration": 77,
    "start_time": "2021-12-13T19:00:51.298Z"
   },
   {
    "duration": 369,
    "start_time": "2021-12-13T19:00:51.379Z"
   },
   {
    "duration": 463,
    "start_time": "2021-12-13T19:00:51.752Z"
   },
   {
    "duration": 208,
    "start_time": "2021-12-13T19:00:52.218Z"
   },
   {
    "duration": 464,
    "start_time": "2021-12-13T19:00:52.429Z"
   },
   {
    "duration": 459,
    "start_time": "2021-12-13T19:00:52.896Z"
   },
   {
    "duration": 369,
    "start_time": "2021-12-13T19:00:53.357Z"
   },
   {
    "duration": 492,
    "start_time": "2021-12-13T19:00:53.732Z"
   },
   {
    "duration": 450,
    "start_time": "2021-12-13T19:00:54.228Z"
   },
   {
    "duration": 353,
    "start_time": "2021-12-13T19:00:54.681Z"
   },
   {
    "duration": 395,
    "start_time": "2021-12-13T19:00:55.036Z"
   },
   {
    "duration": 502,
    "start_time": "2021-12-13T19:00:55.433Z"
   },
   {
    "duration": 262,
    "start_time": "2021-12-13T19:00:55.938Z"
   },
   {
    "duration": 315,
    "start_time": "2021-12-13T19:00:56.203Z"
   },
   {
    "duration": 323,
    "start_time": "2021-12-13T19:00:56.521Z"
   },
   {
    "duration": 996,
    "start_time": "2021-12-13T19:00:56.847Z"
   },
   {
    "duration": 622,
    "start_time": "2021-12-13T19:00:57.845Z"
   },
   {
    "duration": 783,
    "start_time": "2021-12-13T19:00:58.471Z"
   },
   {
    "duration": 552,
    "start_time": "2021-12-13T19:00:59.257Z"
   },
   {
    "duration": 1058,
    "start_time": "2021-12-13T19:00:59.812Z"
   },
   {
    "duration": 1422,
    "start_time": "2021-12-13T19:01:00.872Z"
   },
   {
    "duration": 614,
    "start_time": "2021-12-13T19:01:02.296Z"
   },
   {
    "duration": 642,
    "start_time": "2021-12-13T19:01:02.915Z"
   },
   {
    "duration": 1001,
    "start_time": "2021-12-13T19:01:03.560Z"
   },
   {
    "duration": 1291,
    "start_time": "2021-12-13T19:01:04.563Z"
   },
   {
    "duration": 874,
    "start_time": "2021-12-13T19:01:05.856Z"
   },
   {
    "duration": 1652,
    "start_time": "2021-12-13T19:01:06.732Z"
   },
   {
    "duration": 7,
    "start_time": "2021-12-13T19:01:08.387Z"
   },
   {
    "duration": 5467,
    "start_time": "2021-12-13T19:01:08.397Z"
   },
   {
    "duration": 30,
    "start_time": "2021-12-13T19:01:13.867Z"
   },
   {
    "duration": 1309,
    "start_time": "2021-12-13T19:01:13.899Z"
   },
   {
    "duration": 1137,
    "start_time": "2021-12-13T19:01:15.211Z"
   },
   {
    "duration": 1215,
    "start_time": "2021-12-13T19:01:16.352Z"
   },
   {
    "duration": 1313,
    "start_time": "2021-12-13T19:01:17.570Z"
   },
   {
    "duration": 1221,
    "start_time": "2021-12-13T19:01:18.886Z"
   },
   {
    "duration": 1635,
    "start_time": "2021-12-13T19:01:20.110Z"
   },
   {
    "duration": 2082,
    "start_time": "2021-12-13T19:01:21.748Z"
   },
   {
    "duration": 2208,
    "start_time": "2021-12-13T19:01:23.833Z"
   },
   {
    "duration": 2166,
    "start_time": "2021-12-13T19:01:26.044Z"
   },
   {
    "duration": 1599,
    "start_time": "2021-12-13T19:01:28.213Z"
   },
   {
    "duration": 2456,
    "start_time": "2021-12-13T19:01:29.815Z"
   },
   {
    "duration": 2362,
    "start_time": "2021-12-13T19:01:32.273Z"
   },
   {
    "duration": 2093,
    "start_time": "2021-12-13T19:01:34.638Z"
   },
   {
    "duration": 308,
    "start_time": "2021-12-13T19:33:47.902Z"
   },
   {
    "duration": 86,
    "start_time": "2021-12-13T19:36:33.298Z"
   },
   {
    "duration": 380,
    "start_time": "2021-12-13T19:36:33.387Z"
   },
   {
    "duration": 101,
    "start_time": "2021-12-13T19:36:33.771Z"
   },
   {
    "duration": 190,
    "start_time": "2021-12-13T19:36:33.876Z"
   },
   {
    "duration": 177,
    "start_time": "2021-12-13T19:36:34.069Z"
   },
   {
    "duration": 305,
    "start_time": "2021-12-13T19:36:34.249Z"
   },
   {
    "duration": 191,
    "start_time": "2021-12-13T19:36:34.557Z"
   },
   {
    "duration": 69,
    "start_time": "2021-12-13T19:36:34.754Z"
   },
   {
    "duration": 127,
    "start_time": "2021-12-13T19:36:34.826Z"
   },
   {
    "duration": 135,
    "start_time": "2021-12-13T19:36:34.955Z"
   },
   {
    "duration": 104,
    "start_time": "2021-12-13T19:36:35.093Z"
   },
   {
    "duration": 325,
    "start_time": "2021-12-13T19:36:35.200Z"
   },
   {
    "duration": 344,
    "start_time": "2021-12-13T19:36:35.529Z"
   },
   {
    "duration": 170,
    "start_time": "2021-12-13T19:36:35.876Z"
   },
   {
    "duration": 135,
    "start_time": "2021-12-13T19:36:36.049Z"
   },
   {
    "duration": 79,
    "start_time": "2021-12-13T19:36:36.187Z"
   },
   {
    "duration": 153,
    "start_time": "2021-12-13T19:36:36.270Z"
   },
   {
    "duration": 359,
    "start_time": "2021-12-13T19:36:36.426Z"
   },
   {
    "duration": 313,
    "start_time": "2021-12-13T19:36:36.788Z"
   },
   {
    "duration": 250,
    "start_time": "2021-12-13T19:36:37.103Z"
   },
   {
    "duration": 168,
    "start_time": "2021-12-13T19:36:37.356Z"
   },
   {
    "duration": 212,
    "start_time": "2021-12-13T19:36:37.526Z"
   },
   {
    "duration": 129,
    "start_time": "2021-12-13T19:36:37.743Z"
   },
   {
    "duration": 167,
    "start_time": "2021-12-13T19:36:37.876Z"
   },
   {
    "duration": 208,
    "start_time": "2021-12-13T19:36:38.045Z"
   },
   {
    "duration": 187,
    "start_time": "2021-12-13T19:36:38.256Z"
   },
   {
    "duration": 1049,
    "start_time": "2021-12-13T19:36:38.445Z"
   },
   {
    "duration": 8,
    "start_time": "2021-12-13T19:36:39.498Z"
   },
   {
    "duration": 4287,
    "start_time": "2021-12-13T19:36:39.508Z"
   },
   {
    "duration": 42,
    "start_time": "2021-12-13T19:36:43.798Z"
   },
   {
    "duration": 242,
    "start_time": "2021-12-13T19:36:43.843Z"
   },
   {
    "duration": 105,
    "start_time": "2021-12-13T19:36:44.089Z"
   },
   {
    "duration": 125,
    "start_time": "2021-12-13T19:36:44.196Z"
   },
   {
    "duration": 70,
    "start_time": "2021-12-13T19:36:44.323Z"
   },
   {
    "duration": 98,
    "start_time": "2021-12-13T19:36:44.395Z"
   },
   {
    "duration": 175,
    "start_time": "2021-12-13T19:36:44.496Z"
   },
   {
    "duration": 260,
    "start_time": "2021-12-13T19:36:44.673Z"
   },
   {
    "duration": 423,
    "start_time": "2021-12-13T19:36:44.935Z"
   },
   {
    "duration": 123,
    "start_time": "2021-12-13T19:36:45.361Z"
   },
   {
    "duration": 116,
    "start_time": "2021-12-13T19:36:45.486Z"
   },
   {
    "duration": 232,
    "start_time": "2021-12-13T19:36:45.605Z"
   },
   {
    "duration": 210,
    "start_time": "2021-12-13T19:36:45.841Z"
   },
   {
    "duration": 424,
    "start_time": "2021-12-13T19:36:46.055Z"
   },
   {
    "duration": 529,
    "start_time": "2022-03-30T09:25:21.362Z"
   },
   {
    "duration": 17,
    "start_time": "2022-03-30T09:25:21.894Z"
   },
   {
    "duration": 37,
    "start_time": "2022-03-30T09:25:21.912Z"
   },
   {
    "duration": 5,
    "start_time": "2022-03-30T09:25:21.952Z"
   },
   {
    "duration": 9,
    "start_time": "2022-03-30T09:25:21.959Z"
   },
   {
    "duration": 20,
    "start_time": "2022-03-30T09:25:21.970Z"
   },
   {
    "duration": 62,
    "start_time": "2022-03-30T09:25:21.992Z"
   },
   {
    "duration": 9,
    "start_time": "2022-03-30T09:25:22.056Z"
   },
   {
    "duration": 13,
    "start_time": "2022-03-30T09:25:22.066Z"
   },
   {
    "duration": 61,
    "start_time": "2022-03-30T09:25:22.082Z"
   },
   {
    "duration": 16,
    "start_time": "2022-03-30T09:25:22.144Z"
   },
   {
    "duration": 10,
    "start_time": "2022-03-30T09:25:22.162Z"
   },
   {
    "duration": 20,
    "start_time": "2022-03-30T09:25:22.175Z"
   },
   {
    "duration": 57,
    "start_time": "2022-03-30T09:25:22.198Z"
   },
   {
    "duration": 8,
    "start_time": "2022-03-30T09:25:22.257Z"
   },
   {
    "duration": 10,
    "start_time": "2022-03-30T09:25:22.267Z"
   },
   {
    "duration": 12,
    "start_time": "2022-03-30T09:25:22.279Z"
   },
   {
    "duration": 9,
    "start_time": "2022-03-30T09:25:22.293Z"
   },
   {
    "duration": 11,
    "start_time": "2022-03-30T09:25:22.332Z"
   },
   {
    "duration": 26,
    "start_time": "2022-03-30T09:25:22.345Z"
   },
   {
    "duration": 10,
    "start_time": "2022-03-30T09:25:22.373Z"
   },
   {
    "duration": 10,
    "start_time": "2022-03-30T09:25:22.385Z"
   },
   {
    "duration": 8,
    "start_time": "2022-03-30T09:25:22.397Z"
   },
   {
    "duration": 12,
    "start_time": "2022-03-30T09:25:22.433Z"
   },
   {
    "duration": 19,
    "start_time": "2022-03-30T09:25:22.447Z"
   },
   {
    "duration": 35,
    "start_time": "2022-03-30T09:25:22.468Z"
   },
   {
    "duration": 729,
    "start_time": "2022-03-30T09:25:22.531Z"
   },
   {
    "duration": 7,
    "start_time": "2022-03-30T09:25:23.264Z"
   },
   {
    "duration": 3068,
    "start_time": "2022-03-30T09:25:23.272Z"
   },
   {
    "duration": 14,
    "start_time": "2022-03-30T09:25:26.342Z"
   },
   {
    "duration": 16,
    "start_time": "2022-03-30T09:25:26.357Z"
   },
   {
    "duration": 12,
    "start_time": "2022-03-30T09:25:26.375Z"
   },
   {
    "duration": 52,
    "start_time": "2022-03-30T09:25:26.389Z"
   },
   {
    "duration": 5,
    "start_time": "2022-03-30T09:25:26.443Z"
   },
   {
    "duration": 7,
    "start_time": "2022-03-30T09:25:26.450Z"
   },
   {
    "duration": 12,
    "start_time": "2022-03-30T09:25:26.459Z"
   },
   {
    "duration": 19,
    "start_time": "2022-03-30T09:25:26.472Z"
   },
   {
    "duration": 74,
    "start_time": "2022-03-30T09:25:26.492Z"
   },
   {
    "duration": 39,
    "start_time": "2022-03-30T09:25:26.568Z"
   },
   {
    "duration": 51,
    "start_time": "2022-03-30T09:25:26.608Z"
   },
   {
    "duration": 35,
    "start_time": "2022-03-30T09:25:26.661Z"
   },
   {
    "duration": 70,
    "start_time": "2022-03-30T09:25:26.698Z"
   },
   {
    "duration": 37,
    "start_time": "2022-03-30T09:25:26.770Z"
   },
   {
    "duration": 88,
    "start_time": "2022-03-30T09:36:45.298Z"
   },
   {
    "duration": 18,
    "start_time": "2022-03-30T09:36:45.388Z"
   },
   {
    "duration": 45,
    "start_time": "2022-03-30T09:36:45.409Z"
   },
   {
    "duration": 6,
    "start_time": "2022-03-30T09:36:45.457Z"
   },
   {
    "duration": 5,
    "start_time": "2022-03-30T09:36:45.465Z"
   },
   {
    "duration": 17,
    "start_time": "2022-03-30T09:36:45.472Z"
   },
   {
    "duration": 43,
    "start_time": "2022-03-30T09:36:45.531Z"
   },
   {
    "duration": 9,
    "start_time": "2022-03-30T09:36:45.576Z"
   },
   {
    "duration": 13,
    "start_time": "2022-03-30T09:36:45.586Z"
   },
   {
    "duration": 42,
    "start_time": "2022-03-30T09:36:45.633Z"
   },
   {
    "duration": 17,
    "start_time": "2022-03-30T09:36:45.677Z"
   },
   {
    "duration": 39,
    "start_time": "2022-03-30T09:36:45.696Z"
   },
   {
    "duration": 28,
    "start_time": "2022-03-30T09:36:45.736Z"
   },
   {
    "duration": 28,
    "start_time": "2022-03-30T09:36:45.767Z"
   },
   {
    "duration": 34,
    "start_time": "2022-03-30T09:36:45.797Z"
   },
   {
    "duration": 11,
    "start_time": "2022-03-30T09:36:45.833Z"
   },
   {
    "duration": 12,
    "start_time": "2022-03-30T09:36:45.845Z"
   },
   {
    "duration": 12,
    "start_time": "2022-03-30T09:36:45.859Z"
   },
   {
    "duration": 10,
    "start_time": "2022-03-30T09:36:45.873Z"
   },
   {
    "duration": 48,
    "start_time": "2022-03-30T09:36:45.885Z"
   },
   {
    "duration": 8,
    "start_time": "2022-03-30T09:36:45.935Z"
   },
   {
    "duration": 7,
    "start_time": "2022-03-30T09:36:45.944Z"
   },
   {
    "duration": 7,
    "start_time": "2022-03-30T09:36:45.953Z"
   },
   {
    "duration": 11,
    "start_time": "2022-03-30T09:36:45.962Z"
   },
   {
    "duration": 58,
    "start_time": "2022-03-30T09:36:45.975Z"
   },
   {
    "duration": 34,
    "start_time": "2022-03-30T09:36:46.035Z"
   },
   {
    "duration": 742,
    "start_time": "2022-03-30T09:36:46.071Z"
   },
   {
    "duration": 7,
    "start_time": "2022-03-30T09:36:46.817Z"
   },
   {
    "duration": 2940,
    "start_time": "2022-03-30T09:36:46.832Z"
   },
   {
    "duration": 14,
    "start_time": "2022-03-30T09:36:49.774Z"
   },
   {
    "duration": 17,
    "start_time": "2022-03-30T09:36:49.789Z"
   },
   {
    "duration": 33,
    "start_time": "2022-03-30T09:36:49.808Z"
   },
   {
    "duration": 24,
    "start_time": "2022-03-30T09:36:49.843Z"
   },
   {
    "duration": 5,
    "start_time": "2022-03-30T09:36:49.868Z"
   },
   {
    "duration": 13,
    "start_time": "2022-03-30T09:36:49.875Z"
   },
   {
    "duration": 12,
    "start_time": "2022-03-30T09:36:49.889Z"
   },
   {
    "duration": 42,
    "start_time": "2022-03-30T09:36:49.902Z"
   },
   {
    "duration": 43,
    "start_time": "2022-03-30T09:36:49.946Z"
   },
   {
    "duration": 72,
    "start_time": "2022-03-30T09:36:49.991Z"
   },
   {
    "duration": 37,
    "start_time": "2022-03-30T09:36:50.065Z"
   },
   {
    "duration": 53,
    "start_time": "2022-03-30T09:36:50.104Z"
   },
   {
    "duration": 37,
    "start_time": "2022-03-30T09:36:50.159Z"
   },
   {
    "duration": 62,
    "start_time": "2022-03-30T09:36:50.198Z"
   }
  ],
  "kernelspec": {
   "display_name": "Python 3 (ipykernel)",
   "language": "python",
   "name": "python3"
  },
  "language_info": {
   "codemirror_mode": {
    "name": "ipython",
    "version": 3
   },
   "file_extension": ".py",
   "mimetype": "text/x-python",
   "name": "python",
   "nbconvert_exporter": "python",
   "pygments_lexer": "ipython3",
   "version": "3.9.5"
  },
  "toc": {
   "base_numbering": 1,
   "nav_menu": {},
   "number_sections": true,
   "sideBar": true,
   "skip_h1_title": true,
   "title_cell": "Table of Contents",
   "title_sidebar": "Contents",
   "toc_cell": false,
   "toc_position": {},
   "toc_section_display": true,
   "toc_window_display": false
  }
 },
 "nbformat": 4,
 "nbformat_minor": 2
}
